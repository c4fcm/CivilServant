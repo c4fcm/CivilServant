{
 "cells": [
  {
   "cell_type": "markdown",
   "metadata": {},
   "source": [
    "## Getting 10,000 urls from DMCA-COX\n",
    "-  ssh -N dmca@cox.media.mit.edu -L 3310:cox.media.mit.edu:3306\n",
    "```\n",
    "# import pandas as pd\n",
    "# from sqlalchemy import create_engine\n",
    "# constr= 'mysql://civilservant@localhost:3310/civilservant_production'\n",
    "# con = create_engine(constr)\n",
    "# con.execute('show tables;').fetchall()\n",
    "```"
   ]
  },
  {
   "cell_type": "code",
   "execution_count": null,
   "metadata": {
    "collapsed": true
   },
   "outputs": [
    {
     "data": {
      "text/plain": [
       "(2761, 10000)"
      ]
     },
     "execution_count": 1,
     "metadata": {},
     "output_type": "execute_result"
    }
   ],
   "source": [
    "from utils.common import DbEngine\n",
    "import os\n",
    "import inspect\n",
    "from app.models import TwitterStatus\n",
    "import json\n",
    "from sqlalchemy.sql.expression import func as sqlfunc\n",
    "from functools import reduce\n",
    "from url_unshortener import bulkUnshorten\n",
    "\n",
    "BASE_DIR = os.path.join(os.path.dirname(os.path.abspath(inspect.getfile(inspect.currentframe()))), \"..\")\n",
    "ENV = 'development'\n",
    "db_session = DbEngine(os.path.join(BASE_DIR, \"config\") + \"/{env}.json\".format(env=ENV)).new_session()\n",
    "\n",
    "STATUSES_TO_GET = 10000\n",
    "json_fname = f'../tests/fixture_data/twitter_statuses_{STATUSES_TO_GET}.json'\n",
    "try:\n",
    "    status_urls_flat = json.load(open(json_fname,'r'))\n",
    "except FileNotFoundError:\n",
    "    def get_url_part(status):\n",
    "        try:\n",
    "            status_data = json.loads(status.status_data)\n",
    "            return status_data['entities']['urls']\n",
    "        except TypeError:\n",
    "            # print(status.id)\n",
    "            return []\n",
    "        \n",
    "    statuses = db_session.query(TwitterStatus).order_by(sqlfunc.rand()).limit(STATUSES_TO_GET).all()\n",
    "    assert len(statuses) == STATUSES_TO_GET\n",
    "        \n",
    "    status_urls = [get_url_part(status) for status in statuses]\n",
    "    \n",
    "    status_urls_flat = []\n",
    "    for status_url in status_urls:\n",
    "        for url_dict in status_url:\n",
    "                # print(url_dict)\n",
    "                status_urls_flat.append(url_dict['url'])\n",
    "    json.dump(status_urls_flat, open(json_fname,'w'))\n",
    "\n",
    "status_urls_flat[:5]\n",
    "## proportion of statuses having urls\n",
    "len(status_urls_flat),  STATUSES_TO_GET"
   ]
  },
  {
   "cell_type": "code",
   "execution_count": null,
   "metadata": {},
   "outputs": [],
   "source": [
    "%timeit -r 1 -n 1 bulkUnshorten(status_urls_flat[:10])\n"
   ]
  },
  {
   "cell_type": "code",
   "execution_count": 3,
   "metadata": {
    "collapsed": false
   },
   "outputs": [
    {
     "name": "stdout",
     "output_type": "stream",
     "text": [
      "8.96 s ± 0 ns per loop (mean ± std. dev. of 1 run, 1 loop each)\n"
     ]
    }
   ],
   "source": [
    "%timeit -r 1 -n 1 bulkUnshorten(status_urls_flat[:100])"
   ]
  },
  {
   "cell_type": "code",
   "execution_count": 8,
   "metadata": {
    "collapsed": true
   },
   "outputs": [
    {
     "name": "stdout",
     "output_type": "stream",
     "text": [
      "1min 33s ± 0 ns per loop (mean ± std. dev. of 1 run, 1 loop each)\n"
     ]
    }
   ],
   "source": [
    "%timeit -r 1 -n 1 bulkUnshorten(status_urls_flat[:1000])"
   ]
  },
  {
   "cell_type": "code",
   "execution_count": 10,
   "metadata": {},
   "outputs": [
    {
     "name": "stdout",
     "output_type": "stream",
     "text": [
      "2min 21s ± 0 ns per loop (mean ± std. dev. of 1 run, 1 loop each)\n"
     ]
    }
   ],
   "source": [
    "%timeit -r 1 -n 1 bulkUnshorten(status_urls_flat[:10000])"
   ]
  },
  {
   "cell_type": "code",
   "execution_count": 6,
   "metadata": {},
   "outputs": [
    {
     "data": {
      "text/plain": [
       "473243"
      ]
     },
     "execution_count": 6,
     "metadata": {},
     "output_type": "execute_result"
    }
   ],
   "source": [
    "db_session.query(TwitterStatus).count()"
   ]
  },
  {
   "cell_type": "code",
   "execution_count": null,
   "metadata": {},
   "outputs": [],
   "source": []
  },
  {
   "cell_type": "code",
   "execution_count": 13,
   "metadata": {},
   "outputs": [
    {
     "data": {
      "text/plain": [
       "270.0"
      ]
     },
     "execution_count": 13,
     "metadata": {},
     "output_type": "execute_result"
    }
   ],
   "source": [
    "total_tweets = 38000000\n",
    "tweet_url_prop = 0.27\n",
    "urls_per_second = 10 \n",
    "urls_per_minute = 650\n",
    "urls_per_hour = 38000\n",
    "\n",
    "total_tweets * tweet_url_prop / urls_per_hour"
   ]
  },
  {
   "cell_type": "code",
   "execution_count": null,
   "metadata": {},
   "outputs": [],
   "source": []
  }
 ],
 "metadata": {
  "kernelspec": {
   "display_name": "Python 3",
   "language": "python",
   "name": "python3"
  },
  "language_info": {
   "codemirror_mode": {
    "name": "ipython",
    "version": 3
   },
   "file_extension": ".py",
   "mimetype": "text/x-python",
   "name": "python",
   "nbconvert_exporter": "python",
   "pygments_lexer": "ipython3",
   "version": "3.6.5"
  }
 },
 "nbformat": 4,
 "nbformat_minor": 1
}
