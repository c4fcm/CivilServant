{
 "cells": [
  {
   "cell_type": "markdown",
   "metadata": {},
   "source": [
    "## Getting 10,000 urls from DMCA-COX\n",
    "-  ssh -N dmca@cox.media.mit.edu -L 3310:cox.media.mit.edu:3306"
   ]
  },
  {
   "cell_type": "code",
   "execution_count": 1,
   "metadata": {
    "collapsed": false
   },
   "outputs": [],
   "source": [
    "from utils.common import DbEngine\n",
    "import os\n",
    "import inspect\n",
    "from app.models import TwitterStatus\n",
    "import json\n",
    "from sqlalchemy.sql.expression import func as sqlfunc\n",
    "from functools import reduce\n",
    "from url_unshortener import bulkUnshorten\n",
    "\n",
    "BASE_DIR = os.path.join(os.path.dirname(os.path.abspath(inspect.getfile(inspect.currentframe()))), \"..\")\n",
    "ENV = 'production_over_ssh'\n",
    "db_session = DbEngine(os.path.join(BASE_DIR, \"config\") + \"/{env}.json\".format(env=ENV)).new_session()\n"
   ]
  },
  {
   "cell_type": "code",
   "execution_count": 2,
   "metadata": {},
   "outputs": [
    {
     "data": {
      "text/plain": [
       "1798"
      ]
     },
     "execution_count": 2,
     "metadata": {},
     "output_type": "execute_result"
    }
   ],
   "source": [
    "# error_uid = 106946342\n",
    "error_uid = 62259528\n",
    "user_statuses = db_session.query(TwitterStatus).filter(TwitterStatus.user_id == str(error_uid)).all()\n",
    "status_urls_flat = []\n",
    "for user_status in user_statuses:\n",
    "    status_data = json.loads(user_status.status_data)\n",
    "    status_url_dicts = status_data['entities']['urls']\n",
    "    just_urls = [d['url'] for d in status_url_dicts]\n",
    "    status_urls_flat.extend(just_urls)\n",
    "len(status_urls_flat)"
   ]
  },
  {
   "cell_type": "code",
   "execution_count": 3,
   "metadata": {
    "collapsed": false
   },
   "outputs": [
    {
     "name": "stdout",
     "output_type": "stream",
     "text": [
      "Unicode error: b'http://m.utusan.com.my/bisnes/korporat/avasb-satssb-bangunkan-kemudahan-mro-di-senai-1.452956#.WL3zw4QPWvs.twitter\\xe8' for obj:\n"
     ]
    },
    {
     "name": "stdout",
     "output_type": "stream",
     "text": [
      "Unicode error: b'http://m.utusan.com.my/bisnes/korporat/avasb-satssb-bangunkan-kemudahan-mro-di-senai-1.452956#.WL3zw4QPWvs.twitter\\xe8' for obj:\n"
     ]
    },
    {
     "name": "stdout",
     "output_type": "stream",
     "text": [
      "Unicode error: b'http://m.utusan.com.my/bisnes/korporat/avasb-satssb-bangunkan-kemudahan-mro-di-senai-1.452956#.WL3zw4QPWvs.twitter\\xe8' for obj:\n"
     ]
    },
    {
     "name": "stdout",
     "output_type": "stream",
     "text": [
      "Unicode error: b'http://m.utusan.com.my/bisnes/korporat/avasb-satssb-bangunkan-kemudahan-mro-di-senai-1.452956#.WL3zw4QPWvs.twitter\\xe8' for obj:\nUnicode error: b'http://m.utusan.com.my/bisnes/korporat/avasb-satssb-bangunkan-kemudahan-mro-di-senai-1.452956#.WL3zw4QPWvs.twitter\\xe8' for obj:\nUnicode error: b'http://m.utusan.com.my/bisnes/korporat/avasb-satssb-bangunkan-kemudahan-mro-di-senai-1.452956#.WL3zw4QPWvs.twitter\\xe8' for obj:\n"
     ]
    },
    {
     "name": "stdout",
     "output_type": "stream",
     "text": [
      "Unicode error: b'http://m.utusan.com.my/bisnes/korporat/avasb-satssb-bangunkan-kemudahan-mro-di-senai-1.452956#.WL3zw4QPWvs.twitter\\xe8' for obj:\nUnicode error: b'http://m.utusan.com.my/bisnes/korporat/avasb-satssb-bangunkan-kemudahan-mro-di-senai-1.452956#.WL3zw4QPWvs.twitter\\xe8' for obj:\nUnicode error: b'http://m.utusan.com.my/bisnes/korporat/avasb-satssb-bangunkan-kemudahan-mro-di-senai-1.452956#.WL3zw4QPWvs.twitter\\xe8' for obj:\n"
     ]
    },
    {
     "name": "stdout",
     "output_type": "stream",
     "text": [
      "Unicode error: b'http://m.utusan.com.my/bisnes/korporat/avasb-satssb-bangunkan-kemudahan-mro-di-senai-1.452956#.WL3zw4QPWvs.twitter\\xe8' for obj:\nUnicode error: b'http://m.utusan.com.my/bisnes/korporat/avasb-satssb-bangunkan-kemudahan-mro-di-senai-1.452956#.WL3zw4QPWvs.twitter\\xe8' for obj:\nUnicode error: b'http://m.utusan.com.my/bisnes/korporat/avasb-satssb-bangunkan-kemudahan-mro-di-senai-1.452956#.WL3zw4QPWvs.twitter\\xe8' for obj:\n"
     ]
    },
    {
     "name": "stdout",
     "output_type": "stream",
     "text": [
      "Unicode error: b'http://m.utusan.com.my/bisnes/korporat/avasb-satssb-bangunkan-kemudahan-mro-di-senai-1.452956#.WL3zw4QPWvs.twitter\\xe8' for obj:\nUnicode error: b'http://m.utusan.com.my/bisnes/korporat/avasb-satssb-bangunkan-kemudahan-mro-di-senai-1.452956#.WL3zw4QPWvs.twitter\\xe8' for obj:\nUnicode error: b'http://m.utusan.com.my/bisnes/korporat/avasb-satssb-bangunkan-kemudahan-mro-di-senai-1.452956#.WL3zw4QPWvs.twitter\\xe8' for obj:\n"
     ]
    },
    {
     "name": "stdout",
     "output_type": "stream",
     "text": [
      "Unicode error: b'http://m.utusan.com.my/bisnes/korporat/avasb-satssb-bangunkan-kemudahan-mro-di-senai-1.452956#.WL3zw4QPWvs.twitter\\xe8' for obj:\nUnicode error: b'http://m.utusan.com.my/bisnes/korporat/avasb-satssb-bangunkan-kemudahan-mro-di-senai-1.452956#.WL3zw4QPWvs.twitter\\xe8' for obj:\nUnicode error: b'http://m.utusan.com.my/bisnes/korporat/avasb-satssb-bangunkan-kemudahan-mro-di-senai-1.452956#.WL3zw4QPWvs.twitter\\xe8' for obj:\n"
     ]
    },
    {
     "name": "stdout",
     "output_type": "stream",
     "text": [
      "Unicode error: b'http://m.utusan.com.my/bisnes/korporat/avasb-satssb-bangunkan-kemudahan-mro-di-senai-1.452956#.WL3zw4QPWvs.twitter\\xe8' for obj:\nUnicode error: b'http://m.utusan.com.my/bisnes/korporat/avasb-satssb-bangunkan-kemudahan-mro-di-senai-1.452956#.WL3zw4QPWvs.twitter\\xe8' for obj:\n"
     ]
    },
    {
     "name": "stdout",
     "output_type": "stream",
     "text": [
      "Unicode error: b'http://m.utusan.com.my/bisnes/korporat/avasb-satssb-bangunkan-kemudahan-mro-di-senai-1.452956#.WL3zw4QPWvs.twitter\\xe8' for obj:\nUnicode error: b'http://m.utusan.com.my/bisnes/korporat/avasb-satssb-bangunkan-kemudahan-mro-di-senai-1.452956#.WL3zw4QPWvs.twitter\\xe8' for obj:\nUnicode error: b'http://m.utusan.com.my/bisnes/korporat/avasb-satssb-bangunkan-kemudahan-mro-di-senai-1.452956#.WL3zw4QPWvs.twitter\\xe8' for obj:\n"
     ]
    },
    {
     "name": "stdout",
     "output_type": "stream",
     "text": [
      "Unicode error: b'http://m.utusan.com.my/bisnes/korporat/avasb-satssb-bangunkan-kemudahan-mro-di-senai-1.452956#.WL3zw4QPWvs.twitter\\xe8' for obj:\n"
     ]
    },
    {
     "name": "stdout",
     "output_type": "stream",
     "text": [
      "Unicode error: b'http://m.utusan.com.my/bisnes/korporat/avasb-satssb-bangunkan-kemudahan-mro-di-senai-1.452956#.WL3zw4QPWvs.twitter\\xe8' for obj:\nUnicode error: b'http://m.utusan.com.my/bisnes/korporat/avasb-satssb-bangunkan-kemudahan-mro-di-senai-1.452956#.WL3zw4QPWvs.twitter\\xe8' for obj:\nUnicode error: b'http://m.utusan.com.my/bisnes/korporat/avasb-satssb-bangunkan-kemudahan-mro-di-senai-1.452956#.WL3zw4QPWvs.twitter\\xe8' for obj:\n"
     ]
    },
    {
     "name": "stdout",
     "output_type": "stream",
     "text": [
      "Unicode error: b'http://m.utusan.com.my/bisnes/korporat/avasb-satssb-bangunkan-kemudahan-mro-di-senai-1.452956#.WL3zw4QPWvs.twitter\\xe8' for obj:\nUnicode error: b'http://m.utusan.com.my/bisnes/korporat/avasb-satssb-bangunkan-kemudahan-mro-di-senai-1.452956#.WL3zw4QPWvs.twitter\\xe8' for obj:\nUnicode error: b'http://m.utusan.com.my/bisnes/korporat/avasb-satssb-bangunkan-kemudahan-mro-di-senai-1.452956#.WL3zw4QPWvs.twitter\\xe8' for obj:\n"
     ]
    },
    {
     "name": "stdout",
     "output_type": "stream",
     "text": [
      "Unicode error: b'http://m.utusan.com.my/bisnes/korporat/avasb-satssb-bangunkan-kemudahan-mro-di-senai-1.452956#.WL3zw4QPWvs.twitter\\xe8' for obj:\nUnicode error: b'http://m.utusan.com.my/bisnes/korporat/avasb-satssb-bangunkan-kemudahan-mro-di-senai-1.452956#.WL3zw4QPWvs.twitter\\xe8' for obj:\nUnicode error: b'http://m.utusan.com.my/bisnes/korporat/avasb-satssb-bangunkan-kemudahan-mro-di-senai-1.452956#.WL3zw4QPWvs.twitter\\xe8' for obj:\n"
     ]
    },
    {
     "name": "stdout",
     "output_type": "stream",
     "text": [
      "Unicode error: b'http://m.utusan.com.my/bisnes/korporat/avasb-satssb-bangunkan-kemudahan-mro-di-senai-1.452956#.WL3zw4QPWvs.twitter\\xe8' for obj:\nUnicode error: b'http://m.utusan.com.my/bisnes/korporat/avasb-satssb-bangunkan-kemudahan-mro-di-senai-1.452956#.WL3zw4QPWvs.twitter\\xe8' for obj:\nUnicode error: b'http://m.utusan.com.my/bisnes/korporat/avasb-satssb-bangunkan-kemudahan-mro-di-senai-1.452956#.WL3zw4QPWvs.twitter\\xe8' for obj:\n"
     ]
    },
    {
     "name": "stdout",
     "output_type": "stream",
     "text": [
      "Unicode error: b'http://m.utusan.com.my/bisnes/korporat/avasb-satssb-bangunkan-kemudahan-mro-di-senai-1.452956#.WL3zw4QPWvs.twitter\\xe8' for obj:\nUnicode error: b'http://m.utusan.com.my/bisnes/korporat/avasb-satssb-bangunkan-kemudahan-mro-di-senai-1.452956#.WL3zw4QPWvs.twitter\\xe8' for obj:\nUnicode error: b'http://m.utusan.com.my/bisnes/korporat/avasb-satssb-bangunkan-kemudahan-mro-di-senai-1.452956#.WL3zw4QPWvs.twitter\\xe8' for obj:\n"
     ]
    },
    {
     "name": "stdout",
     "output_type": "stream",
     "text": [
      "Unicode error: b'http://m.utusan.com.my/bisnes/korporat/avasb-satssb-bangunkan-kemudahan-mro-di-senai-1.452956#.WL3zw4QPWvs.twitter\\xe8' for obj:\nUnicode error: b'http://m.utusan.com.my/bisnes/korporat/avasb-satssb-bangunkan-kemudahan-mro-di-senai-1.452956#.WL3zw4QPWvs.twitter\\xe8' for obj:\n"
     ]
    },
    {
     "name": "stdout",
     "output_type": "stream",
     "text": [
      "Unicode error: b'http://m.utusan.com.my/bisnes/korporat/avasb-satssb-bangunkan-kemudahan-mro-di-senai-1.452956#.WL3zw4QPWvs.twitter\\xe8' for obj:\nUnicode error: b'http://m.utusan.com.my/bisnes/korporat/avasb-satssb-bangunkan-kemudahan-mro-di-senai-1.452956#.WL3zw4QPWvs.twitter\\xe8' for obj:\nUnicode error: b'http://m.utusan.com.my/bisnes/korporat/avasb-satssb-bangunkan-kemudahan-mro-di-senai-1.452956#.WL3zw4QPWvs.twitter\\xe8' for obj:\n"
     ]
    },
    {
     "name": "stdout",
     "output_type": "stream",
     "text": [
      "Unicode error: b'http://m.utusan.com.my/bisnes/korporat/avasb-satssb-bangunkan-kemudahan-mro-di-senai-1.452956#.WL3zw4QPWvs.twitter\\xe8' for obj:\nUnicode error: b'http://m.utusan.com.my/bisnes/korporat/avasb-satssb-bangunkan-kemudahan-mro-di-senai-1.452956#.WL3zw4QPWvs.twitter\\xe8' for obj:\nUnicode error: b'http://m.utusan.com.my/bisnes/korporat/avasb-satssb-bangunkan-kemudahan-mro-di-senai-1.452956#.WL3zw4QPWvs.twitter\\xe8' for obj:\n"
     ]
    },
    {
     "name": "stdout",
     "output_type": "stream",
     "text": [
      "Unicode error: b'http://m.utusan.com.my/bisnes/korporat/avasb-satssb-bangunkan-kemudahan-mro-di-senai-1.452956#.WL3zw4QPWvs.twitter\\xe8' for obj:\nUnicode error: b'http://m.utusan.com.my/bisnes/korporat/avasb-satssb-bangunkan-kemudahan-mro-di-senai-1.452956#.WL3zw4QPWvs.twitter\\xe8' for obj:\nUnicode error: b'http://m.utusan.com.my/bisnes/korporat/avasb-satssb-bangunkan-kemudahan-mro-di-senai-1.452956#.WL3zw4QPWvs.twitter\\xe8' for obj:\n"
     ]
    },
    {
     "name": "stdout",
     "output_type": "stream",
     "text": [
      "Unicode error: b'http://m.utusan.com.my/bisnes/korporat/avasb-satssb-bangunkan-kemudahan-mro-di-senai-1.452956#.WL3zw4QPWvs.twitter\\xe8' for obj:\nUnicode error: b'http://m.utusan.com.my/bisnes/korporat/avasb-satssb-bangunkan-kemudahan-mro-di-senai-1.452956#.WL3zw4QPWvs.twitter\\xe8' for obj:\nUnicode error: b'http://m.utusan.com.my/bisnes/korporat/avasb-satssb-bangunkan-kemudahan-mro-di-senai-1.452956#.WL3zw4QPWvs.twitter\\xe8' for obj:\n"
     ]
    },
    {
     "name": "stdout",
     "output_type": "stream",
     "text": [
      "Unicode error: b'http://m.utusan.com.my/bisnes/korporat/avasb-satssb-bangunkan-kemudahan-mro-di-senai-1.452956#.WL3zw4QPWvs.twitter\\xe8' for obj:\nUnicode error: b'http://m.utusan.com.my/bisnes/korporat/avasb-satssb-bangunkan-kemudahan-mro-di-senai-1.452956#.WL3zw4QPWvs.twitter\\xe8' for obj:\nUnicode error: b'http://m.utusan.com.my/bisnes/korporat/avasb-satssb-bangunkan-kemudahan-mro-di-senai-1.452956#.WL3zw4QPWvs.twitter\\xe8' for obj:\n"
     ]
    },
    {
     "name": "stdout",
     "output_type": "stream",
     "text": [
      "Unicode error: b'http://m.utusan.com.my/bisnes/korporat/avasb-satssb-bangunkan-kemudahan-mro-di-senai-1.452956#.WL3zw4QPWvs.twitter\\xe8' for obj:\nUnicode error: b'http://m.utusan.com.my/bisnes/korporat/avasb-satssb-bangunkan-kemudahan-mro-di-senai-1.452956#.WL3zw4QPWvs.twitter\\xe8' for obj:\nUnicode error: b'http://m.utusan.com.my/bisnes/korporat/avasb-satssb-bangunkan-kemudahan-mro-di-senai-1.452956#.WL3zw4QPWvs.twitter\\xe8' for obj:\n"
     ]
    },
    {
     "name": "stdout",
     "output_type": "stream",
     "text": [
      "Unicode error: b'http://m.utusan.com.my/bisnes/korporat/avasb-satssb-bangunkan-kemudahan-mro-di-senai-1.452956#.WL3zw4QPWvs.twitter\\xe8' for obj:\nUnicode error: b'http://m.utusan.com.my/bisnes/korporat/avasb-satssb-bangunkan-kemudahan-mro-di-senai-1.452956#.WL3zw4QPWvs.twitter\\xe8' for obj:\nUnicode error: b'http://m.utusan.com.my/bisnes/korporat/avasb-satssb-bangunkan-kemudahan-mro-di-senai-1.452956#.WL3zw4QPWvs.twitter\\xe8' for obj:\n"
     ]
    },
    {
     "name": "stdout",
     "output_type": "stream",
     "text": [
      "Unicode error: b'http://m.utusan.com.my/bisnes/korporat/avasb-satssb-bangunkan-kemudahan-mro-di-senai-1.452956#.WL3zw4QPWvs.twitter\\xe8' for obj:\nUnicode error: b'http://m.utusan.com.my/bisnes/korporat/avasb-satssb-bangunkan-kemudahan-mro-di-senai-1.452956#.WL3zw4QPWvs.twitter\\xe8' for obj:\nUnicode error: b'http://m.utusan.com.my/bisnes/korporat/avasb-satssb-bangunkan-kemudahan-mro-di-senai-1.452956#.WL3zw4QPWvs.twitter\\xe8' for obj:\n"
     ]
    },
    {
     "name": "stdout",
     "output_type": "stream",
     "text": [
      "Unicode error: b'http://m.utusan.com.my/bisnes/korporat/avasb-satssb-bangunkan-kemudahan-mro-di-senai-1.452956#.WL3zw4QPWvs.twitter\\xe8' for obj:\nUnicode error: b'http://m.utusan.com.my/bisnes/korporat/avasb-satssb-bangunkan-kemudahan-mro-di-senai-1.452956#.WL3zw4QPWvs.twitter\\xe8' for obj:\nUnicode error: b'http://m.utusan.com.my/bisnes/korporat/avasb-satssb-bangunkan-kemudahan-mro-di-senai-1.452956#.WL3zw4QPWvs.twitter\\xe8' for obj:\n"
     ]
    },
    {
     "name": "stdout",
     "output_type": "stream",
     "text": [
      "Unicode error: b'http://m.utusan.com.my/bisnes/korporat/avasb-satssb-bangunkan-kemudahan-mro-di-senai-1.452956#.WL3zw4QPWvs.twitter\\xe8' for obj:\nUnicode error: b'http://m.utusan.com.my/bisnes/korporat/avasb-satssb-bangunkan-kemudahan-mro-di-senai-1.452956#.WL3zw4QPWvs.twitter\\xe8' for obj:\nUnicode error: b'http://m.utusan.com.my/bisnes/korporat/avasb-satssb-bangunkan-kemudahan-mro-di-senai-1.452956#.WL3zw4QPWvs.twitter\\xe8' for obj:\n"
     ]
    },
    {
     "name": "stdout",
     "output_type": "stream",
     "text": [
      "Unicode error: b'http://m.utusan.com.my/bisnes/korporat/avasb-satssb-bangunkan-kemudahan-mro-di-senai-1.452956#.WL3zw4QPWvs.twitter\\xe8' for obj:\nUnicode error: b'http://m.utusan.com.my/bisnes/korporat/avasb-satssb-bangunkan-kemudahan-mro-di-senai-1.452956#.WL3zw4QPWvs.twitter\\xe8' for obj:\nUnicode error: b'http://m.utusan.com.my/bisnes/korporat/avasb-satssb-bangunkan-kemudahan-mro-di-senai-1.452956#.WL3zw4QPWvs.twitter\\xe8' for obj:\n"
     ]
    },
    {
     "name": "stdout",
     "output_type": "stream",
     "text": [
      "Unicode error: b'http://m.utusan.com.my/bisnes/korporat/avasb-satssb-bangunkan-kemudahan-mro-di-senai-1.452956#.WL3zw4QPWvs.twitter\\xe8' for obj:\nUnicode error: b'http://m.utusan.com.my/bisnes/korporat/avasb-satssb-bangunkan-kemudahan-mro-di-senai-1.452956#.WL3zw4QPWvs.twitter\\xe8' for obj:\nUnicode error: b'http://m.utusan.com.my/bisnes/korporat/avasb-satssb-bangunkan-kemudahan-mro-di-senai-1.452956#.WL3zw4QPWvs.twitter\\xe8' for obj:\n"
     ]
    },
    {
     "name": "stdout",
     "output_type": "stream",
     "text": [
      "Unicode error: b'http://m.utusan.com.my/bisnes/korporat/avasb-satssb-bangunkan-kemudahan-mro-di-senai-1.452956#.WL3zw4QPWvs.twitter\\xe8' for obj:\nUnicode error: b'http://m.utusan.com.my/bisnes/korporat/avasb-satssb-bangunkan-kemudahan-mro-di-senai-1.452956#.WL3zw4QPWvs.twitter\\xe8' for obj:\nUnicode error: b'http://m.utusan.com.my/bisnes/korporat/avasb-satssb-bangunkan-kemudahan-mro-di-senai-1.452956#.WL3zw4QPWvs.twitter\\xe8' for obj:\n"
     ]
    },
    {
     "name": "stdout",
     "output_type": "stream",
     "text": [
      "Unicode error: b'http://m.utusan.com.my/bisnes/korporat/avasb-satssb-bangunkan-kemudahan-mro-di-senai-1.452956#.WL3zw4QPWvs.twitter\\xe8' for obj:\nUnicode error: b'http://m.utusan.com.my/bisnes/korporat/avasb-satssb-bangunkan-kemudahan-mro-di-senai-1.452956#.WL3zw4QPWvs.twitter\\xe8' for obj:\nUnicode error: b'http://m.utusan.com.my/bisnes/korporat/avasb-satssb-bangunkan-kemudahan-mro-di-senai-1.452956#.WL3zw4QPWvs.twitter\\xe8' for obj:\n"
     ]
    },
    {
     "name": "stdout",
     "output_type": "stream",
     "text": [
      "Unicode error: b'http://m.utusan.com.my/bisnes/korporat/avasb-satssb-bangunkan-kemudahan-mro-di-senai-1.452956#.WL3zw4QPWvs.twitter\\xe8' for obj:\nUnicode error: b'http://m.utusan.com.my/bisnes/korporat/avasb-satssb-bangunkan-kemudahan-mro-di-senai-1.452956#.WL3zw4QPWvs.twitter\\xe8' for obj:\nUnicode error: b'http://m.utusan.com.my/bisnes/korporat/avasb-satssb-bangunkan-kemudahan-mro-di-senai-1.452956#.WL3zw4QPWvs.twitter\\xe8' for obj:\n"
     ]
    },
    {
     "name": "stdout",
     "output_type": "stream",
     "text": [
      "Unicode error: b'http://m.utusan.com.my/bisnes/korporat/avasb-satssb-bangunkan-kemudahan-mro-di-senai-1.452956#.WL3zw4QPWvs.twitter\\xe8' for obj:\nUnicode error: b'http://m.utusan.com.my/bisnes/korporat/avasb-satssb-bangunkan-kemudahan-mro-di-senai-1.452956#.WL3zw4QPWvs.twitter\\xe8' for obj:\nUnicode error: b'http://m.utusan.com.my/bisnes/korporat/avasb-satssb-bangunkan-kemudahan-mro-di-senai-1.452956#.WL3zw4QPWvs.twitter\\xe8' for obj:\n"
     ]
    },
    {
     "name": "stdout",
     "output_type": "stream",
     "text": [
      "Unicode error: b'http://m.utusan.com.my/bisnes/korporat/avasb-satssb-bangunkan-kemudahan-mro-di-senai-1.452956#.WL3zw4QPWvs.twitter\\xe8' for obj:\nUnicode error: b'http://m.utusan.com.my/bisnes/korporat/avasb-satssb-bangunkan-kemudahan-mro-di-senai-1.452956#.WL3zw4QPWvs.twitter\\xe8' for obj:\nUnicode error: b'http://m.utusan.com.my/bisnes/korporat/avasb-satssb-bangunkan-kemudahan-mro-di-senai-1.452956#.WL3zw4QPWvs.twitter\\xe8' for obj:\n"
     ]
    },
    {
     "name": "stdout",
     "output_type": "stream",
     "text": [
      "Unicode error: b'http://m.utusan.com.my/bisnes/korporat/avasb-satssb-bangunkan-kemudahan-mro-di-senai-1.452956#.WL3zw4QPWvs.twitter\\xe8' for obj:\nUnicode error: b'http://m.utusan.com.my/bisnes/korporat/avasb-satssb-bangunkan-kemudahan-mro-di-senai-1.452956#.WL3zw4QPWvs.twitter\\xe8' for obj:\nUnicode error: b'http://m.utusan.com.my/bisnes/korporat/avasb-satssb-bangunkan-kemudahan-mro-di-senai-1.452956#.WL3zw4QPWvs.twitter\\xe8' for obj:\n"
     ]
    },
    {
     "name": "stdout",
     "output_type": "stream",
     "text": [
      "Unicode error: b'http://m.utusan.com.my/bisnes/korporat/avasb-satssb-bangunkan-kemudahan-mro-di-senai-1.452956#.WL3zw4QPWvs.twitter\\xe8' for obj:\nUnicode error: b'http://m.utusan.com.my/bisnes/korporat/avasb-satssb-bangunkan-kemudahan-mro-di-senai-1.452956#.WL3zw4QPWvs.twitter\\xe8' for obj:\nUnicode error: b'http://m.utusan.com.my/bisnes/korporat/avasb-satssb-bangunkan-kemudahan-mro-di-senai-1.452956#.WL3zw4QPWvs.twitter\\xe8' for obj:\n"
     ]
    },
    {
     "name": "stdout",
     "output_type": "stream",
     "text": [
      "Unicode error: b'http://m.utusan.com.my/bisnes/korporat/avasb-satssb-bangunkan-kemudahan-mro-di-senai-1.452956#.WL3zw4QPWvs.twitter\\xe8' for obj:\nUnicode error: b'http://m.utusan.com.my/bisnes/korporat/avasb-satssb-bangunkan-kemudahan-mro-di-senai-1.452956#.WL3zw4QPWvs.twitter\\xe8' for obj:\nUnicode error: b'http://m.utusan.com.my/bisnes/korporat/avasb-satssb-bangunkan-kemudahan-mro-di-senai-1.452956#.WL3zw4QPWvs.twitter\\xe8' for obj:\n"
     ]
    },
    {
     "name": "stdout",
     "output_type": "stream",
     "text": [
      "Unicode error: b'http://m.utusan.com.my/bisnes/korporat/avasb-satssb-bangunkan-kemudahan-mro-di-senai-1.452956#.WL3zw4QPWvs.twitter\\xe8' for obj:\nUnicode error: b'http://m.utusan.com.my/bisnes/korporat/avasb-satssb-bangunkan-kemudahan-mro-di-senai-1.452956#.WL3zw4QPWvs.twitter\\xe8' for obj:\n"
     ]
    },
    {
     "name": "stdout",
     "output_type": "stream",
     "text": [
      "Unicode error: b'http://m.utusan.com.my/bisnes/korporat/avasb-satssb-bangunkan-kemudahan-mro-di-senai-1.452956#.WL3zw4QPWvs.twitter\\xe8' for obj:\nUnicode error: b'http://m.utusan.com.my/bisnes/korporat/avasb-satssb-bangunkan-kemudahan-mro-di-senai-1.452956#.WL3zw4QPWvs.twitter\\xe8' for obj:\nUnicode error: b'http://m.utusan.com.my/bisnes/korporat/avasb-satssb-bangunkan-kemudahan-mro-di-senai-1.452956#.WL3zw4QPWvs.twitter\\xe8' for obj:\n"
     ]
    },
    {
     "name": "stdout",
     "output_type": "stream",
     "text": [
      "Unicode error: b'http://m.utusan.com.my/bisnes/korporat/avasb-satssb-bangunkan-kemudahan-mro-di-senai-1.452956#.WL3zw4QPWvs.twitter\\xe8' for obj:\nUnicode error: b'http://m.utusan.com.my/bisnes/korporat/avasb-satssb-bangunkan-kemudahan-mro-di-senai-1.452956#.WL3zw4QPWvs.twitter\\xe8' for obj:\nUnicode error: b'http://m.utusan.com.my/bisnes/korporat/avasb-satssb-bangunkan-kemudahan-mro-di-senai-1.452956#.WL3zw4QPWvs.twitter\\xe8' for obj:\n"
     ]
    },
    {
     "name": "stdout",
     "output_type": "stream",
     "text": [
      "Unicode error: b'http://m.utusan.com.my/bisnes/korporat/avasb-satssb-bangunkan-kemudahan-mro-di-senai-1.452956#.WL3zw4QPWvs.twitter\\xe8' for obj:\nUnicode error: b'http://m.utusan.com.my/bisnes/korporat/avasb-satssb-bangunkan-kemudahan-mro-di-senai-1.452956#.WL3zw4QPWvs.twitter\\xe8' for obj:\nUnicode error: b'http://m.utusan.com.my/bisnes/korporat/avasb-satssb-bangunkan-kemudahan-mro-di-senai-1.452956#.WL3zw4QPWvs.twitter\\xe8' for obj:\n"
     ]
    },
    {
     "name": "stdout",
     "output_type": "stream",
     "text": [
      "Unicode error: b'http://m.utusan.com.my/bisnes/korporat/avasb-satssb-bangunkan-kemudahan-mro-di-senai-1.452956#.WL3zw4QPWvs.twitter\\xe8' for obj:\nUnicode error: b'http://m.utusan.com.my/bisnes/korporat/avasb-satssb-bangunkan-kemudahan-mro-di-senai-1.452956#.WL3zw4QPWvs.twitter\\xe8' for obj:\nUnicode error: b'http://m.utusan.com.my/bisnes/korporat/avasb-satssb-bangunkan-kemudahan-mro-di-senai-1.452956#.WL3zw4QPWvs.twitter\\xe8' for obj:\n"
     ]
    },
    {
     "name": "stdout",
     "output_type": "stream",
     "text": [
      "Unicode error: b'http://m.utusan.com.my/bisnes/korporat/avasb-satssb-bangunkan-kemudahan-mro-di-senai-1.452956#.WL3zw4QPWvs.twitter\\xe8' for obj:\nUnicode error: b'http://m.utusan.com.my/bisnes/korporat/avasb-satssb-bangunkan-kemudahan-mro-di-senai-1.452956#.WL3zw4QPWvs.twitter\\xe8' for obj:\nUnicode error: b'http://m.utusan.com.my/bisnes/korporat/avasb-satssb-bangunkan-kemudahan-mro-di-senai-1.452956#.WL3zw4QPWvs.twitter\\xe8' for obj:\n"
     ]
    },
    {
     "name": "stdout",
     "output_type": "stream",
     "text": [
      "Unicode error: b'http://m.utusan.com.my/bisnes/korporat/avasb-satssb-bangunkan-kemudahan-mro-di-senai-1.452956#.WL3zw4QPWvs.twitter\\xe8' for obj:\nUnicode error: b'http://m.utusan.com.my/bisnes/korporat/avasb-satssb-bangunkan-kemudahan-mro-di-senai-1.452956#.WL3zw4QPWvs.twitter\\xe8' for obj:\nUnicode error: b'http://m.utusan.com.my/bisnes/korporat/avasb-satssb-bangunkan-kemudahan-mro-di-senai-1.452956#.WL3zw4QPWvs.twitter\\xe8' for obj:\n"
     ]
    },
    {
     "name": "stdout",
     "output_type": "stream",
     "text": [
      "Unicode error: b'http://m.utusan.com.my/bisnes/korporat/avasb-satssb-bangunkan-kemudahan-mro-di-senai-1.452956#.WL3zw4QPWvs.twitter\\xe8' for obj:\nUnicode error: b'http://m.utusan.com.my/bisnes/korporat/avasb-satssb-bangunkan-kemudahan-mro-di-senai-1.452956#.WL3zw4QPWvs.twitter\\xe8' for obj:\nUnicode error: b'http://m.utusan.com.my/bisnes/korporat/avasb-satssb-bangunkan-kemudahan-mro-di-senai-1.452956#.WL3zw4QPWvs.twitter\\xe8' for obj:\n"
     ]
    },
    {
     "name": "stdout",
     "output_type": "stream",
     "text": [
      "Unicode error: b'http://m.utusan.com.my/bisnes/korporat/avasb-satssb-bangunkan-kemudahan-mro-di-senai-1.452956#.WL3zw4QPWvs.twitter\\xe8' for obj:\nUnicode error: b'http://m.utusan.com.my/bisnes/korporat/avasb-satssb-bangunkan-kemudahan-mro-di-senai-1.452956#.WL3zw4QPWvs.twitter\\xe8' for obj:\nUnicode error: b'http://m.utusan.com.my/bisnes/korporat/avasb-satssb-bangunkan-kemudahan-mro-di-senai-1.452956#.WL3zw4QPWvs.twitter\\xe8' for obj:\n"
     ]
    },
    {
     "name": "stdout",
     "output_type": "stream",
     "text": [
      "Unicode error: b'http://m.utusan.com.my/bisnes/korporat/avasb-satssb-bangunkan-kemudahan-mro-di-senai-1.452956#.WL3zw4QPWvs.twitter\\xe8' for obj:\nUnicode error: b'http://m.utusan.com.my/bisnes/korporat/avasb-satssb-bangunkan-kemudahan-mro-di-senai-1.452956#.WL3zw4QPWvs.twitter\\xe8' for obj:\nUnicode error: b'http://m.utusan.com.my/bisnes/korporat/avasb-satssb-bangunkan-kemudahan-mro-di-senai-1.452956#.WL3zw4QPWvs.twitter\\xe8' for obj:\n"
     ]
    },
    {
     "name": "stdout",
     "output_type": "stream",
     "text": [
      "Unicode error: b'http://m.utusan.com.my/bisnes/korporat/avasb-satssb-bangunkan-kemudahan-mro-di-senai-1.452956#.WL3zw4QPWvs.twitter\\xe8' for obj:\nUnicode error: b'http://m.utusan.com.my/bisnes/korporat/avasb-satssb-bangunkan-kemudahan-mro-di-senai-1.452956#.WL3zw4QPWvs.twitter\\xe8' for obj:\nUnicode error: b'http://m.utusan.com.my/bisnes/korporat/avasb-satssb-bangunkan-kemudahan-mro-di-senai-1.452956#.WL3zw4QPWvs.twitter\\xe8' for obj:\n"
     ]
    },
    {
     "name": "stdout",
     "output_type": "stream",
     "text": [
      "Unicode error: b'http://m.utusan.com.my/bisnes/korporat/avasb-satssb-bangunkan-kemudahan-mro-di-senai-1.452956#.WL3zw4QPWvs.twitter\\xe8' for obj:\nUnicode error: b'http://m.utusan.com.my/bisnes/korporat/avasb-satssb-bangunkan-kemudahan-mro-di-senai-1.452956#.WL3zw4QPWvs.twitter\\xe8' for obj:\nUnicode error: b'http://m.utusan.com.my/bisnes/korporat/avasb-satssb-bangunkan-kemudahan-mro-di-senai-1.452956#.WL3zw4QPWvs.twitter\\xe8' for obj:\n"
     ]
    },
    {
     "name": "stdout",
     "output_type": "stream",
     "text": [
      "Unicode error: b'http://m.utusan.com.my/bisnes/korporat/avasb-satssb-bangunkan-kemudahan-mro-di-senai-1.452956#.WL3zw4QPWvs.twitter\\xe8' for obj:\nUnicode error: b'http://m.utusan.com.my/bisnes/korporat/avasb-satssb-bangunkan-kemudahan-mro-di-senai-1.452956#.WL3zw4QPWvs.twitter\\xe8' for obj:\nUnicode error: b'http://m.utusan.com.my/bisnes/korporat/avasb-satssb-bangunkan-kemudahan-mro-di-senai-1.452956#.WL3zw4QPWvs.twitter\\xe8' for obj:\n"
     ]
    },
    {
     "name": "stdout",
     "output_type": "stream",
     "text": [
      "Unicode error: b'http://m.utusan.com.my/bisnes/korporat/avasb-satssb-bangunkan-kemudahan-mro-di-senai-1.452956#.WL3zw4QPWvs.twitter\\xe8' for obj:\nUnicode error: b'http://m.utusan.com.my/bisnes/korporat/avasb-satssb-bangunkan-kemudahan-mro-di-senai-1.452956#.WL3zw4QPWvs.twitter\\xe8' for obj:\nUnicode error: b'http://m.utusan.com.my/bisnes/korporat/avasb-satssb-bangunkan-kemudahan-mro-di-senai-1.452956#.WL3zw4QPWvs.twitter\\xe8' for obj:\n"
     ]
    },
    {
     "name": "stdout",
     "output_type": "stream",
     "text": [
      "Unicode error: b'http://m.utusan.com.my/bisnes/korporat/avasb-satssb-bangunkan-kemudahan-mro-di-senai-1.452956#.WL3zw4QPWvs.twitter\\xe8' for obj:\nUnicode error: b'http://m.utusan.com.my/bisnes/korporat/avasb-satssb-bangunkan-kemudahan-mro-di-senai-1.452956#.WL3zw4QPWvs.twitter\\xe8' for obj:\nUnicode error: b'http://m.utusan.com.my/bisnes/korporat/avasb-satssb-bangunkan-kemudahan-mro-di-senai-1.452956#.WL3zw4QPWvs.twitter\\xe8' for obj:\n"
     ]
    },
    {
     "name": "stdout",
     "output_type": "stream",
     "text": [
      "Unicode error: b'http://m.utusan.com.my/bisnes/korporat/avasb-satssb-bangunkan-kemudahan-mro-di-senai-1.452956#.WL3zw4QPWvs.twitter\\xe8' for obj:\nUnicode error: b'http://m.utusan.com.my/bisnes/korporat/avasb-satssb-bangunkan-kemudahan-mro-di-senai-1.452956#.WL3zw4QPWvs.twitter\\xe8' for obj:\nUnicode error: b'http://m.utusan.com.my/bisnes/korporat/avasb-satssb-bangunkan-kemudahan-mro-di-senai-1.452956#.WL3zw4QPWvs.twitter\\xe8' for obj:\n"
     ]
    },
    {
     "name": "stdout",
     "output_type": "stream",
     "text": [
      "Unicode error: b'http://m.utusan.com.my/bisnes/korporat/avasb-satssb-bangunkan-kemudahan-mro-di-senai-1.452956#.WL3zw4QPWvs.twitter\\xe8' for obj:\nUnicode error: b'http://m.utusan.com.my/bisnes/korporat/avasb-satssb-bangunkan-kemudahan-mro-di-senai-1.452956#.WL3zw4QPWvs.twitter\\xe8' for obj:\nUnicode error: b'http://m.utusan.com.my/bisnes/korporat/avasb-satssb-bangunkan-kemudahan-mro-di-senai-1.452956#.WL3zw4QPWvs.twitter\\xe8' for obj:\n"
     ]
    },
    {
     "name": "stdout",
     "output_type": "stream",
     "text": [
      "Unicode error: b'http://m.utusan.com.my/bisnes/korporat/avasb-satssb-bangunkan-kemudahan-mro-di-senai-1.452956#.WL3zw4QPWvs.twitter\\xe8' for obj:\nUnicode error: b'http://m.utusan.com.my/bisnes/korporat/avasb-satssb-bangunkan-kemudahan-mro-di-senai-1.452956#.WL3zw4QPWvs.twitter\\xe8' for obj:\nUnicode error: b'http://m.utusan.com.my/bisnes/korporat/avasb-satssb-bangunkan-kemudahan-mro-di-senai-1.452956#.WL3zw4QPWvs.twitter\\xe8' for obj:\n"
     ]
    },
    {
     "name": "stdout",
     "output_type": "stream",
     "text": [
      "Unicode error: b'http://m.utusan.com.my/bisnes/korporat/avasb-satssb-bangunkan-kemudahan-mro-di-senai-1.452956#.WL3zw4QPWvs.twitter\\xe8' for obj:\nUnicode error: b'http://m.utusan.com.my/bisnes/korporat/avasb-satssb-bangunkan-kemudahan-mro-di-senai-1.452956#.WL3zw4QPWvs.twitter\\xe8' for obj:\nUnicode error: b'http://m.utusan.com.my/bisnes/korporat/avasb-satssb-bangunkan-kemudahan-mro-di-senai-1.452956#.WL3zw4QPWvs.twitter\\xe8' for obj:\n"
     ]
    },
    {
     "name": "stdout",
     "output_type": "stream",
     "text": [
      "Unicode error: b'http://m.utusan.com.my/bisnes/korporat/avasb-satssb-bangunkan-kemudahan-mro-di-senai-1.452956#.WL3zw4QPWvs.twitter\\xe8' for obj:\nUnicode error: b'http://m.utusan.com.my/bisnes/korporat/avasb-satssb-bangunkan-kemudahan-mro-di-senai-1.452956#.WL3zw4QPWvs.twitter\\xe8' for obj:\nUnicode error: b'http://m.utusan.com.my/bisnes/korporat/avasb-satssb-bangunkan-kemudahan-mro-di-senai-1.452956#.WL3zw4QPWvs.twitter\\xe8' for obj:\n"
     ]
    },
    {
     "name": "stdout",
     "output_type": "stream",
     "text": [
      "Unicode error: b'http://m.utusan.com.my/bisnes/korporat/avasb-satssb-bangunkan-kemudahan-mro-di-senai-1.452956#.WL3zw4QPWvs.twitter\\xe8' for obj:\nUnicode error: b'http://m.utusan.com.my/bisnes/korporat/avasb-satssb-bangunkan-kemudahan-mro-di-senai-1.452956#.WL3zw4QPWvs.twitter\\xe8' for obj:\n"
     ]
    },
    {
     "name": "stdout",
     "output_type": "stream",
     "text": [
      "Unicode error: b'http://m.utusan.com.my/bisnes/korporat/avasb-satssb-bangunkan-kemudahan-mro-di-senai-1.452956#.WL3zw4QPWvs.twitter\\xe8' for obj:\nUnicode error: b'http://m.utusan.com.my/bisnes/korporat/avasb-satssb-bangunkan-kemudahan-mro-di-senai-1.452956#.WL3zw4QPWvs.twitter\\xe8' for obj:\n"
     ]
    },
    {
     "name": "stdout",
     "output_type": "stream",
     "text": [
      "Unicode error: b'http://m.utusan.com.my/bisnes/korporat/avasb-satssb-bangunkan-kemudahan-mro-di-senai-1.452956#.WL3zw4QPWvs.twitter\\xe8' for obj:\nUnicode error: b'http://m.utusan.com.my/bisnes/korporat/avasb-satssb-bangunkan-kemudahan-mro-di-senai-1.452956#.WL3zw4QPWvs.twitter\\xe8' for obj:\n"
     ]
    },
    {
     "name": "stdout",
     "output_type": "stream",
     "text": [
      "Unicode error: b'http://m.utusan.com.my/bisnes/korporat/avasb-satssb-bangunkan-kemudahan-mro-di-senai-1.452956#.WL3zw4QPWvs.twitter\\xe8' for obj:\nUnicode error: b'http://m.utusan.com.my/bisnes/korporat/avasb-satssb-bangunkan-kemudahan-mro-di-senai-1.452956#.WL3zw4QPWvs.twitter\\xe8' for obj:\n"
     ]
    },
    {
     "name": "stdout",
     "output_type": "stream",
     "text": [
      "Unicode error: b'http://m.utusan.com.my/bisnes/korporat/avasb-satssb-bangunkan-kemudahan-mro-di-senai-1.452956#.WL3zw4QPWvs.twitter\\xe8' for obj:\nUnicode error: b'http://m.utusan.com.my/bisnes/korporat/avasb-satssb-bangunkan-kemudahan-mro-di-senai-1.452956#.WL3zw4QPWvs.twitter\\xe8' for obj:\n"
     ]
    },
    {
     "name": "stdout",
     "output_type": "stream",
     "text": [
      "Unicode error: b'http://m.utusan.com.my/bisnes/korporat/avasb-satssb-bangunkan-kemudahan-mro-di-senai-1.452956#.WL3zw4QPWvs.twitter\\xe8' for obj:\nUnicode error: b'http://m.utusan.com.my/bisnes/korporat/avasb-satssb-bangunkan-kemudahan-mro-di-senai-1.452956#.WL3zw4QPWvs.twitter\\xe8' for obj:\n"
     ]
    },
    {
     "name": "stdout",
     "output_type": "stream",
     "text": [
      "Unicode error: b'http://m.utusan.com.my/bisnes/korporat/avasb-satssb-bangunkan-kemudahan-mro-di-senai-1.452956#.WL3zw4QPWvs.twitter\\xe8' for obj:\nUnicode error: b'http://m.utusan.com.my/bisnes/korporat/avasb-satssb-bangunkan-kemudahan-mro-di-senai-1.452956#.WL3zw4QPWvs.twitter\\xe8' for obj:\n"
     ]
    },
    {
     "name": "stdout",
     "output_type": "stream",
     "text": [
      "Unicode error: b'http://m.utusan.com.my/bisnes/korporat/avasb-satssb-bangunkan-kemudahan-mro-di-senai-1.452956#.WL3zw4QPWvs.twitter\\xe8' for obj:\nUnicode error: b'http://m.utusan.com.my/bisnes/korporat/avasb-satssb-bangunkan-kemudahan-mro-di-senai-1.452956#.WL3zw4QPWvs.twitter\\xe8' for obj:\n"
     ]
    },
    {
     "name": "stdout",
     "output_type": "stream",
     "text": [
      "Unicode error: b'http://m.utusan.com.my/bisnes/korporat/avasb-satssb-bangunkan-kemudahan-mro-di-senai-1.452956#.WL3zw4QPWvs.twitter\\xe8' for obj:\nUnicode error: b'http://m.utusan.com.my/bisnes/korporat/avasb-satssb-bangunkan-kemudahan-mro-di-senai-1.452956#.WL3zw4QPWvs.twitter\\xe8' for obj:\n"
     ]
    },
    {
     "name": "stdout",
     "output_type": "stream",
     "text": [
      "Unicode error: b'http://m.utusan.com.my/bisnes/korporat/avasb-satssb-bangunkan-kemudahan-mro-di-senai-1.452956#.WL3zw4QPWvs.twitter\\xe8' for obj:\nUnicode error: b'http://m.utusan.com.my/bisnes/korporat/avasb-satssb-bangunkan-kemudahan-mro-di-senai-1.452956#.WL3zw4QPWvs.twitter\\xe8' for obj:\n"
     ]
    },
    {
     "name": "stdout",
     "output_type": "stream",
     "text": [
      "Unicode error: b'http://m.utusan.com.my/bisnes/korporat/avasb-satssb-bangunkan-kemudahan-mro-di-senai-1.452956#.WL3zw4QPWvs.twitter\\xe8' for obj:\nUnicode error: b'http://m.utusan.com.my/bisnes/korporat/avasb-satssb-bangunkan-kemudahan-mro-di-senai-1.452956#.WL3zw4QPWvs.twitter\\xe8' for obj:\n"
     ]
    },
    {
     "name": "stdout",
     "output_type": "stream",
     "text": [
      "Unicode error: b'http://m.utusan.com.my/bisnes/korporat/avasb-satssb-bangunkan-kemudahan-mro-di-senai-1.452956#.WL3zw4QPWvs.twitter\\xe8' for obj:\nUnicode error: b'http://m.utusan.com.my/bisnes/korporat/avasb-satssb-bangunkan-kemudahan-mro-di-senai-1.452956#.WL3zw4QPWvs.twitter\\xe8' for obj:\n"
     ]
    },
    {
     "name": "stdout",
     "output_type": "stream",
     "text": [
      "Unicode error: b'http://m.utusan.com.my/bisnes/korporat/avasb-satssb-bangunkan-kemudahan-mro-di-senai-1.452956#.WL3zw4QPWvs.twitter\\xe8' for obj:\nUnicode error: b'http://m.utusan.com.my/bisnes/korporat/avasb-satssb-bangunkan-kemudahan-mro-di-senai-1.452956#.WL3zw4QPWvs.twitter\\xe8' for obj:\n"
     ]
    },
    {
     "name": "stdout",
     "output_type": "stream",
     "text": [
      "Unicode error: b'http://m.utusan.com.my/bisnes/korporat/avasb-satssb-bangunkan-kemudahan-mro-di-senai-1.452956#.WL3zw4QPWvs.twitter\\xe8' for obj:\nUnicode error: b'http://m.utusan.com.my/bisnes/korporat/avasb-satssb-bangunkan-kemudahan-mro-di-senai-1.452956#.WL3zw4QPWvs.twitter\\xe8' for obj:\n"
     ]
    },
    {
     "name": "stdout",
     "output_type": "stream",
     "text": [
      "Unicode error: b'http://m.utusan.com.my/bisnes/korporat/avasb-satssb-bangunkan-kemudahan-mro-di-senai-1.452956#.WL3zw4QPWvs.twitter\\xe8' for obj:\nUnicode error: b'http://m.utusan.com.my/bisnes/korporat/avasb-satssb-bangunkan-kemudahan-mro-di-senai-1.452956#.WL3zw4QPWvs.twitter\\xe8' for obj:\n"
     ]
    },
    {
     "name": "stdout",
     "output_type": "stream",
     "text": [
      "Unicode error: b'http://m.utusan.com.my/bisnes/korporat/avasb-satssb-bangunkan-kemudahan-mro-di-senai-1.452956#.WL3zw4QPWvs.twitter\\xe8' for obj:\nUnicode error: b'http://m.utusan.com.my/bisnes/korporat/avasb-satssb-bangunkan-kemudahan-mro-di-senai-1.452956#.WL3zw4QPWvs.twitter\\xe8' for obj:\n"
     ]
    },
    {
     "name": "stdout",
     "output_type": "stream",
     "text": [
      "Unicode error: b'http://m.utusan.com.my/bisnes/korporat/avasb-satssb-bangunkan-kemudahan-mro-di-senai-1.452956#.WL3zw4QPWvs.twitter\\xe8' for obj:\nUnicode error: b'http://m.utusan.com.my/bisnes/korporat/avasb-satssb-bangunkan-kemudahan-mro-di-senai-1.452956#.WL3zw4QPWvs.twitter\\xe8' for obj:\n"
     ]
    },
    {
     "name": "stdout",
     "output_type": "stream",
     "text": [
      "Unicode error: b'http://m.utusan.com.my/bisnes/korporat/avasb-satssb-bangunkan-kemudahan-mro-di-senai-1.452956#.WL3zw4QPWvs.twitter\\xe8' for obj:\nUnicode error: b'http://m.utusan.com.my/bisnes/korporat/avasb-satssb-bangunkan-kemudahan-mro-di-senai-1.452956#.WL3zw4QPWvs.twitter\\xe8' for obj:\n"
     ]
    },
    {
     "name": "stdout",
     "output_type": "stream",
     "text": [
      "Unicode error: b'http://m.utusan.com.my/bisnes/korporat/avasb-satssb-bangunkan-kemudahan-mro-di-senai-1.452956#.WL3zw4QPWvs.twitter\\xe8' for obj:\nUnicode error: b'http://m.utusan.com.my/bisnes/korporat/avasb-satssb-bangunkan-kemudahan-mro-di-senai-1.452956#.WL3zw4QPWvs.twitter\\xe8' for obj:\n"
     ]
    },
    {
     "name": "stdout",
     "output_type": "stream",
     "text": [
      "Unicode error: b'http://m.utusan.com.my/bisnes/korporat/avasb-satssb-bangunkan-kemudahan-mro-di-senai-1.452956#.WL3zw4QPWvs.twitter\\xe8' for obj:\nUnicode error: b'http://m.utusan.com.my/bisnes/korporat/avasb-satssb-bangunkan-kemudahan-mro-di-senai-1.452956#.WL3zw4QPWvs.twitter\\xe8' for obj:\n"
     ]
    },
    {
     "name": "stdout",
     "output_type": "stream",
     "text": [
      "Unicode error: b'http://m.utusan.com.my/bisnes/korporat/avasb-satssb-bangunkan-kemudahan-mro-di-senai-1.452956#.WL3zw4QPWvs.twitter\\xe8' for obj:\nUnicode error: b'http://m.utusan.com.my/bisnes/korporat/avasb-satssb-bangunkan-kemudahan-mro-di-senai-1.452956#.WL3zw4QPWvs.twitter\\xe8' for obj:\n"
     ]
    },
    {
     "name": "stdout",
     "output_type": "stream",
     "text": [
      "Unicode error: b'http://m.utusan.com.my/bisnes/korporat/avasb-satssb-bangunkan-kemudahan-mro-di-senai-1.452956#.WL3zw4QPWvs.twitter\\xe8' for obj:\n"
     ]
    },
    {
     "name": "stdout",
     "output_type": "stream",
     "text": [
      "Unicode error: b'http://m.utusan.com.my/bisnes/korporat/avasb-satssb-bangunkan-kemudahan-mro-di-senai-1.452956#.WL3zw4QPWvs.twitter\\xe8' for obj:\nUnicode error: b'http://m.utusan.com.my/bisnes/korporat/avasb-satssb-bangunkan-kemudahan-mro-di-senai-1.452956#.WL3zw4QPWvs.twitter\\xe8' for obj:\n"
     ]
    },
    {
     "name": "stdout",
     "output_type": "stream",
     "text": [
      "Unicode error: b'http://m.utusan.com.my/bisnes/korporat/avasb-satssb-bangunkan-kemudahan-mro-di-senai-1.452956#.WL3zw4QPWvs.twitter\\xe8' for obj:\nUnicode error: b'http://m.utusan.com.my/bisnes/korporat/avasb-satssb-bangunkan-kemudahan-mro-di-senai-1.452956#.WL3zw4QPWvs.twitter\\xe8' for obj:\n"
     ]
    },
    {
     "name": "stdout",
     "output_type": "stream",
     "text": [
      "Unicode error: b'http://m.utusan.com.my/bisnes/korporat/avasb-satssb-bangunkan-kemudahan-mro-di-senai-1.452956#.WL3zw4QPWvs.twitter\\xe8' for obj:\nUnicode error: b'http://m.utusan.com.my/bisnes/korporat/avasb-satssb-bangunkan-kemudahan-mro-di-senai-1.452956#.WL3zw4QPWvs.twitter\\xe8' for obj:\n"
     ]
    },
    {
     "name": "stdout",
     "output_type": "stream",
     "text": [
      "Unicode error: b'http://m.utusan.com.my/bisnes/korporat/avasb-satssb-bangunkan-kemudahan-mro-di-senai-1.452956#.WL3zw4QPWvs.twitter\\xe8' for obj:\nUnicode error: b'http://m.utusan.com.my/bisnes/korporat/avasb-satssb-bangunkan-kemudahan-mro-di-senai-1.452956#.WL3zw4QPWvs.twitter\\xe8' for obj:\n"
     ]
    },
    {
     "name": "stdout",
     "output_type": "stream",
     "text": [
      "Unicode error: b'http://m.utusan.com.my/bisnes/korporat/avasb-satssb-bangunkan-kemudahan-mro-di-senai-1.452956#.WL3zw4QPWvs.twitter\\xe8' for obj:\nUnicode error: b'http://m.utusan.com.my/bisnes/korporat/avasb-satssb-bangunkan-kemudahan-mro-di-senai-1.452956#.WL3zw4QPWvs.twitter\\xe8' for obj:\n"
     ]
    },
    {
     "name": "stdout",
     "output_type": "stream",
     "text": [
      "Unicode error: b'http://m.utusan.com.my/bisnes/korporat/avasb-satssb-bangunkan-kemudahan-mro-di-senai-1.452956#.WL3zw4QPWvs.twitter\\xe8' for obj:\nUnicode error: b'http://m.utusan.com.my/bisnes/korporat/avasb-satssb-bangunkan-kemudahan-mro-di-senai-1.452956#.WL3zw4QPWvs.twitter\\xe8' for obj:\n"
     ]
    },
    {
     "name": "stdout",
     "output_type": "stream",
     "text": [
      "Unicode error: b'http://m.utusan.com.my/bisnes/korporat/avasb-satssb-bangunkan-kemudahan-mro-di-senai-1.452956#.WL3zw4QPWvs.twitter\\xe8' for obj:\nUnicode error: b'http://m.utusan.com.my/bisnes/korporat/avasb-satssb-bangunkan-kemudahan-mro-di-senai-1.452956#.WL3zw4QPWvs.twitter\\xe8' for obj:\n"
     ]
    },
    {
     "name": "stdout",
     "output_type": "stream",
     "text": [
      "Unicode error: b'http://m.utusan.com.my/bisnes/korporat/avasb-satssb-bangunkan-kemudahan-mro-di-senai-1.452956#.WL3zw4QPWvs.twitter\\xe8' for obj:\nUnicode error: b'http://m.utusan.com.my/bisnes/korporat/avasb-satssb-bangunkan-kemudahan-mro-di-senai-1.452956#.WL3zw4QPWvs.twitter\\xe8' for obj:\n"
     ]
    },
    {
     "name": "stdout",
     "output_type": "stream",
     "text": [
      "Unicode error: b'http://m.utusan.com.my/bisnes/korporat/avasb-satssb-bangunkan-kemudahan-mro-di-senai-1.452956#.WL3zw4QPWvs.twitter\\xe8' for obj:\nUnicode error: b'http://m.utusan.com.my/bisnes/korporat/avasb-satssb-bangunkan-kemudahan-mro-di-senai-1.452956#.WL3zw4QPWvs.twitter\\xe8' for obj:\n"
     ]
    },
    {
     "name": "stdout",
     "output_type": "stream",
     "text": [
      "Unicode error: b'http://m.utusan.com.my/bisnes/korporat/avasb-satssb-bangunkan-kemudahan-mro-di-senai-1.452956#.WL3zw4QPWvs.twitter\\xe8' for obj:\nUnicode error: b'http://m.utusan.com.my/bisnes/korporat/avasb-satssb-bangunkan-kemudahan-mro-di-senai-1.452956#.WL3zw4QPWvs.twitter\\xe8' for obj:\n"
     ]
    },
    {
     "name": "stdout",
     "output_type": "stream",
     "text": [
      "Unicode error: b'http://m.utusan.com.my/bisnes/korporat/avasb-satssb-bangunkan-kemudahan-mro-di-senai-1.452956#.WL3zw4QPWvs.twitter\\xe8' for obj:\nUnicode error: b'http://m.utusan.com.my/bisnes/korporat/avasb-satssb-bangunkan-kemudahan-mro-di-senai-1.452956#.WL3zw4QPWvs.twitter\\xe8' for obj:\nUnicode error: b'http://m.utusan.com.my/bisnes/korporat/avasb-satssb-bangunkan-kemudahan-mro-di-senai-1.452956#.WL3zw4QPWvs.twitter\\xe8' for obj:\n"
     ]
    },
    {
     "name": "stdout",
     "output_type": "stream",
     "text": [
      "Unicode error: b'http://m.utusan.com.my/bisnes/korporat/avasb-satssb-bangunkan-kemudahan-mro-di-senai-1.452956#.WL3zw4QPWvs.twitter\\xe8' for obj:\nUnicode error: b'http://m.utusan.com.my/bisnes/korporat/avasb-satssb-bangunkan-kemudahan-mro-di-senai-1.452956#.WL3zw4QPWvs.twitter\\xe8' for obj:\n"
     ]
    },
    {
     "name": "stdout",
     "output_type": "stream",
     "text": [
      "Unicode error: b'http://m.utusan.com.my/bisnes/korporat/avasb-satssb-bangunkan-kemudahan-mro-di-senai-1.452956#.WL3zw4QPWvs.twitter\\xe8' for obj:\nUnicode error: b'http://m.utusan.com.my/bisnes/korporat/avasb-satssb-bangunkan-kemudahan-mro-di-senai-1.452956#.WL3zw4QPWvs.twitter\\xe8' for obj:\n"
     ]
    },
    {
     "name": "stdout",
     "output_type": "stream",
     "text": [
      "Unicode error: b'http://m.utusan.com.my/bisnes/korporat/avasb-satssb-bangunkan-kemudahan-mro-di-senai-1.452956#.WL3zw4QPWvs.twitter\\xe8' for obj:\nUnicode error: b'http://m.utusan.com.my/bisnes/korporat/avasb-satssb-bangunkan-kemudahan-mro-di-senai-1.452956#.WL3zw4QPWvs.twitter\\xe8' for obj:\n"
     ]
    },
    {
     "name": "stdout",
     "output_type": "stream",
     "text": [
      "Unicode error: b'http://m.utusan.com.my/bisnes/korporat/avasb-satssb-bangunkan-kemudahan-mro-di-senai-1.452956#.WL3zw4QPWvs.twitter\\xe8' for obj:\nUnicode error: b'http://m.utusan.com.my/bisnes/korporat/avasb-satssb-bangunkan-kemudahan-mro-di-senai-1.452956#.WL3zw4QPWvs.twitter\\xe8' for obj:\n"
     ]
    },
    {
     "name": "stdout",
     "output_type": "stream",
     "text": [
      "Unicode error: b'http://m.utusan.com.my/bisnes/korporat/avasb-satssb-bangunkan-kemudahan-mro-di-senai-1.452956#.WL3zw4QPWvs.twitter\\xe8' for obj:\nUnicode error: b'http://m.utusan.com.my/bisnes/korporat/avasb-satssb-bangunkan-kemudahan-mro-di-senai-1.452956#.WL3zw4QPWvs.twitter\\xe8' for obj:\n"
     ]
    },
    {
     "name": "stdout",
     "output_type": "stream",
     "text": [
      "Unicode error: b'http://m.utusan.com.my/bisnes/korporat/avasb-satssb-bangunkan-kemudahan-mro-di-senai-1.452956#.WL3zw4QPWvs.twitter\\xe8' for obj:\nUnicode error: b'http://m.utusan.com.my/bisnes/korporat/avasb-satssb-bangunkan-kemudahan-mro-di-senai-1.452956#.WL3zw4QPWvs.twitter\\xe8' for obj:\n"
     ]
    },
    {
     "name": "stdout",
     "output_type": "stream",
     "text": [
      "Unicode error: b'http://m.utusan.com.my/bisnes/korporat/avasb-satssb-bangunkan-kemudahan-mro-di-senai-1.452956#.WL3zw4QPWvs.twitter\\xe8' for obj:\nUnicode error: b'http://m.utusan.com.my/bisnes/korporat/avasb-satssb-bangunkan-kemudahan-mro-di-senai-1.452956#.WL3zw4QPWvs.twitter\\xe8' for obj:\n"
     ]
    },
    {
     "name": "stdout",
     "output_type": "stream",
     "text": [
      "Unicode error: b'http://m.utusan.com.my/bisnes/korporat/avasb-satssb-bangunkan-kemudahan-mro-di-senai-1.452956#.WL3zw4QPWvs.twitter\\xe8' for obj:\nUnicode error: b'http://m.utusan.com.my/bisnes/korporat/avasb-satssb-bangunkan-kemudahan-mro-di-senai-1.452956#.WL3zw4QPWvs.twitter\\xe8' for obj:\n"
     ]
    },
    {
     "name": "stdout",
     "output_type": "stream",
     "text": [
      "Unicode error: b'http://m.utusan.com.my/bisnes/korporat/avasb-satssb-bangunkan-kemudahan-mro-di-senai-1.452956#.WL3zw4QPWvs.twitter\\xe8' for obj:\nUnicode error: b'http://m.utusan.com.my/bisnes/korporat/avasb-satssb-bangunkan-kemudahan-mro-di-senai-1.452956#.WL3zw4QPWvs.twitter\\xe8' for obj:\nUnicode error: b'http://m.utusan.com.my/bisnes/korporat/avasb-satssb-bangunkan-kemudahan-mro-di-senai-1.452956#.WL3zw4QPWvs.twitter\\xe8' for obj:\n"
     ]
    },
    {
     "name": "stdout",
     "output_type": "stream",
     "text": [
      "Unicode error: b'http://m.utusan.com.my/bisnes/korporat/avasb-satssb-bangunkan-kemudahan-mro-di-senai-1.452956#.WL3zw4QPWvs.twitter\\xe8' for obj:\nUnicode error: b'http://m.utusan.com.my/bisnes/korporat/avasb-satssb-bangunkan-kemudahan-mro-di-senai-1.452956#.WL3zw4QPWvs.twitter\\xe8' for obj:\nUnicode error: b'http://m.utusan.com.my/bisnes/korporat/avasb-satssb-bangunkan-kemudahan-mro-di-senai-1.452956#.WL3zw4QPWvs.twitter\\xe8' for obj:\n"
     ]
    },
    {
     "name": "stdout",
     "output_type": "stream",
     "text": [
      "Unicode error: b'http://m.utusan.com.my/bisnes/korporat/avasb-satssb-bangunkan-kemudahan-mro-di-senai-1.452956#.WL3zw4QPWvs.twitter\\xe8' for obj:\nUnicode error: b'http://m.utusan.com.my/bisnes/korporat/avasb-satssb-bangunkan-kemudahan-mro-di-senai-1.452956#.WL3zw4QPWvs.twitter\\xe8' for obj:\nUnicode error: b'http://m.utusan.com.my/bisnes/korporat/avasb-satssb-bangunkan-kemudahan-mro-di-senai-1.452956#.WL3zw4QPWvs.twitter\\xe8' for obj:\n"
     ]
    },
    {
     "name": "stdout",
     "output_type": "stream",
     "text": [
      "Unicode error: b'http://m.utusan.com.my/bisnes/korporat/avasb-satssb-bangunkan-kemudahan-mro-di-senai-1.452956#.WL3zw4QPWvs.twitter\\xe8' for obj:\nUnicode error: b'http://m.utusan.com.my/bisnes/korporat/avasb-satssb-bangunkan-kemudahan-mro-di-senai-1.452956#.WL3zw4QPWvs.twitter\\xe8' for obj:\nUnicode error: b'http://m.utusan.com.my/bisnes/korporat/avasb-satssb-bangunkan-kemudahan-mro-di-senai-1.452956#.WL3zw4QPWvs.twitter\\xe8' for obj:\n"
     ]
    },
    {
     "name": "stdout",
     "output_type": "stream",
     "text": [
      "Unicode error: b'http://m.utusan.com.my/bisnes/korporat/avasb-satssb-bangunkan-kemudahan-mro-di-senai-1.452956#.WL3zw4QPWvs.twitter\\xe8' for obj:\nUnicode error: b'http://m.utusan.com.my/bisnes/korporat/avasb-satssb-bangunkan-kemudahan-mro-di-senai-1.452956#.WL3zw4QPWvs.twitter\\xe8' for obj:\nUnicode error: b'http://m.utusan.com.my/bisnes/korporat/avasb-satssb-bangunkan-kemudahan-mro-di-senai-1.452956#.WL3zw4QPWvs.twitter\\xe8' for obj:\n"
     ]
    },
    {
     "name": "stdout",
     "output_type": "stream",
     "text": [
      "Unicode error: b'http://m.utusan.com.my/bisnes/korporat/avasb-satssb-bangunkan-kemudahan-mro-di-senai-1.452956#.WL3zw4QPWvs.twitter\\xe8' for obj:\nUnicode error: b'http://m.utusan.com.my/bisnes/korporat/avasb-satssb-bangunkan-kemudahan-mro-di-senai-1.452956#.WL3zw4QPWvs.twitter\\xe8' for obj:\nUnicode error: b'http://m.utusan.com.my/bisnes/korporat/avasb-satssb-bangunkan-kemudahan-mro-di-senai-1.452956#.WL3zw4QPWvs.twitter\\xe8' for obj:\n"
     ]
    },
    {
     "name": "stdout",
     "output_type": "stream",
     "text": [
      "Unicode error: b'http://m.utusan.com.my/bisnes/korporat/avasb-satssb-bangunkan-kemudahan-mro-di-senai-1.452956#.WL3zw4QPWvs.twitter\\xe8' for obj:\nUnicode error: b'http://m.utusan.com.my/bisnes/korporat/avasb-satssb-bangunkan-kemudahan-mro-di-senai-1.452956#.WL3zw4QPWvs.twitter\\xe8' for obj:\nUnicode error: b'http://m.utusan.com.my/bisnes/korporat/avasb-satssb-bangunkan-kemudahan-mro-di-senai-1.452956#.WL3zw4QPWvs.twitter\\xe8' for obj:\n"
     ]
    },
    {
     "name": "stdout",
     "output_type": "stream",
     "text": [
      "Unicode error: b'http://m.utusan.com.my/bisnes/korporat/avasb-satssb-bangunkan-kemudahan-mro-di-senai-1.452956#.WL3zw4QPWvs.twitter\\xe8' for obj:\nUnicode error: b'http://m.utusan.com.my/bisnes/korporat/avasb-satssb-bangunkan-kemudahan-mro-di-senai-1.452956#.WL3zw4QPWvs.twitter\\xe8' for obj:\nUnicode error: b'http://m.utusan.com.my/bisnes/korporat/avasb-satssb-bangunkan-kemudahan-mro-di-senai-1.452956#.WL3zw4QPWvs.twitter\\xe8' for obj:\n"
     ]
    },
    {
     "name": "stdout",
     "output_type": "stream",
     "text": [
      "Unicode error: b'http://m.utusan.com.my/bisnes/korporat/avasb-satssb-bangunkan-kemudahan-mro-di-senai-1.452956#.WL3zw4QPWvs.twitter\\xe8' for obj:\nUnicode error: b'http://m.utusan.com.my/bisnes/korporat/avasb-satssb-bangunkan-kemudahan-mro-di-senai-1.452956#.WL3zw4QPWvs.twitter\\xe8' for obj:\nUnicode error: b'http://m.utusan.com.my/bisnes/korporat/avasb-satssb-bangunkan-kemudahan-mro-di-senai-1.452956#.WL3zw4QPWvs.twitter\\xe8' for obj:\n"
     ]
    },
    {
     "name": "stdout",
     "output_type": "stream",
     "text": [
      "Unicode error: b'http://m.utusan.com.my/bisnes/korporat/avasb-satssb-bangunkan-kemudahan-mro-di-senai-1.452956#.WL3zw4QPWvs.twitter\\xe8' for obj:\nUnicode error: b'http://m.utusan.com.my/bisnes/korporat/avasb-satssb-bangunkan-kemudahan-mro-di-senai-1.452956#.WL3zw4QPWvs.twitter\\xe8' for obj:\n"
     ]
    },
    {
     "name": "stdout",
     "output_type": "stream",
     "text": [
      "Unicode error: b'http://m.utusan.com.my/bisnes/korporat/avasb-satssb-bangunkan-kemudahan-mro-di-senai-1.452956#.WL3zw4QPWvs.twitter\\xe8' for obj:\nUnicode error: b'http://m.utusan.com.my/bisnes/korporat/avasb-satssb-bangunkan-kemudahan-mro-di-senai-1.452956#.WL3zw4QPWvs.twitter\\xe8' for obj:\nUnicode error: b'http://m.utusan.com.my/bisnes/korporat/avasb-satssb-bangunkan-kemudahan-mro-di-senai-1.452956#.WL3zw4QPWvs.twitter\\xe8' for obj:\n"
     ]
    },
    {
     "name": "stdout",
     "output_type": "stream",
     "text": [
      "Unicode error: b'http://m.utusan.com.my/bisnes/korporat/avasb-satssb-bangunkan-kemudahan-mro-di-senai-1.452956#.WL3zw4QPWvs.twitter\\xe8' for obj:\nUnicode error: b'http://m.utusan.com.my/bisnes/korporat/avasb-satssb-bangunkan-kemudahan-mro-di-senai-1.452956#.WL3zw4QPWvs.twitter\\xe8' for obj:\nUnicode error: b'http://m.utusan.com.my/bisnes/korporat/avasb-satssb-bangunkan-kemudahan-mro-di-senai-1.452956#.WL3zw4QPWvs.twitter\\xe8' for obj:\n"
     ]
    },
    {
     "name": "stdout",
     "output_type": "stream",
     "text": [
      "Unicode error: b'http://m.utusan.com.my/bisnes/korporat/avasb-satssb-bangunkan-kemudahan-mro-di-senai-1.452956#.WL3zw4QPWvs.twitter\\xe8' for obj:\nUnicode error: b'http://m.utusan.com.my/bisnes/korporat/avasb-satssb-bangunkan-kemudahan-mro-di-senai-1.452956#.WL3zw4QPWvs.twitter\\xe8' for obj:\nUnicode error: b'http://m.utusan.com.my/bisnes/korporat/avasb-satssb-bangunkan-kemudahan-mro-di-senai-1.452956#.WL3zw4QPWvs.twitter\\xe8' for obj:\n"
     ]
    },
    {
     "name": "stdout",
     "output_type": "stream",
     "text": [
      "Unicode error: b'http://m.utusan.com.my/bisnes/korporat/avasb-satssb-bangunkan-kemudahan-mro-di-senai-1.452956#.WL3zw4QPWvs.twitter\\xe8' for obj:\nUnicode error: b'http://m.utusan.com.my/bisnes/korporat/avasb-satssb-bangunkan-kemudahan-mro-di-senai-1.452956#.WL3zw4QPWvs.twitter\\xe8' for obj:\nUnicode error: b'http://m.utusan.com.my/bisnes/korporat/avasb-satssb-bangunkan-kemudahan-mro-di-senai-1.452956#.WL3zw4QPWvs.twitter\\xe8' for obj:\n"
     ]
    },
    {
     "name": "stdout",
     "output_type": "stream",
     "text": [
      "Unicode error: b'http://m.utusan.com.my/bisnes/korporat/avasb-satssb-bangunkan-kemudahan-mro-di-senai-1.452956#.WL3zw4QPWvs.twitter\\xe8' for obj:\nUnicode error: b'http://m.utusan.com.my/bisnes/korporat/avasb-satssb-bangunkan-kemudahan-mro-di-senai-1.452956#.WL3zw4QPWvs.twitter\\xe8' for obj:\nUnicode error: b'http://m.utusan.com.my/bisnes/korporat/avasb-satssb-bangunkan-kemudahan-mro-di-senai-1.452956#.WL3zw4QPWvs.twitter\\xe8' for obj:\n"
     ]
    },
    {
     "name": "stdout",
     "output_type": "stream",
     "text": [
      "Unicode error: b'http://m.utusan.com.my/bisnes/korporat/avasb-satssb-bangunkan-kemudahan-mro-di-senai-1.452956#.WL3zw4QPWvs.twitter\\xe8' for obj:\nUnicode error: b'http://m.utusan.com.my/bisnes/korporat/avasb-satssb-bangunkan-kemudahan-mro-di-senai-1.452956#.WL3zw4QPWvs.twitter\\xe8' for obj:\nUnicode error: b'http://m.utusan.com.my/bisnes/korporat/avasb-satssb-bangunkan-kemudahan-mro-di-senai-1.452956#.WL3zw4QPWvs.twitter\\xe8' for obj:\n"
     ]
    },
    {
     "name": "stdout",
     "output_type": "stream",
     "text": [
      "Unicode error: b'http://m.utusan.com.my/bisnes/korporat/avasb-satssb-bangunkan-kemudahan-mro-di-senai-1.452956#.WL3zw4QPWvs.twitter\\xe8' for obj:\nUnicode error: b'http://m.utusan.com.my/bisnes/korporat/avasb-satssb-bangunkan-kemudahan-mro-di-senai-1.452956#.WL3zw4QPWvs.twitter\\xe8' for obj:\nUnicode error: b'http://m.utusan.com.my/bisnes/korporat/avasb-satssb-bangunkan-kemudahan-mro-di-senai-1.452956#.WL3zw4QPWvs.twitter\\xe8' for obj:\n"
     ]
    },
    {
     "name": "stdout",
     "output_type": "stream",
     "text": [
      "Unicode error: b'http://m.utusan.com.my/bisnes/korporat/avasb-satssb-bangunkan-kemudahan-mro-di-senai-1.452956#.WL3zw4QPWvs.twitter\\xe8' for obj:\nUnicode error: b'http://m.utusan.com.my/bisnes/korporat/avasb-satssb-bangunkan-kemudahan-mro-di-senai-1.452956#.WL3zw4QPWvs.twitter\\xe8' for obj:\nUnicode error: b'http://m.utusan.com.my/bisnes/korporat/avasb-satssb-bangunkan-kemudahan-mro-di-senai-1.452956#.WL3zw4QPWvs.twitter\\xe8' for obj:\n"
     ]
    },
    {
     "name": "stdout",
     "output_type": "stream",
     "text": [
      "Unicode error: b'http://m.utusan.com.my/bisnes/korporat/avasb-satssb-bangunkan-kemudahan-mro-di-senai-1.452956#.WL3zw4QPWvs.twitter\\xe8' for obj:\nUnicode error: b'http://m.utusan.com.my/bisnes/korporat/avasb-satssb-bangunkan-kemudahan-mro-di-senai-1.452956#.WL3zw4QPWvs.twitter\\xe8' for obj:\nUnicode error: b'http://m.utusan.com.my/bisnes/korporat/avasb-satssb-bangunkan-kemudahan-mro-di-senai-1.452956#.WL3zw4QPWvs.twitter\\xe8' for obj:\n"
     ]
    },
    {
     "name": "stdout",
     "output_type": "stream",
     "text": [
      "Unicode error: b'http://m.utusan.com.my/bisnes/korporat/avasb-satssb-bangunkan-kemudahan-mro-di-senai-1.452956#.WL3zw4QPWvs.twitter\\xe8' for obj:\nUnicode error: b'http://m.utusan.com.my/bisnes/korporat/avasb-satssb-bangunkan-kemudahan-mro-di-senai-1.452956#.WL3zw4QPWvs.twitter\\xe8' for obj:\nUnicode error: b'http://m.utusan.com.my/bisnes/korporat/avasb-satssb-bangunkan-kemudahan-mro-di-senai-1.452956#.WL3zw4QPWvs.twitter\\xe8' for obj:\n"
     ]
    },
    {
     "name": "stdout",
     "output_type": "stream",
     "text": [
      "Unicode error: b'http://m.utusan.com.my/bisnes/korporat/avasb-satssb-bangunkan-kemudahan-mro-di-senai-1.452956#.WL3zw4QPWvs.twitter\\xe8' for obj:\nUnicode error: b'http://m.utusan.com.my/bisnes/korporat/avasb-satssb-bangunkan-kemudahan-mro-di-senai-1.452956#.WL3zw4QPWvs.twitter\\xe8' for obj:\n"
     ]
    },
    {
     "name": "stdout",
     "output_type": "stream",
     "text": [
      "Unicode error: b'http://m.utusan.com.my/bisnes/korporat/avasb-satssb-bangunkan-kemudahan-mro-di-senai-1.452956#.WL3zw4QPWvs.twitter\\xe8' for obj:\n"
     ]
    },
    {
     "name": "stdout",
     "output_type": "stream",
     "text": [
      "Unicode error: b'http://m.utusan.com.my/bisnes/korporat/avasb-satssb-bangunkan-kemudahan-mro-di-senai-1.452956#.WL3zw4QPWvs.twitter\\xe8' for obj:\nUnicode error: b'http://m.utusan.com.my/bisnes/korporat/avasb-satssb-bangunkan-kemudahan-mro-di-senai-1.452956#.WL3zw4QPWvs.twitter\\xe8' for obj:\n"
     ]
    },
    {
     "name": "stdout",
     "output_type": "stream",
     "text": [
      "Unicode error: b'http://m.utusan.com.my/bisnes/korporat/avasb-satssb-bangunkan-kemudahan-mro-di-senai-1.452956#.WL3zw4QPWvs.twitter\\xe8' for obj:\nUnicode error: b'http://m.utusan.com.my/bisnes/korporat/avasb-satssb-bangunkan-kemudahan-mro-di-senai-1.452956#.WL3zw4QPWvs.twitter\\xe8' for obj:\n"
     ]
    },
    {
     "name": "stdout",
     "output_type": "stream",
     "text": [
      "Unicode error: b'http://m.utusan.com.my/bisnes/korporat/avasb-satssb-bangunkan-kemudahan-mro-di-senai-1.452956#.WL3zw4QPWvs.twitter\\xe8' for obj:\nUnicode error: b'http://m.utusan.com.my/bisnes/korporat/avasb-satssb-bangunkan-kemudahan-mro-di-senai-1.452956#.WL3zw4QPWvs.twitter\\xe8' for obj:\nUnicode error: b'http://m.utusan.com.my/bisnes/korporat/avasb-satssb-bangunkan-kemudahan-mro-di-senai-1.452956#.WL3zw4QPWvs.twitter\\xe8' for obj:\n"
     ]
    },
    {
     "name": "stdout",
     "output_type": "stream",
     "text": [
      "Unicode error: b'http://m.utusan.com.my/bisnes/korporat/avasb-satssb-bangunkan-kemudahan-mro-di-senai-1.452956#.WL3zw4QPWvs.twitter\\xe8' for obj:\nUnicode error: b'http://m.utusan.com.my/bisnes/korporat/avasb-satssb-bangunkan-kemudahan-mro-di-senai-1.452956#.WL3zw4QPWvs.twitter\\xe8' for obj:\nUnicode error: b'http://m.utusan.com.my/bisnes/korporat/avasb-satssb-bangunkan-kemudahan-mro-di-senai-1.452956#.WL3zw4QPWvs.twitter\\xe8' for obj:\n"
     ]
    },
    {
     "name": "stdout",
     "output_type": "stream",
     "text": [
      "Unicode error: b'http://m.utusan.com.my/bisnes/korporat/avasb-satssb-bangunkan-kemudahan-mro-di-senai-1.452956#.WL3zw4QPWvs.twitter\\xe8' for obj:\nUnicode error: b'http://m.utusan.com.my/bisnes/korporat/avasb-satssb-bangunkan-kemudahan-mro-di-senai-1.452956#.WL3zw4QPWvs.twitter\\xe8' for obj:\nUnicode error: b'http://m.utusan.com.my/bisnes/korporat/avasb-satssb-bangunkan-kemudahan-mro-di-senai-1.452956#.WL3zw4QPWvs.twitter\\xe8' for obj:\n"
     ]
    },
    {
     "name": "stdout",
     "output_type": "stream",
     "text": [
      "Unicode error: b'http://m.utusan.com.my/bisnes/korporat/avasb-satssb-bangunkan-kemudahan-mro-di-senai-1.452956#.WL3zw4QPWvs.twitter\\xe8' for obj:\nUnicode error: b'http://m.utusan.com.my/bisnes/korporat/avasb-satssb-bangunkan-kemudahan-mro-di-senai-1.452956#.WL3zw4QPWvs.twitter\\xe8' for obj:\nUnicode error: b'http://m.utusan.com.my/bisnes/korporat/avasb-satssb-bangunkan-kemudahan-mro-di-senai-1.452956#.WL3zw4QPWvs.twitter\\xe8' for obj:\n"
     ]
    },
    {
     "name": "stdout",
     "output_type": "stream",
     "text": [
      "Unicode error: b'http://m.utusan.com.my/bisnes/korporat/avasb-satssb-bangunkan-kemudahan-mro-di-senai-1.452956#.WL3zw4QPWvs.twitter\\xe8' for obj:\nUnicode error: b'http://m.utusan.com.my/bisnes/korporat/avasb-satssb-bangunkan-kemudahan-mro-di-senai-1.452956#.WL3zw4QPWvs.twitter\\xe8' for obj:\nUnicode error: b'http://m.utusan.com.my/bisnes/korporat/avasb-satssb-bangunkan-kemudahan-mro-di-senai-1.452956#.WL3zw4QPWvs.twitter\\xe8' for obj:\n"
     ]
    },
    {
     "name": "stdout",
     "output_type": "stream",
     "text": [
      "Unicode error: b'http://m.utusan.com.my/bisnes/korporat/avasb-satssb-bangunkan-kemudahan-mro-di-senai-1.452956#.WL3zw4QPWvs.twitter\\xe8' for obj:\nUnicode error: b'http://m.utusan.com.my/bisnes/korporat/avasb-satssb-bangunkan-kemudahan-mro-di-senai-1.452956#.WL3zw4QPWvs.twitter\\xe8' for obj:\nUnicode error: b'http://m.utusan.com.my/bisnes/korporat/avasb-satssb-bangunkan-kemudahan-mro-di-senai-1.452956#.WL3zw4QPWvs.twitter\\xe8' for obj:\n"
     ]
    },
    {
     "name": "stdout",
     "output_type": "stream",
     "text": [
      "Unicode error: b'http://m.utusan.com.my/bisnes/korporat/avasb-satssb-bangunkan-kemudahan-mro-di-senai-1.452956#.WL3zw4QPWvs.twitter\\xe8' for obj:\nUnicode error: b'http://m.utusan.com.my/bisnes/korporat/avasb-satssb-bangunkan-kemudahan-mro-di-senai-1.452956#.WL3zw4QPWvs.twitter\\xe8' for obj:\n"
     ]
    },
    {
     "name": "stdout",
     "output_type": "stream",
     "text": [
      "Unicode error: b'http://m.utusan.com.my/bisnes/korporat/avasb-satssb-bangunkan-kemudahan-mro-di-senai-1.452956#.WL3zw4QPWvs.twitter\\xe8' for obj:\nUnicode error: b'http://m.utusan.com.my/bisnes/korporat/avasb-satssb-bangunkan-kemudahan-mro-di-senai-1.452956#.WL3zw4QPWvs.twitter\\xe8' for obj:\nUnicode error: b'http://m.utusan.com.my/bisnes/korporat/avasb-satssb-bangunkan-kemudahan-mro-di-senai-1.452956#.WL3zw4QPWvs.twitter\\xe8' for obj:\n"
     ]
    },
    {
     "name": "stdout",
     "output_type": "stream",
     "text": [
      "Unicode error: b'http://m.utusan.com.my/bisnes/korporat/avasb-satssb-bangunkan-kemudahan-mro-di-senai-1.452956#.WL3zw4QPWvs.twitter\\xe8' for obj:\nUnicode error: b'http://m.utusan.com.my/bisnes/korporat/avasb-satssb-bangunkan-kemudahan-mro-di-senai-1.452956#.WL3zw4QPWvs.twitter\\xe8' for obj:\nUnicode error: b'http://m.utusan.com.my/bisnes/korporat/avasb-satssb-bangunkan-kemudahan-mro-di-senai-1.452956#.WL3zw4QPWvs.twitter\\xe8' for obj:\n"
     ]
    },
    {
     "name": "stdout",
     "output_type": "stream",
     "text": [
      "Unicode error: b'http://m.utusan.com.my/bisnes/korporat/avasb-satssb-bangunkan-kemudahan-mro-di-senai-1.452956#.WL3zw4QPWvs.twitter\\xe8' for obj:\nUnicode error: b'http://m.utusan.com.my/bisnes/korporat/avasb-satssb-bangunkan-kemudahan-mro-di-senai-1.452956#.WL3zw4QPWvs.twitter\\xe8' for obj:\nUnicode error: b'http://m.utusan.com.my/bisnes/korporat/avasb-satssb-bangunkan-kemudahan-mro-di-senai-1.452956#.WL3zw4QPWvs.twitter\\xe8' for obj:\n"
     ]
    },
    {
     "name": "stdout",
     "output_type": "stream",
     "text": [
      "Unicode error: b'http://m.utusan.com.my/bisnes/korporat/avasb-satssb-bangunkan-kemudahan-mro-di-senai-1.452956#.WL3zw4QPWvs.twitter\\xe8' for obj:\nUnicode error: b'http://m.utusan.com.my/bisnes/korporat/avasb-satssb-bangunkan-kemudahan-mro-di-senai-1.452956#.WL3zw4QPWvs.twitter\\xe8' for obj:\nUnicode error: b'http://m.utusan.com.my/bisnes/korporat/avasb-satssb-bangunkan-kemudahan-mro-di-senai-1.452956#.WL3zw4QPWvs.twitter\\xe8' for obj:\n"
     ]
    },
    {
     "name": "stdout",
     "output_type": "stream",
     "text": [
      "Unicode error: b'http://m.utusan.com.my/bisnes/korporat/avasb-satssb-bangunkan-kemudahan-mro-di-senai-1.452956#.WL3zw4QPWvs.twitter\\xe8' for obj:\nUnicode error: b'http://m.utusan.com.my/bisnes/korporat/avasb-satssb-bangunkan-kemudahan-mro-di-senai-1.452956#.WL3zw4QPWvs.twitter\\xe8' for obj:\nUnicode error: b'http://m.utusan.com.my/bisnes/korporat/avasb-satssb-bangunkan-kemudahan-mro-di-senai-1.452956#.WL3zw4QPWvs.twitter\\xe8' for obj:\n"
     ]
    },
    {
     "name": "stdout",
     "output_type": "stream",
     "text": [
      "Unicode error: b'http://m.utusan.com.my/bisnes/korporat/avasb-satssb-bangunkan-kemudahan-mro-di-senai-1.452956#.WL3zw4QPWvs.twitter\\xe8' for obj:\nUnicode error: b'http://m.utusan.com.my/bisnes/korporat/avasb-satssb-bangunkan-kemudahan-mro-di-senai-1.452956#.WL3zw4QPWvs.twitter\\xe8' for obj:\nUnicode error: b'http://m.utusan.com.my/bisnes/korporat/avasb-satssb-bangunkan-kemudahan-mro-di-senai-1.452956#.WL3zw4QPWvs.twitter\\xe8' for obj:\n"
     ]
    },
    {
     "name": "stdout",
     "output_type": "stream",
     "text": [
      "Unicode error: b'http://m.utusan.com.my/bisnes/korporat/avasb-satssb-bangunkan-kemudahan-mro-di-senai-1.452956#.WL3zw4QPWvs.twitter\\xe8' for obj:\nUnicode error: b'http://m.utusan.com.my/bisnes/korporat/avasb-satssb-bangunkan-kemudahan-mro-di-senai-1.452956#.WL3zw4QPWvs.twitter\\xe8' for obj:\nUnicode error: b'http://m.utusan.com.my/bisnes/korporat/avasb-satssb-bangunkan-kemudahan-mro-di-senai-1.452956#.WL3zw4QPWvs.twitter\\xe8' for obj:\n"
     ]
    },
    {
     "name": "stdout",
     "output_type": "stream",
     "text": [
      "Unicode error: b'http://m.utusan.com.my/bisnes/korporat/avasb-satssb-bangunkan-kemudahan-mro-di-senai-1.452956#.WL3zw4QPWvs.twitter\\xe8' for obj:\nUnicode error: b'http://m.utusan.com.my/bisnes/korporat/avasb-satssb-bangunkan-kemudahan-mro-di-senai-1.452956#.WL3zw4QPWvs.twitter\\xe8' for obj:\nUnicode error: b'http://m.utusan.com.my/bisnes/korporat/avasb-satssb-bangunkan-kemudahan-mro-di-senai-1.452956#.WL3zw4QPWvs.twitter\\xe8' for obj:\n"
     ]
    },
    {
     "name": "stdout",
     "output_type": "stream",
     "text": [
      "Unicode error: b'http://m.utusan.com.my/bisnes/korporat/avasb-satssb-bangunkan-kemudahan-mro-di-senai-1.452956#.WL3zw4QPWvs.twitter\\xe8' for obj:\nUnicode error: b'http://m.utusan.com.my/bisnes/korporat/avasb-satssb-bangunkan-kemudahan-mro-di-senai-1.452956#.WL3zw4QPWvs.twitter\\xe8' for obj:\nUnicode error: b'http://m.utusan.com.my/bisnes/korporat/avasb-satssb-bangunkan-kemudahan-mro-di-senai-1.452956#.WL3zw4QPWvs.twitter\\xe8' for obj:\n"
     ]
    },
    {
     "name": "stdout",
     "output_type": "stream",
     "text": [
      "Unicode error: b'http://m.utusan.com.my/bisnes/korporat/avasb-satssb-bangunkan-kemudahan-mro-di-senai-1.452956#.WL3zw4QPWvs.twitter\\xe8' for obj:\nUnicode error: b'http://m.utusan.com.my/bisnes/korporat/avasb-satssb-bangunkan-kemudahan-mro-di-senai-1.452956#.WL3zw4QPWvs.twitter\\xe8' for obj:\nUnicode error: b'http://m.utusan.com.my/bisnes/korporat/avasb-satssb-bangunkan-kemudahan-mro-di-senai-1.452956#.WL3zw4QPWvs.twitter\\xe8' for obj:\n"
     ]
    },
    {
     "name": "stdout",
     "output_type": "stream",
     "text": [
      "Unicode error: b'http://m.utusan.com.my/bisnes/korporat/avasb-satssb-bangunkan-kemudahan-mro-di-senai-1.452956#.WL3zw4QPWvs.twitter\\xe8' for obj:\nUnicode error: b'http://m.utusan.com.my/bisnes/korporat/avasb-satssb-bangunkan-kemudahan-mro-di-senai-1.452956#.WL3zw4QPWvs.twitter\\xe8' for obj:\nUnicode error: b'http://m.utusan.com.my/bisnes/korporat/avasb-satssb-bangunkan-kemudahan-mro-di-senai-1.452956#.WL3zw4QPWvs.twitter\\xe8' for obj:\n"
     ]
    },
    {
     "name": "stdout",
     "output_type": "stream",
     "text": [
      "Unicode error: b'http://m.utusan.com.my/bisnes/korporat/avasb-satssb-bangunkan-kemudahan-mro-di-senai-1.452956#.WL3zw4QPWvs.twitter\\xe8' for obj:\nUnicode error: b'http://m.utusan.com.my/bisnes/korporat/avasb-satssb-bangunkan-kemudahan-mro-di-senai-1.452956#.WL3zw4QPWvs.twitter\\xe8' for obj:\nUnicode error: b'http://m.utusan.com.my/bisnes/korporat/avasb-satssb-bangunkan-kemudahan-mro-di-senai-1.452956#.WL3zw4QPWvs.twitter\\xe8' for obj:\n"
     ]
    },
    {
     "name": "stdout",
     "output_type": "stream",
     "text": [
      "Unicode error: b'http://m.utusan.com.my/bisnes/korporat/avasb-satssb-bangunkan-kemudahan-mro-di-senai-1.452956#.WL3zw4QPWvs.twitter\\xe8' for obj:\nUnicode error: b'http://m.utusan.com.my/bisnes/korporat/avasb-satssb-bangunkan-kemudahan-mro-di-senai-1.452956#.WL3zw4QPWvs.twitter\\xe8' for obj:\nUnicode error: b'http://m.utusan.com.my/bisnes/korporat/avasb-satssb-bangunkan-kemudahan-mro-di-senai-1.452956#.WL3zw4QPWvs.twitter\\xe8' for obj:\n"
     ]
    },
    {
     "name": "stdout",
     "output_type": "stream",
     "text": [
      "Unicode error: b'http://m.utusan.com.my/bisnes/korporat/avasb-satssb-bangunkan-kemudahan-mro-di-senai-1.452956#.WL3zw4QPWvs.twitter\\xe8' for obj:\nUnicode error: b'http://m.utusan.com.my/bisnes/korporat/avasb-satssb-bangunkan-kemudahan-mro-di-senai-1.452956#.WL3zw4QPWvs.twitter\\xe8' for obj:\nUnicode error: b'http://m.utusan.com.my/bisnes/korporat/avasb-satssb-bangunkan-kemudahan-mro-di-senai-1.452956#.WL3zw4QPWvs.twitter\\xe8' for obj:\n"
     ]
    },
    {
     "name": "stdout",
     "output_type": "stream",
     "text": [
      "Unicode error: b'http://m.utusan.com.my/bisnes/korporat/avasb-satssb-bangunkan-kemudahan-mro-di-senai-1.452956#.WL3zw4QPWvs.twitter\\xe8' for obj:\nUnicode error: b'http://m.utusan.com.my/bisnes/korporat/avasb-satssb-bangunkan-kemudahan-mro-di-senai-1.452956#.WL3zw4QPWvs.twitter\\xe8' for obj:\nUnicode error: b'http://m.utusan.com.my/bisnes/korporat/avasb-satssb-bangunkan-kemudahan-mro-di-senai-1.452956#.WL3zw4QPWvs.twitter\\xe8' for obj:\n"
     ]
    },
    {
     "name": "stdout",
     "output_type": "stream",
     "text": [
      "Unicode error: b'http://m.utusan.com.my/bisnes/korporat/avasb-satssb-bangunkan-kemudahan-mro-di-senai-1.452956#.WL3zw4QPWvs.twitter\\xe8' for obj:\nUnicode error: b'http://m.utusan.com.my/bisnes/korporat/avasb-satssb-bangunkan-kemudahan-mro-di-senai-1.452956#.WL3zw4QPWvs.twitter\\xe8' for obj:\nUnicode error: b'http://m.utusan.com.my/bisnes/korporat/avasb-satssb-bangunkan-kemudahan-mro-di-senai-1.452956#.WL3zw4QPWvs.twitter\\xe8' for obj:\n"
     ]
    },
    {
     "name": "stdout",
     "output_type": "stream",
     "text": [
      "Unicode error: b'http://m.utusan.com.my/bisnes/korporat/avasb-satssb-bangunkan-kemudahan-mro-di-senai-1.452956#.WL3zw4QPWvs.twitter\\xe8' for obj:\nUnicode error: b'http://m.utusan.com.my/bisnes/korporat/avasb-satssb-bangunkan-kemudahan-mro-di-senai-1.452956#.WL3zw4QPWvs.twitter\\xe8' for obj:\nUnicode error: b'http://m.utusan.com.my/bisnes/korporat/avasb-satssb-bangunkan-kemudahan-mro-di-senai-1.452956#.WL3zw4QPWvs.twitter\\xe8' for obj:\n"
     ]
    },
    {
     "name": "stdout",
     "output_type": "stream",
     "text": [
      "Unicode error: b'http://m.utusan.com.my/bisnes/korporat/avasb-satssb-bangunkan-kemudahan-mro-di-senai-1.452956#.WL3zw4QPWvs.twitter\\xe8' for obj:\nUnicode error: b'http://m.utusan.com.my/bisnes/korporat/avasb-satssb-bangunkan-kemudahan-mro-di-senai-1.452956#.WL3zw4QPWvs.twitter\\xe8' for obj:\nUnicode error: b'http://m.utusan.com.my/bisnes/korporat/avasb-satssb-bangunkan-kemudahan-mro-di-senai-1.452956#.WL3zw4QPWvs.twitter\\xe8' for obj:\n"
     ]
    },
    {
     "name": "stdout",
     "output_type": "stream",
     "text": [
      "Unicode error: b'http://m.utusan.com.my/bisnes/korporat/avasb-satssb-bangunkan-kemudahan-mro-di-senai-1.452956#.WL3zw4QPWvs.twitter\\xe8' for obj:\nUnicode error: b'http://m.utusan.com.my/bisnes/korporat/avasb-satssb-bangunkan-kemudahan-mro-di-senai-1.452956#.WL3zw4QPWvs.twitter\\xe8' for obj:\nUnicode error: b'http://m.utusan.com.my/bisnes/korporat/avasb-satssb-bangunkan-kemudahan-mro-di-senai-1.452956#.WL3zw4QPWvs.twitter\\xe8' for obj:\n"
     ]
    },
    {
     "name": "stdout",
     "output_type": "stream",
     "text": [
      "Unicode error: b'http://m.utusan.com.my/bisnes/korporat/avasb-satssb-bangunkan-kemudahan-mro-di-senai-1.452956#.WL3zw4QPWvs.twitter\\xe8' for obj:\nUnicode error: b'http://m.utusan.com.my/bisnes/korporat/avasb-satssb-bangunkan-kemudahan-mro-di-senai-1.452956#.WL3zw4QPWvs.twitter\\xe8' for obj:\nUnicode error: b'http://m.utusan.com.my/bisnes/korporat/avasb-satssb-bangunkan-kemudahan-mro-di-senai-1.452956#.WL3zw4QPWvs.twitter\\xe8' for obj:\n"
     ]
    },
    {
     "name": "stdout",
     "output_type": "stream",
     "text": [
      "Unicode error: b'http://m.utusan.com.my/bisnes/korporat/avasb-satssb-bangunkan-kemudahan-mro-di-senai-1.452956#.WL3zw4QPWvs.twitter\\xe8' for obj:\nUnicode error: b'http://m.utusan.com.my/bisnes/korporat/avasb-satssb-bangunkan-kemudahan-mro-di-senai-1.452956#.WL3zw4QPWvs.twitter\\xe8' for obj:\n"
     ]
    },
    {
     "name": "stdout",
     "output_type": "stream",
     "text": [
      "Unicode error: b'http://m.utusan.com.my/bisnes/korporat/avasb-satssb-bangunkan-kemudahan-mro-di-senai-1.452956#.WL3zw4QPWvs.twitter\\xe8' for obj:\nUnicode error: b'http://m.utusan.com.my/bisnes/korporat/avasb-satssb-bangunkan-kemudahan-mro-di-senai-1.452956#.WL3zw4QPWvs.twitter\\xe8' for obj:\nUnicode error: b'http://m.utusan.com.my/bisnes/korporat/avasb-satssb-bangunkan-kemudahan-mro-di-senai-1.452956#.WL3zw4QPWvs.twitter\\xe8' for obj:\n"
     ]
    },
    {
     "name": "stdout",
     "output_type": "stream",
     "text": [
      "Unicode error: b'http://m.utusan.com.my/bisnes/korporat/avasb-satssb-bangunkan-kemudahan-mro-di-senai-1.452956#.WL3zw4QPWvs.twitter\\xe8' for obj:\nUnicode error: b'http://m.utusan.com.my/bisnes/korporat/avasb-satssb-bangunkan-kemudahan-mro-di-senai-1.452956#.WL3zw4QPWvs.twitter\\xe8' for obj:\nUnicode error: b'http://m.utusan.com.my/bisnes/korporat/avasb-satssb-bangunkan-kemudahan-mro-di-senai-1.452956#.WL3zw4QPWvs.twitter\\xe8' for obj:\n"
     ]
    },
    {
     "name": "stdout",
     "output_type": "stream",
     "text": [
      "Unicode error: b'http://m.utusan.com.my/bisnes/korporat/avasb-satssb-bangunkan-kemudahan-mro-di-senai-1.452956#.WL3zw4QPWvs.twitter\\xe8' for obj:\nUnicode error: b'http://m.utusan.com.my/bisnes/korporat/avasb-satssb-bangunkan-kemudahan-mro-di-senai-1.452956#.WL3zw4QPWvs.twitter\\xe8' for obj:\nUnicode error: b'http://m.utusan.com.my/bisnes/korporat/avasb-satssb-bangunkan-kemudahan-mro-di-senai-1.452956#.WL3zw4QPWvs.twitter\\xe8' for obj:\n"
     ]
    },
    {
     "name": "stdout",
     "output_type": "stream",
     "text": [
      "Unicode error: b'http://m.utusan.com.my/bisnes/korporat/avasb-satssb-bangunkan-kemudahan-mro-di-senai-1.452956#.WL3zw4QPWvs.twitter\\xe8' for obj:\nUnicode error: b'http://m.utusan.com.my/bisnes/korporat/avasb-satssb-bangunkan-kemudahan-mro-di-senai-1.452956#.WL3zw4QPWvs.twitter\\xe8' for obj:\nUnicode error: b'http://m.utusan.com.my/bisnes/korporat/avasb-satssb-bangunkan-kemudahan-mro-di-senai-1.452956#.WL3zw4QPWvs.twitter\\xe8' for obj:\n"
     ]
    },
    {
     "name": "stdout",
     "output_type": "stream",
     "text": [
      "Unicode error: b'http://m.utusan.com.my/bisnes/korporat/avasb-satssb-bangunkan-kemudahan-mro-di-senai-1.452956#.WL3zw4QPWvs.twitter\\xe8' for obj:\nUnicode error: b'http://m.utusan.com.my/bisnes/korporat/avasb-satssb-bangunkan-kemudahan-mro-di-senai-1.452956#.WL3zw4QPWvs.twitter\\xe8' for obj:\nUnicode error: b'http://m.utusan.com.my/bisnes/korporat/avasb-satssb-bangunkan-kemudahan-mro-di-senai-1.452956#.WL3zw4QPWvs.twitter\\xe8' for obj:\n"
     ]
    },
    {
     "name": "stdout",
     "output_type": "stream",
     "text": [
      "Unicode error: b'http://m.utusan.com.my/bisnes/korporat/avasb-satssb-bangunkan-kemudahan-mro-di-senai-1.452956#.WL3zw4QPWvs.twitter\\xe8' for obj:\nUnicode error: b'http://m.utusan.com.my/bisnes/korporat/avasb-satssb-bangunkan-kemudahan-mro-di-senai-1.452956#.WL3zw4QPWvs.twitter\\xe8' for obj:\nUnicode error: b'http://m.utusan.com.my/bisnes/korporat/avasb-satssb-bangunkan-kemudahan-mro-di-senai-1.452956#.WL3zw4QPWvs.twitter\\xe8' for obj:\n"
     ]
    },
    {
     "name": "stdout",
     "output_type": "stream",
     "text": [
      "Unicode error: b'http://m.utusan.com.my/bisnes/korporat/avasb-satssb-bangunkan-kemudahan-mro-di-senai-1.452956#.WL3zw4QPWvs.twitter\\xe8' for obj:\nUnicode error: b'http://m.utusan.com.my/bisnes/korporat/avasb-satssb-bangunkan-kemudahan-mro-di-senai-1.452956#.WL3zw4QPWvs.twitter\\xe8' for obj:\nUnicode error: b'http://m.utusan.com.my/bisnes/korporat/avasb-satssb-bangunkan-kemudahan-mro-di-senai-1.452956#.WL3zw4QPWvs.twitter\\xe8' for obj:\n"
     ]
    },
    {
     "name": "stdout",
     "output_type": "stream",
     "text": [
      "Unicode error: b'http://m.utusan.com.my/bisnes/korporat/avasb-satssb-bangunkan-kemudahan-mro-di-senai-1.452956#.WL3zw4QPWvs.twitter\\xe8' for obj:\nUnicode error: b'http://m.utusan.com.my/bisnes/korporat/avasb-satssb-bangunkan-kemudahan-mro-di-senai-1.452956#.WL3zw4QPWvs.twitter\\xe8' for obj:\nUnicode error: b'http://m.utusan.com.my/bisnes/korporat/avasb-satssb-bangunkan-kemudahan-mro-di-senai-1.452956#.WL3zw4QPWvs.twitter\\xe8' for obj:\n"
     ]
    },
    {
     "name": "stdout",
     "output_type": "stream",
     "text": [
      "Unicode error: b'http://m.utusan.com.my/bisnes/korporat/avasb-satssb-bangunkan-kemudahan-mro-di-senai-1.452956#.WL3zw4QPWvs.twitter\\xe8' for obj:\nUnicode error: b'http://m.utusan.com.my/bisnes/korporat/avasb-satssb-bangunkan-kemudahan-mro-di-senai-1.452956#.WL3zw4QPWvs.twitter\\xe8' for obj:\nUnicode error: b'http://m.utusan.com.my/bisnes/korporat/avasb-satssb-bangunkan-kemudahan-mro-di-senai-1.452956#.WL3zw4QPWvs.twitter\\xe8' for obj:\n"
     ]
    },
    {
     "name": "stdout",
     "output_type": "stream",
     "text": [
      "Unicode error: b'http://m.utusan.com.my/bisnes/korporat/avasb-satssb-bangunkan-kemudahan-mro-di-senai-1.452956#.WL3zw4QPWvs.twitter\\xe8' for obj:\nUnicode error: b'http://m.utusan.com.my/bisnes/korporat/avasb-satssb-bangunkan-kemudahan-mro-di-senai-1.452956#.WL3zw4QPWvs.twitter\\xe8' for obj:\nUnicode error: b'http://m.utusan.com.my/bisnes/korporat/avasb-satssb-bangunkan-kemudahan-mro-di-senai-1.452956#.WL3zw4QPWvs.twitter\\xe8' for obj:\n"
     ]
    },
    {
     "name": "stdout",
     "output_type": "stream",
     "text": [
      "Unicode error: b'http://m.utusan.com.my/bisnes/korporat/avasb-satssb-bangunkan-kemudahan-mro-di-senai-1.452956#.WL3zw4QPWvs.twitter\\xe8' for obj:\nUnicode error: b'http://m.utusan.com.my/bisnes/korporat/avasb-satssb-bangunkan-kemudahan-mro-di-senai-1.452956#.WL3zw4QPWvs.twitter\\xe8' for obj:\nUnicode error: b'http://m.utusan.com.my/bisnes/korporat/avasb-satssb-bangunkan-kemudahan-mro-di-senai-1.452956#.WL3zw4QPWvs.twitter\\xe8' for obj:\n"
     ]
    },
    {
     "name": "stdout",
     "output_type": "stream",
     "text": [
      "Unicode error: b'http://m.utusan.com.my/bisnes/korporat/avasb-satssb-bangunkan-kemudahan-mro-di-senai-1.452956#.WL3zw4QPWvs.twitter\\xe8' for obj:\nUnicode error: b'http://m.utusan.com.my/bisnes/korporat/avasb-satssb-bangunkan-kemudahan-mro-di-senai-1.452956#.WL3zw4QPWvs.twitter\\xe8' for obj:\nUnicode error: b'http://m.utusan.com.my/bisnes/korporat/avasb-satssb-bangunkan-kemudahan-mro-di-senai-1.452956#.WL3zw4QPWvs.twitter\\xe8' for obj:\n"
     ]
    },
    {
     "name": "stdout",
     "output_type": "stream",
     "text": [
      "Unicode error: b'http://m.utusan.com.my/bisnes/korporat/avasb-satssb-bangunkan-kemudahan-mro-di-senai-1.452956#.WL3zw4QPWvs.twitter\\xe8' for obj:\nUnicode error: b'http://m.utusan.com.my/bisnes/korporat/avasb-satssb-bangunkan-kemudahan-mro-di-senai-1.452956#.WL3zw4QPWvs.twitter\\xe8' for obj:\nUnicode error: b'http://m.utusan.com.my/bisnes/korporat/avasb-satssb-bangunkan-kemudahan-mro-di-senai-1.452956#.WL3zw4QPWvs.twitter\\xe8' for obj:\n"
     ]
    },
    {
     "name": "stdout",
     "output_type": "stream",
     "text": [
      "Unicode error: b'http://m.utusan.com.my/bisnes/korporat/avasb-satssb-bangunkan-kemudahan-mro-di-senai-1.452956#.WL3zw4QPWvs.twitter\\xe8' for obj:\nUnicode error: b'http://m.utusan.com.my/bisnes/korporat/avasb-satssb-bangunkan-kemudahan-mro-di-senai-1.452956#.WL3zw4QPWvs.twitter\\xe8' for obj:\nUnicode error: b'http://m.utusan.com.my/bisnes/korporat/avasb-satssb-bangunkan-kemudahan-mro-di-senai-1.452956#.WL3zw4QPWvs.twitter\\xe8' for obj:\n"
     ]
    },
    {
     "name": "stdout",
     "output_type": "stream",
     "text": [
      "Unicode error: b'http://m.utusan.com.my/bisnes/korporat/avasb-satssb-bangunkan-kemudahan-mro-di-senai-1.452956#.WL3zw4QPWvs.twitter\\xe8' for obj:\nUnicode error: b'http://m.utusan.com.my/bisnes/korporat/avasb-satssb-bangunkan-kemudahan-mro-di-senai-1.452956#.WL3zw4QPWvs.twitter\\xe8' for obj:\nUnicode error: b'http://m.utusan.com.my/bisnes/korporat/avasb-satssb-bangunkan-kemudahan-mro-di-senai-1.452956#.WL3zw4QPWvs.twitter\\xe8' for obj:\n"
     ]
    },
    {
     "name": "stdout",
     "output_type": "stream",
     "text": [
      "Unicode error: b'http://m.utusan.com.my/bisnes/korporat/avasb-satssb-bangunkan-kemudahan-mro-di-senai-1.452956#.WL3zw4QPWvs.twitter\\xe8' for obj:\nUnicode error: b'http://m.utusan.com.my/bisnes/korporat/avasb-satssb-bangunkan-kemudahan-mro-di-senai-1.452956#.WL3zw4QPWvs.twitter\\xe8' for obj:\nUnicode error: b'http://m.utusan.com.my/bisnes/korporat/avasb-satssb-bangunkan-kemudahan-mro-di-senai-1.452956#.WL3zw4QPWvs.twitter\\xe8' for obj:\n"
     ]
    },
    {
     "name": "stdout",
     "output_type": "stream",
     "text": [
      "Unicode error: b'http://m.utusan.com.my/bisnes/korporat/avasb-satssb-bangunkan-kemudahan-mro-di-senai-1.452956#.WL3zw4QPWvs.twitter\\xe8' for obj:\nUnicode error: b'http://m.utusan.com.my/bisnes/korporat/avasb-satssb-bangunkan-kemudahan-mro-di-senai-1.452956#.WL3zw4QPWvs.twitter\\xe8' for obj:\nUnicode error: b'http://m.utusan.com.my/bisnes/korporat/avasb-satssb-bangunkan-kemudahan-mro-di-senai-1.452956#.WL3zw4QPWvs.twitter\\xe8' for obj:\n"
     ]
    },
    {
     "name": "stdout",
     "output_type": "stream",
     "text": [
      "Unicode error: b'http://m.utusan.com.my/bisnes/korporat/avasb-satssb-bangunkan-kemudahan-mro-di-senai-1.452956#.WL3zw4QPWvs.twitter\\xe8' for obj:\nUnicode error: b'http://m.utusan.com.my/bisnes/korporat/avasb-satssb-bangunkan-kemudahan-mro-di-senai-1.452956#.WL3zw4QPWvs.twitter\\xe8' for obj:\nUnicode error: b'http://m.utusan.com.my/bisnes/korporat/avasb-satssb-bangunkan-kemudahan-mro-di-senai-1.452956#.WL3zw4QPWvs.twitter\\xe8' for obj:\n"
     ]
    },
    {
     "name": "stdout",
     "output_type": "stream",
     "text": [
      "Unicode error: b'http://m.utusan.com.my/bisnes/korporat/avasb-satssb-bangunkan-kemudahan-mro-di-senai-1.452956#.WL3zw4QPWvs.twitter\\xe8' for obj:\nUnicode error: b'http://m.utusan.com.my/bisnes/korporat/avasb-satssb-bangunkan-kemudahan-mro-di-senai-1.452956#.WL3zw4QPWvs.twitter\\xe8' for obj:\nUnicode error: b'http://m.utusan.com.my/bisnes/korporat/avasb-satssb-bangunkan-kemudahan-mro-di-senai-1.452956#.WL3zw4QPWvs.twitter\\xe8' for obj:\n"
     ]
    },
    {
     "name": "stdout",
     "output_type": "stream",
     "text": [
      "Unicode error: b'http://m.utusan.com.my/bisnes/korporat/avasb-satssb-bangunkan-kemudahan-mro-di-senai-1.452956#.WL3zw4QPWvs.twitter\\xe8' for obj:\nUnicode error: b'http://m.utusan.com.my/bisnes/korporat/avasb-satssb-bangunkan-kemudahan-mro-di-senai-1.452956#.WL3zw4QPWvs.twitter\\xe8' for obj:\nUnicode error: b'http://m.utusan.com.my/bisnes/korporat/avasb-satssb-bangunkan-kemudahan-mro-di-senai-1.452956#.WL3zw4QPWvs.twitter\\xe8' for obj:\n"
     ]
    },
    {
     "name": "stdout",
     "output_type": "stream",
     "text": [
      "Unicode error: b'http://m.utusan.com.my/bisnes/korporat/avasb-satssb-bangunkan-kemudahan-mro-di-senai-1.452956#.WL3zw4QPWvs.twitter\\xe8' for obj:\nUnicode error: b'http://m.utusan.com.my/bisnes/korporat/avasb-satssb-bangunkan-kemudahan-mro-di-senai-1.452956#.WL3zw4QPWvs.twitter\\xe8' for obj:\n"
     ]
    },
    {
     "name": "stdout",
     "output_type": "stream",
     "text": [
      "Unicode error: b'http://m.utusan.com.my/bisnes/korporat/avasb-satssb-bangunkan-kemudahan-mro-di-senai-1.452956#.WL3zw4QPWvs.twitter\\xe8' for obj:\nUnicode error: b'http://m.utusan.com.my/bisnes/korporat/avasb-satssb-bangunkan-kemudahan-mro-di-senai-1.452956#.WL3zw4QPWvs.twitter\\xe8' for obj:\nUnicode error: b'http://m.utusan.com.my/bisnes/korporat/avasb-satssb-bangunkan-kemudahan-mro-di-senai-1.452956#.WL3zw4QPWvs.twitter\\xe8' for obj:\n"
     ]
    },
    {
     "name": "stdout",
     "output_type": "stream",
     "text": [
      "Unicode error: b'http://m.utusan.com.my/bisnes/korporat/avasb-satssb-bangunkan-kemudahan-mro-di-senai-1.452956#.WL3zw4QPWvs.twitter\\xe8' for obj:\nUnicode error: b'http://m.utusan.com.my/bisnes/korporat/avasb-satssb-bangunkan-kemudahan-mro-di-senai-1.452956#.WL3zw4QPWvs.twitter\\xe8' for obj:\nUnicode error: b'http://m.utusan.com.my/bisnes/korporat/avasb-satssb-bangunkan-kemudahan-mro-di-senai-1.452956#.WL3zw4QPWvs.twitter\\xe8' for obj:\n"
     ]
    },
    {
     "name": "stdout",
     "output_type": "stream",
     "text": [
      "Unicode error: b'http://m.utusan.com.my/bisnes/korporat/avasb-satssb-bangunkan-kemudahan-mro-di-senai-1.452956#.WL3zw4QPWvs.twitter\\xe8' for obj:\nUnicode error: b'http://m.utusan.com.my/bisnes/korporat/avasb-satssb-bangunkan-kemudahan-mro-di-senai-1.452956#.WL3zw4QPWvs.twitter\\xe8' for obj:\nUnicode error: b'http://m.utusan.com.my/bisnes/korporat/avasb-satssb-bangunkan-kemudahan-mro-di-senai-1.452956#.WL3zw4QPWvs.twitter\\xe8' for obj:\n"
     ]
    },
    {
     "name": "stdout",
     "output_type": "stream",
     "text": [
      "Unicode error: b'http://m.utusan.com.my/bisnes/korporat/avasb-satssb-bangunkan-kemudahan-mro-di-senai-1.452956#.WL3zw4QPWvs.twitter\\xe8' for obj:\nUnicode error: b'http://m.utusan.com.my/bisnes/korporat/avasb-satssb-bangunkan-kemudahan-mro-di-senai-1.452956#.WL3zw4QPWvs.twitter\\xe8' for obj:\nUnicode error: b'http://m.utusan.com.my/bisnes/korporat/avasb-satssb-bangunkan-kemudahan-mro-di-senai-1.452956#.WL3zw4QPWvs.twitter\\xe8' for obj:\n"
     ]
    },
    {
     "name": "stdout",
     "output_type": "stream",
     "text": [
      "Unicode error: b'http://m.utusan.com.my/bisnes/korporat/avasb-satssb-bangunkan-kemudahan-mro-di-senai-1.452956#.WL3zw4QPWvs.twitter\\xe8' for obj:\nUnicode error: b'http://m.utusan.com.my/bisnes/korporat/avasb-satssb-bangunkan-kemudahan-mro-di-senai-1.452956#.WL3zw4QPWvs.twitter\\xe8' for obj:\nUnicode error: b'http://m.utusan.com.my/bisnes/korporat/avasb-satssb-bangunkan-kemudahan-mro-di-senai-1.452956#.WL3zw4QPWvs.twitter\\xe8' for obj:\n"
     ]
    },
    {
     "name": "stdout",
     "output_type": "stream",
     "text": [
      "Unicode error: b'http://m.utusan.com.my/bisnes/korporat/avasb-satssb-bangunkan-kemudahan-mro-di-senai-1.452956#.WL3zw4QPWvs.twitter\\xe8' for obj:\nUnicode error: b'http://m.utusan.com.my/bisnes/korporat/avasb-satssb-bangunkan-kemudahan-mro-di-senai-1.452956#.WL3zw4QPWvs.twitter\\xe8' for obj:\nUnicode error: b'http://m.utusan.com.my/bisnes/korporat/avasb-satssb-bangunkan-kemudahan-mro-di-senai-1.452956#.WL3zw4QPWvs.twitter\\xe8' for obj:\nUnicode error: b'http://m.utusan.com.my/bisnes/korporat/avasb-satssb-bangunkan-kemudahan-mro-di-senai-1.452956#.WL3zw4QPWvs.twitter\\xe8' for obj:\n"
     ]
    },
    {
     "name": "stdout",
     "output_type": "stream",
     "text": [
      "Unicode error: b'http://m.utusan.com.my/bisnes/korporat/avasb-satssb-bangunkan-kemudahan-mro-di-senai-1.452956#.WL3zw4QPWvs.twitter\\xe8' for obj:\nUnicode error: b'http://m.utusan.com.my/bisnes/korporat/avasb-satssb-bangunkan-kemudahan-mro-di-senai-1.452956#.WL3zw4QPWvs.twitter\\xe8' for obj:\nUnicode error: b'http://m.utusan.com.my/bisnes/korporat/avasb-satssb-bangunkan-kemudahan-mro-di-senai-1.452956#.WL3zw4QPWvs.twitter\\xe8' for obj:\n"
     ]
    },
    {
     "name": "stdout",
     "output_type": "stream",
     "text": [
      "Unicode error: b'http://m.utusan.com.my/bisnes/korporat/avasb-satssb-bangunkan-kemudahan-mro-di-senai-1.452956#.WL3zw4QPWvs.twitter\\xe8' for obj:\nUnicode error: b'http://m.utusan.com.my/bisnes/korporat/avasb-satssb-bangunkan-kemudahan-mro-di-senai-1.452956#.WL3zw4QPWvs.twitter\\xe8' for obj:\n"
     ]
    },
    {
     "name": "stdout",
     "output_type": "stream",
     "text": [
      "Unicode error: b'http://m.utusan.com.my/bisnes/korporat/avasb-satssb-bangunkan-kemudahan-mro-di-senai-1.452956#.WL3zw4QPWvs.twitter\\xe8' for obj:\nUnicode error: b'http://m.utusan.com.my/bisnes/korporat/avasb-satssb-bangunkan-kemudahan-mro-di-senai-1.452956#.WL3zw4QPWvs.twitter\\xe8' for obj:\n"
     ]
    },
    {
     "name": "stdout",
     "output_type": "stream",
     "text": [
      "Unicode error: b'http://m.utusan.com.my/bisnes/korporat/avasb-satssb-bangunkan-kemudahan-mro-di-senai-1.452956#.WL3zw4QPWvs.twitter\\xe8' for obj:\nUnicode error: b'http://m.utusan.com.my/bisnes/korporat/avasb-satssb-bangunkan-kemudahan-mro-di-senai-1.452956#.WL3zw4QPWvs.twitter\\xe8' for obj:\n"
     ]
    },
    {
     "name": "stdout",
     "output_type": "stream",
     "text": [
      "Unicode error: b'http://m.utusan.com.my/bisnes/korporat/avasb-satssb-bangunkan-kemudahan-mro-di-senai-1.452956#.WL3zw4QPWvs.twitter\\xe8' for obj:\nUnicode error: b'http://m.utusan.com.my/bisnes/korporat/avasb-satssb-bangunkan-kemudahan-mro-di-senai-1.452956#.WL3zw4QPWvs.twitter\\xe8' for obj:\nUnicode error: b'http://m.utusan.com.my/bisnes/korporat/avasb-satssb-bangunkan-kemudahan-mro-di-senai-1.452956#.WL3zw4QPWvs.twitter\\xe8' for obj:\n"
     ]
    },
    {
     "name": "stdout",
     "output_type": "stream",
     "text": [
      "Unicode error: b'http://m.utusan.com.my/bisnes/korporat/avasb-satssb-bangunkan-kemudahan-mro-di-senai-1.452956#.WL3zw4QPWvs.twitter\\xe8' for obj:\nUnicode error: b'http://m.utusan.com.my/bisnes/korporat/avasb-satssb-bangunkan-kemudahan-mro-di-senai-1.452956#.WL3zw4QPWvs.twitter\\xe8' for obj:\nUnicode error: b'http://m.utusan.com.my/bisnes/korporat/avasb-satssb-bangunkan-kemudahan-mro-di-senai-1.452956#.WL3zw4QPWvs.twitter\\xe8' for obj:\n"
     ]
    },
    {
     "name": "stdout",
     "output_type": "stream",
     "text": [
      "Unicode error: b'http://m.utusan.com.my/bisnes/korporat/avasb-satssb-bangunkan-kemudahan-mro-di-senai-1.452956#.WL3zw4QPWvs.twitter\\xe8' for obj:\nUnicode error: b'http://m.utusan.com.my/bisnes/korporat/avasb-satssb-bangunkan-kemudahan-mro-di-senai-1.452956#.WL3zw4QPWvs.twitter\\xe8' for obj:\nUnicode error: b'http://m.utusan.com.my/bisnes/korporat/avasb-satssb-bangunkan-kemudahan-mro-di-senai-1.452956#.WL3zw4QPWvs.twitter\\xe8' for obj:\n"
     ]
    },
    {
     "name": "stdout",
     "output_type": "stream",
     "text": [
      "Unicode error: b'http://m.utusan.com.my/bisnes/korporat/avasb-satssb-bangunkan-kemudahan-mro-di-senai-1.452956#.WL3zw4QPWvs.twitter\\xe8' for obj:\nUnicode error: b'http://m.utusan.com.my/bisnes/korporat/avasb-satssb-bangunkan-kemudahan-mro-di-senai-1.452956#.WL3zw4QPWvs.twitter\\xe8' for obj:\nUnicode error: b'http://m.utusan.com.my/bisnes/korporat/avasb-satssb-bangunkan-kemudahan-mro-di-senai-1.452956#.WL3zw4QPWvs.twitter\\xe8' for obj:\n"
     ]
    },
    {
     "name": "stdout",
     "output_type": "stream",
     "text": [
      "Unicode error: b'http://m.utusan.com.my/bisnes/korporat/avasb-satssb-bangunkan-kemudahan-mro-di-senai-1.452956#.WL3zw4QPWvs.twitter\\xe8' for obj:\nUnicode error: b'http://m.utusan.com.my/bisnes/korporat/avasb-satssb-bangunkan-kemudahan-mro-di-senai-1.452956#.WL3zw4QPWvs.twitter\\xe8' for obj:\nUnicode error: b'http://m.utusan.com.my/bisnes/korporat/avasb-satssb-bangunkan-kemudahan-mro-di-senai-1.452956#.WL3zw4QPWvs.twitter\\xe8' for obj:\n"
     ]
    },
    {
     "name": "stdout",
     "output_type": "stream",
     "text": [
      "Unicode error: b'http://m.utusan.com.my/bisnes/korporat/avasb-satssb-bangunkan-kemudahan-mro-di-senai-1.452956#.WL3zw4QPWvs.twitter\\xe8' for obj:\nUnicode error: b'http://m.utusan.com.my/bisnes/korporat/avasb-satssb-bangunkan-kemudahan-mro-di-senai-1.452956#.WL3zw4QPWvs.twitter\\xe8' for obj:\nUnicode error: b'http://m.utusan.com.my/bisnes/korporat/avasb-satssb-bangunkan-kemudahan-mro-di-senai-1.452956#.WL3zw4QPWvs.twitter\\xe8' for obj:\n"
     ]
    },
    {
     "name": "stdout",
     "output_type": "stream",
     "text": [
      "Unicode error: b'http://m.utusan.com.my/bisnes/korporat/avasb-satssb-bangunkan-kemudahan-mro-di-senai-1.452956#.WL3zw4QPWvs.twitter\\xe8' for obj:\nUnicode error: b'http://m.utusan.com.my/bisnes/korporat/avasb-satssb-bangunkan-kemudahan-mro-di-senai-1.452956#.WL3zw4QPWvs.twitter\\xe8' for obj:\nUnicode error: b'http://m.utusan.com.my/bisnes/korporat/avasb-satssb-bangunkan-kemudahan-mro-di-senai-1.452956#.WL3zw4QPWvs.twitter\\xe8' for obj:\n"
     ]
    },
    {
     "name": "stdout",
     "output_type": "stream",
     "text": [
      "Unicode error: b'http://m.utusan.com.my/bisnes/korporat/avasb-satssb-bangunkan-kemudahan-mro-di-senai-1.452956#.WL3zw4QPWvs.twitter\\xe8' for obj:\nUnicode error: b'http://m.utusan.com.my/bisnes/korporat/avasb-satssb-bangunkan-kemudahan-mro-di-senai-1.452956#.WL3zw4QPWvs.twitter\\xe8' for obj:\nUnicode error: b'http://m.utusan.com.my/bisnes/korporat/avasb-satssb-bangunkan-kemudahan-mro-di-senai-1.452956#.WL3zw4QPWvs.twitter\\xe8' for obj:\n"
     ]
    },
    {
     "name": "stdout",
     "output_type": "stream",
     "text": [
      "Unicode error: b'http://m.utusan.com.my/bisnes/korporat/avasb-satssb-bangunkan-kemudahan-mro-di-senai-1.452956#.WL3zw4QPWvs.twitter\\xe8' for obj:\nUnicode error: b'http://m.utusan.com.my/bisnes/korporat/avasb-satssb-bangunkan-kemudahan-mro-di-senai-1.452956#.WL3zw4QPWvs.twitter\\xe8' for obj:\nUnicode error: b'http://m.utusan.com.my/bisnes/korporat/avasb-satssb-bangunkan-kemudahan-mro-di-senai-1.452956#.WL3zw4QPWvs.twitter\\xe8' for obj:\n"
     ]
    },
    {
     "name": "stdout",
     "output_type": "stream",
     "text": [
      "Unicode error: b'http://m.utusan.com.my/bisnes/korporat/avasb-satssb-bangunkan-kemudahan-mro-di-senai-1.452956#.WL3zw4QPWvs.twitter\\xe8' for obj:\nUnicode error: b'http://m.utusan.com.my/bisnes/korporat/avasb-satssb-bangunkan-kemudahan-mro-di-senai-1.452956#.WL3zw4QPWvs.twitter\\xe8' for obj:\nUnicode error: b'http://m.utusan.com.my/bisnes/korporat/avasb-satssb-bangunkan-kemudahan-mro-di-senai-1.452956#.WL3zw4QPWvs.twitter\\xe8' for obj:\n"
     ]
    },
    {
     "name": "stdout",
     "output_type": "stream",
     "text": [
      "Unicode error: b'http://m.utusan.com.my/bisnes/korporat/avasb-satssb-bangunkan-kemudahan-mro-di-senai-1.452956#.WL3zw4QPWvs.twitter\\xe8' for obj:\nUnicode error: b'http://m.utusan.com.my/bisnes/korporat/avasb-satssb-bangunkan-kemudahan-mro-di-senai-1.452956#.WL3zw4QPWvs.twitter\\xe8' for obj:\nUnicode error: b'http://m.utusan.com.my/bisnes/korporat/avasb-satssb-bangunkan-kemudahan-mro-di-senai-1.452956#.WL3zw4QPWvs.twitter\\xe8' for obj:\n"
     ]
    },
    {
     "name": "stdout",
     "output_type": "stream",
     "text": [
      "Unicode error: b'http://m.utusan.com.my/bisnes/korporat/avasb-satssb-bangunkan-kemudahan-mro-di-senai-1.452956#.WL3zw4QPWvs.twitter\\xe8' for obj:\nUnicode error: b'http://m.utusan.com.my/bisnes/korporat/avasb-satssb-bangunkan-kemudahan-mro-di-senai-1.452956#.WL3zw4QPWvs.twitter\\xe8' for obj:\nUnicode error: b'http://m.utusan.com.my/bisnes/korporat/avasb-satssb-bangunkan-kemudahan-mro-di-senai-1.452956#.WL3zw4QPWvs.twitter\\xe8' for obj:\n"
     ]
    },
    {
     "name": "stdout",
     "output_type": "stream",
     "text": [
      "Unicode error: b'http://m.utusan.com.my/bisnes/korporat/avasb-satssb-bangunkan-kemudahan-mro-di-senai-1.452956#.WL3zw4QPWvs.twitter\\xe8' for obj:\nUnicode error: b'http://m.utusan.com.my/bisnes/korporat/avasb-satssb-bangunkan-kemudahan-mro-di-senai-1.452956#.WL3zw4QPWvs.twitter\\xe8' for obj:\nUnicode error: b'http://m.utusan.com.my/bisnes/korporat/avasb-satssb-bangunkan-kemudahan-mro-di-senai-1.452956#.WL3zw4QPWvs.twitter\\xe8' for obj:\n"
     ]
    },
    {
     "name": "stdout",
     "output_type": "stream",
     "text": [
      "Unicode error: b'http://m.utusan.com.my/bisnes/korporat/avasb-satssb-bangunkan-kemudahan-mro-di-senai-1.452956#.WL3zw4QPWvs.twitter\\xe8' for obj:\nUnicode error: b'http://m.utusan.com.my/bisnes/korporat/avasb-satssb-bangunkan-kemudahan-mro-di-senai-1.452956#.WL3zw4QPWvs.twitter\\xe8' for obj:\nUnicode error: b'http://m.utusan.com.my/bisnes/korporat/avasb-satssb-bangunkan-kemudahan-mro-di-senai-1.452956#.WL3zw4QPWvs.twitter\\xe8' for obj:\n"
     ]
    },
    {
     "name": "stdout",
     "output_type": "stream",
     "text": [
      "Unicode error: b'http://m.utusan.com.my/bisnes/korporat/avasb-satssb-bangunkan-kemudahan-mro-di-senai-1.452956#.WL3zw4QPWvs.twitter\\xe8' for obj:\nUnicode error: b'http://m.utusan.com.my/bisnes/korporat/avasb-satssb-bangunkan-kemudahan-mro-di-senai-1.452956#.WL3zw4QPWvs.twitter\\xe8' for obj:\nUnicode error: b'http://m.utusan.com.my/bisnes/korporat/avasb-satssb-bangunkan-kemudahan-mro-di-senai-1.452956#.WL3zw4QPWvs.twitter\\xe8' for obj:\n"
     ]
    },
    {
     "name": "stdout",
     "output_type": "stream",
     "text": [
      "Unicode error: b'http://m.utusan.com.my/bisnes/korporat/avasb-satssb-bangunkan-kemudahan-mro-di-senai-1.452956#.WL3zw4QPWvs.twitter\\xe8' for obj:\nUnicode error: b'http://m.utusan.com.my/bisnes/korporat/avasb-satssb-bangunkan-kemudahan-mro-di-senai-1.452956#.WL3zw4QPWvs.twitter\\xe8' for obj:\nUnicode error: b'http://m.utusan.com.my/bisnes/korporat/avasb-satssb-bangunkan-kemudahan-mro-di-senai-1.452956#.WL3zw4QPWvs.twitter\\xe8' for obj:\n"
     ]
    },
    {
     "name": "stdout",
     "output_type": "stream",
     "text": [
      "Unicode error: b'http://m.utusan.com.my/bisnes/korporat/avasb-satssb-bangunkan-kemudahan-mro-di-senai-1.452956#.WL3zw4QPWvs.twitter\\xe8' for obj:\nUnicode error: b'http://m.utusan.com.my/bisnes/korporat/avasb-satssb-bangunkan-kemudahan-mro-di-senai-1.452956#.WL3zw4QPWvs.twitter\\xe8' for obj:\nUnicode error: b'http://m.utusan.com.my/bisnes/korporat/avasb-satssb-bangunkan-kemudahan-mro-di-senai-1.452956#.WL3zw4QPWvs.twitter\\xe8' for obj:\n"
     ]
    },
    {
     "name": "stdout",
     "output_type": "stream",
     "text": [
      "Unicode error: b'http://m.utusan.com.my/bisnes/korporat/avasb-satssb-bangunkan-kemudahan-mro-di-senai-1.452956#.WL3zw4QPWvs.twitter\\xe8' for obj:\nUnicode error: b'http://m.utusan.com.my/bisnes/korporat/avasb-satssb-bangunkan-kemudahan-mro-di-senai-1.452956#.WL3zw4QPWvs.twitter\\xe8' for obj:\nUnicode error: b'http://m.utusan.com.my/bisnes/korporat/avasb-satssb-bangunkan-kemudahan-mro-di-senai-1.452956#.WL3zw4QPWvs.twitter\\xe8' for obj:\n"
     ]
    },
    {
     "name": "stdout",
     "output_type": "stream",
     "text": [
      "Unicode error: b'http://m.utusan.com.my/bisnes/korporat/avasb-satssb-bangunkan-kemudahan-mro-di-senai-1.452956#.WL3zw4QPWvs.twitter\\xe8' for obj:\nUnicode error: b'http://m.utusan.com.my/bisnes/korporat/avasb-satssb-bangunkan-kemudahan-mro-di-senai-1.452956#.WL3zw4QPWvs.twitter\\xe8' for obj:\nUnicode error: b'http://m.utusan.com.my/bisnes/korporat/avasb-satssb-bangunkan-kemudahan-mro-di-senai-1.452956#.WL3zw4QPWvs.twitter\\xe8' for obj:\n"
     ]
    },
    {
     "name": "stdout",
     "output_type": "stream",
     "text": [
      "Unicode error: b'http://m.utusan.com.my/bisnes/korporat/avasb-satssb-bangunkan-kemudahan-mro-di-senai-1.452956#.WL3zw4QPWvs.twitter\\xe8' for obj:\nUnicode error: b'http://m.utusan.com.my/bisnes/korporat/avasb-satssb-bangunkan-kemudahan-mro-di-senai-1.452956#.WL3zw4QPWvs.twitter\\xe8' for obj:\nUnicode error: b'http://m.utusan.com.my/bisnes/korporat/avasb-satssb-bangunkan-kemudahan-mro-di-senai-1.452956#.WL3zw4QPWvs.twitter\\xe8' for obj:\n"
     ]
    },
    {
     "name": "stdout",
     "output_type": "stream",
     "text": [
      "Unicode error: b'http://m.utusan.com.my/bisnes/korporat/avasb-satssb-bangunkan-kemudahan-mro-di-senai-1.452956#.WL3zw4QPWvs.twitter\\xe8' for obj:\nUnicode error: b'http://m.utusan.com.my/bisnes/korporat/avasb-satssb-bangunkan-kemudahan-mro-di-senai-1.452956#.WL3zw4QPWvs.twitter\\xe8' for obj:\nUnicode error: b'http://m.utusan.com.my/bisnes/korporat/avasb-satssb-bangunkan-kemudahan-mro-di-senai-1.452956#.WL3zw4QPWvs.twitter\\xe8' for obj:\n"
     ]
    },
    {
     "name": "stdout",
     "output_type": "stream",
     "text": [
      "Unicode error: b'http://m.utusan.com.my/bisnes/korporat/avasb-satssb-bangunkan-kemudahan-mro-di-senai-1.452956#.WL3zw4QPWvs.twitter\\xe8' for obj:\nUnicode error: b'http://m.utusan.com.my/bisnes/korporat/avasb-satssb-bangunkan-kemudahan-mro-di-senai-1.452956#.WL3zw4QPWvs.twitter\\xe8' for obj:\nUnicode error: b'http://m.utusan.com.my/bisnes/korporat/avasb-satssb-bangunkan-kemudahan-mro-di-senai-1.452956#.WL3zw4QPWvs.twitter\\xe8' for obj:\n"
     ]
    },
    {
     "name": "stdout",
     "output_type": "stream",
     "text": [
      "Unicode error: b'http://m.utusan.com.my/bisnes/korporat/avasb-satssb-bangunkan-kemudahan-mro-di-senai-1.452956#.WL3zw4QPWvs.twitter\\xe8' for obj:\nUnicode error: b'http://m.utusan.com.my/bisnes/korporat/avasb-satssb-bangunkan-kemudahan-mro-di-senai-1.452956#.WL3zw4QPWvs.twitter\\xe8' for obj:\nUnicode error: b'http://m.utusan.com.my/bisnes/korporat/avasb-satssb-bangunkan-kemudahan-mro-di-senai-1.452956#.WL3zw4QPWvs.twitter\\xe8' for obj:\n"
     ]
    },
    {
     "name": "stdout",
     "output_type": "stream",
     "text": [
      "Unicode error: b'http://m.utusan.com.my/bisnes/korporat/avasb-satssb-bangunkan-kemudahan-mro-di-senai-1.452956#.WL3zw4QPWvs.twitter\\xe8' for obj:\nUnicode error: b'http://m.utusan.com.my/bisnes/korporat/avasb-satssb-bangunkan-kemudahan-mro-di-senai-1.452956#.WL3zw4QPWvs.twitter\\xe8' for obj:\nUnicode error: b'http://m.utusan.com.my/bisnes/korporat/avasb-satssb-bangunkan-kemudahan-mro-di-senai-1.452956#.WL3zw4QPWvs.twitter\\xe8' for obj:\n"
     ]
    },
    {
     "name": "stdout",
     "output_type": "stream",
     "text": [
      "Unicode error: b'http://m.utusan.com.my/bisnes/korporat/avasb-satssb-bangunkan-kemudahan-mro-di-senai-1.452956#.WL3zw4QPWvs.twitter\\xe8' for obj:\nUnicode error: b'http://m.utusan.com.my/bisnes/korporat/avasb-satssb-bangunkan-kemudahan-mro-di-senai-1.452956#.WL3zw4QPWvs.twitter\\xe8' for obj:\nUnicode error: b'http://m.utusan.com.my/bisnes/korporat/avasb-satssb-bangunkan-kemudahan-mro-di-senai-1.452956#.WL3zw4QPWvs.twitter\\xe8' for obj:\n"
     ]
    },
    {
     "name": "stdout",
     "output_type": "stream",
     "text": [
      "Unicode error: b'http://m.utusan.com.my/bisnes/korporat/avasb-satssb-bangunkan-kemudahan-mro-di-senai-1.452956#.WL3zw4QPWvs.twitter\\xe8' for obj:\nUnicode error: b'http://m.utusan.com.my/bisnes/korporat/avasb-satssb-bangunkan-kemudahan-mro-di-senai-1.452956#.WL3zw4QPWvs.twitter\\xe8' for obj:\nUnicode error: b'http://m.utusan.com.my/bisnes/korporat/avasb-satssb-bangunkan-kemudahan-mro-di-senai-1.452956#.WL3zw4QPWvs.twitter\\xe8' for obj:\n"
     ]
    },
    {
     "name": "stdout",
     "output_type": "stream",
     "text": [
      "Unicode error: b'http://m.utusan.com.my/bisnes/korporat/avasb-satssb-bangunkan-kemudahan-mro-di-senai-1.452956#.WL3zw4QPWvs.twitter\\xe8' for obj:\nUnicode error: b'http://m.utusan.com.my/bisnes/korporat/avasb-satssb-bangunkan-kemudahan-mro-di-senai-1.452956#.WL3zw4QPWvs.twitter\\xe8' for obj:\nUnicode error: b'http://m.utusan.com.my/bisnes/korporat/avasb-satssb-bangunkan-kemudahan-mro-di-senai-1.452956#.WL3zw4QPWvs.twitter\\xe8' for obj:\n"
     ]
    },
    {
     "name": "stdout",
     "output_type": "stream",
     "text": [
      "Unicode error: b'http://m.utusan.com.my/bisnes/korporat/avasb-satssb-bangunkan-kemudahan-mro-di-senai-1.452956#.WL3zw4QPWvs.twitter\\xe8' for obj:\nUnicode error: b'http://m.utusan.com.my/bisnes/korporat/avasb-satssb-bangunkan-kemudahan-mro-di-senai-1.452956#.WL3zw4QPWvs.twitter\\xe8' for obj:\nUnicode error: b'http://m.utusan.com.my/bisnes/korporat/avasb-satssb-bangunkan-kemudahan-mro-di-senai-1.452956#.WL3zw4QPWvs.twitter\\xe8' for obj:\n"
     ]
    },
    {
     "name": "stdout",
     "output_type": "stream",
     "text": [
      "Unicode error: b'http://m.utusan.com.my/bisnes/korporat/avasb-satssb-bangunkan-kemudahan-mro-di-senai-1.452956#.WL3zw4QPWvs.twitter\\xe8' for obj:\nUnicode error: b'http://m.utusan.com.my/bisnes/korporat/avasb-satssb-bangunkan-kemudahan-mro-di-senai-1.452956#.WL3zw4QPWvs.twitter\\xe8' for obj:\nUnicode error: b'http://m.utusan.com.my/bisnes/korporat/avasb-satssb-bangunkan-kemudahan-mro-di-senai-1.452956#.WL3zw4QPWvs.twitter\\xe8' for obj:\n"
     ]
    },
    {
     "name": "stdout",
     "output_type": "stream",
     "text": [
      "Unicode error: b'http://m.utusan.com.my/bisnes/korporat/avasb-satssb-bangunkan-kemudahan-mro-di-senai-1.452956#.WL3zw4QPWvs.twitter\\xe8' for obj:\nUnicode error: b'http://m.utusan.com.my/bisnes/korporat/avasb-satssb-bangunkan-kemudahan-mro-di-senai-1.452956#.WL3zw4QPWvs.twitter\\xe8' for obj:\nUnicode error: b'http://m.utusan.com.my/bisnes/korporat/avasb-satssb-bangunkan-kemudahan-mro-di-senai-1.452956#.WL3zw4QPWvs.twitter\\xe8' for obj:\n"
     ]
    },
    {
     "name": "stdout",
     "output_type": "stream",
     "text": [
      "Unicode error: b'http://m.utusan.com.my/bisnes/korporat/avasb-satssb-bangunkan-kemudahan-mro-di-senai-1.452956#.WL3zw4QPWvs.twitter\\xe8' for obj:\nUnicode error: b'http://m.utusan.com.my/bisnes/korporat/avasb-satssb-bangunkan-kemudahan-mro-di-senai-1.452956#.WL3zw4QPWvs.twitter\\xe8' for obj:\nUnicode error: b'http://m.utusan.com.my/bisnes/korporat/avasb-satssb-bangunkan-kemudahan-mro-di-senai-1.452956#.WL3zw4QPWvs.twitter\\xe8' for obj:\n"
     ]
    },
    {
     "name": "stdout",
     "output_type": "stream",
     "text": [
      "Unicode error: b'http://m.utusan.com.my/bisnes/korporat/avasb-satssb-bangunkan-kemudahan-mro-di-senai-1.452956#.WL3zw4QPWvs.twitter\\xe8' for obj:\nUnicode error: b'http://m.utusan.com.my/bisnes/korporat/avasb-satssb-bangunkan-kemudahan-mro-di-senai-1.452956#.WL3zw4QPWvs.twitter\\xe8' for obj:\nUnicode error: b'http://m.utusan.com.my/bisnes/korporat/avasb-satssb-bangunkan-kemudahan-mro-di-senai-1.452956#.WL3zw4QPWvs.twitter\\xe8' for obj:\n"
     ]
    },
    {
     "name": "stdout",
     "output_type": "stream",
     "text": [
      "Unicode error: b'http://m.utusan.com.my/bisnes/korporat/avasb-satssb-bangunkan-kemudahan-mro-di-senai-1.452956#.WL3zw4QPWvs.twitter\\xe8' for obj:\nUnicode error: b'http://m.utusan.com.my/bisnes/korporat/avasb-satssb-bangunkan-kemudahan-mro-di-senai-1.452956#.WL3zw4QPWvs.twitter\\xe8' for obj:\nUnicode error: b'http://m.utusan.com.my/bisnes/korporat/avasb-satssb-bangunkan-kemudahan-mro-di-senai-1.452956#.WL3zw4QPWvs.twitter\\xe8' for obj:\n"
     ]
    },
    {
     "name": "stdout",
     "output_type": "stream",
     "text": [
      "Unicode error: b'http://m.utusan.com.my/bisnes/korporat/avasb-satssb-bangunkan-kemudahan-mro-di-senai-1.452956#.WL3zw4QPWvs.twitter\\xe8' for obj:\nUnicode error: b'http://m.utusan.com.my/bisnes/korporat/avasb-satssb-bangunkan-kemudahan-mro-di-senai-1.452956#.WL3zw4QPWvs.twitter\\xe8' for obj:\nUnicode error: b'http://m.utusan.com.my/bisnes/korporat/avasb-satssb-bangunkan-kemudahan-mro-di-senai-1.452956#.WL3zw4QPWvs.twitter\\xe8' for obj:\n"
     ]
    },
    {
     "name": "stdout",
     "output_type": "stream",
     "text": [
      "Unicode error: b'http://m.utusan.com.my/bisnes/korporat/avasb-satssb-bangunkan-kemudahan-mro-di-senai-1.452956#.WL3zw4QPWvs.twitter\\xe8' for obj:\nUnicode error: b'http://m.utusan.com.my/bisnes/korporat/avasb-satssb-bangunkan-kemudahan-mro-di-senai-1.452956#.WL3zw4QPWvs.twitter\\xe8' for obj:\n"
     ]
    },
    {
     "name": "stdout",
     "output_type": "stream",
     "text": [
      "Unicode error: b'http://m.utusan.com.my/bisnes/korporat/avasb-satssb-bangunkan-kemudahan-mro-di-senai-1.452956#.WL3zw4QPWvs.twitter\\xe8' for obj:\nUnicode error: b'http://m.utusan.com.my/bisnes/korporat/avasb-satssb-bangunkan-kemudahan-mro-di-senai-1.452956#.WL3zw4QPWvs.twitter\\xe8' for obj:\nUnicode error: b'http://m.utusan.com.my/bisnes/korporat/avasb-satssb-bangunkan-kemudahan-mro-di-senai-1.452956#.WL3zw4QPWvs.twitter\\xe8' for obj:\n"
     ]
    },
    {
     "name": "stdout",
     "output_type": "stream",
     "text": [
      "Unicode error: b'http://m.utusan.com.my/bisnes/korporat/avasb-satssb-bangunkan-kemudahan-mro-di-senai-1.452956#.WL3zw4QPWvs.twitter\\xe8' for obj:\nUnicode error: b'http://m.utusan.com.my/bisnes/korporat/avasb-satssb-bangunkan-kemudahan-mro-di-senai-1.452956#.WL3zw4QPWvs.twitter\\xe8' for obj:\nUnicode error: b'http://m.utusan.com.my/bisnes/korporat/avasb-satssb-bangunkan-kemudahan-mro-di-senai-1.452956#.WL3zw4QPWvs.twitter\\xe8' for obj:\n"
     ]
    },
    {
     "name": "stdout",
     "output_type": "stream",
     "text": [
      "Unicode error: b'http://m.utusan.com.my/bisnes/korporat/avasb-satssb-bangunkan-kemudahan-mro-di-senai-1.452956#.WL3zw4QPWvs.twitter\\xe8' for obj:\nUnicode error: b'http://m.utusan.com.my/bisnes/korporat/avasb-satssb-bangunkan-kemudahan-mro-di-senai-1.452956#.WL3zw4QPWvs.twitter\\xe8' for obj:\nUnicode error: b'http://m.utusan.com.my/bisnes/korporat/avasb-satssb-bangunkan-kemudahan-mro-di-senai-1.452956#.WL3zw4QPWvs.twitter\\xe8' for obj:\n"
     ]
    },
    {
     "name": "stdout",
     "output_type": "stream",
     "text": [
      "Unicode error: b'http://m.utusan.com.my/bisnes/korporat/avasb-satssb-bangunkan-kemudahan-mro-di-senai-1.452956#.WL3zw4QPWvs.twitter\\xe8' for obj:\nUnicode error: b'http://m.utusan.com.my/bisnes/korporat/avasb-satssb-bangunkan-kemudahan-mro-di-senai-1.452956#.WL3zw4QPWvs.twitter\\xe8' for obj:\n"
     ]
    },
    {
     "name": "stdout",
     "output_type": "stream",
     "text": [
      "Unicode error: b'http://m.utusan.com.my/bisnes/korporat/avasb-satssb-bangunkan-kemudahan-mro-di-senai-1.452956#.WL3zw4QPWvs.twitter\\xe8' for obj:\nUnicode error: b'http://m.utusan.com.my/bisnes/korporat/avasb-satssb-bangunkan-kemudahan-mro-di-senai-1.452956#.WL3zw4QPWvs.twitter\\xe8' for obj:\n"
     ]
    },
    {
     "name": "stdout",
     "output_type": "stream",
     "text": [
      "Unicode error: b'http://m.utusan.com.my/bisnes/korporat/avasb-satssb-bangunkan-kemudahan-mro-di-senai-1.452956#.WL3zw4QPWvs.twitter\\xe8' for obj:\nUnicode error: b'http://m.utusan.com.my/bisnes/korporat/avasb-satssb-bangunkan-kemudahan-mro-di-senai-1.452956#.WL3zw4QPWvs.twitter\\xe8' for obj:\n"
     ]
    },
    {
     "name": "stdout",
     "output_type": "stream",
     "text": [
      "Unicode error: b'http://m.utusan.com.my/bisnes/korporat/avasb-satssb-bangunkan-kemudahan-mro-di-senai-1.452956#.WL3zw4QPWvs.twitter\\xe8' for obj:\nUnicode error: b'http://m.utusan.com.my/bisnes/korporat/avasb-satssb-bangunkan-kemudahan-mro-di-senai-1.452956#.WL3zw4QPWvs.twitter\\xe8' for obj:\n"
     ]
    },
    {
     "name": "stdout",
     "output_type": "stream",
     "text": [
      "Unicode error: b'http://m.utusan.com.my/bisnes/korporat/avasb-satssb-bangunkan-kemudahan-mro-di-senai-1.452956#.WL3zw4QPWvs.twitter\\xe8' for obj:\nUnicode error: b'http://m.utusan.com.my/bisnes/korporat/avasb-satssb-bangunkan-kemudahan-mro-di-senai-1.452956#.WL3zw4QPWvs.twitter\\xe8' for obj:\n"
     ]
    },
    {
     "name": "stdout",
     "output_type": "stream",
     "text": [
      "Unicode error: b'http://m.utusan.com.my/bisnes/korporat/avasb-satssb-bangunkan-kemudahan-mro-di-senai-1.452956#.WL3zw4QPWvs.twitter\\xe8' for obj:\nUnicode error: b'http://m.utusan.com.my/bisnes/korporat/avasb-satssb-bangunkan-kemudahan-mro-di-senai-1.452956#.WL3zw4QPWvs.twitter\\xe8' for obj:\n"
     ]
    },
    {
     "name": "stdout",
     "output_type": "stream",
     "text": [
      "Unicode error: b'http://m.utusan.com.my/bisnes/korporat/avasb-satssb-bangunkan-kemudahan-mro-di-senai-1.452956#.WL3zw4QPWvs.twitter\\xe8' for obj:\nUnicode error: b'http://m.utusan.com.my/bisnes/korporat/avasb-satssb-bangunkan-kemudahan-mro-di-senai-1.452956#.WL3zw4QPWvs.twitter\\xe8' for obj:\n"
     ]
    },
    {
     "name": "stdout",
     "output_type": "stream",
     "text": [
      "Unicode error: b'http://m.utusan.com.my/bisnes/korporat/avasb-satssb-bangunkan-kemudahan-mro-di-senai-1.452956#.WL3zw4QPWvs.twitter\\xe8' for obj:\nUnicode error: b'http://m.utusan.com.my/bisnes/korporat/avasb-satssb-bangunkan-kemudahan-mro-di-senai-1.452956#.WL3zw4QPWvs.twitter\\xe8' for obj:\n"
     ]
    },
    {
     "name": "stdout",
     "output_type": "stream",
     "text": [
      "Unicode error: b'http://m.utusan.com.my/bisnes/korporat/avasb-satssb-bangunkan-kemudahan-mro-di-senai-1.452956#.WL3zw4QPWvs.twitter\\xe8' for obj:\nUnicode error: b'http://m.utusan.com.my/bisnes/korporat/avasb-satssb-bangunkan-kemudahan-mro-di-senai-1.452956#.WL3zw4QPWvs.twitter\\xe8' for obj:\n"
     ]
    },
    {
     "name": "stdout",
     "output_type": "stream",
     "text": [
      "Unicode error: b'http://m.utusan.com.my/bisnes/korporat/avasb-satssb-bangunkan-kemudahan-mro-di-senai-1.452956#.WL3zw4QPWvs.twitter\\xe8' for obj:\nUnicode error: b'http://m.utusan.com.my/bisnes/korporat/avasb-satssb-bangunkan-kemudahan-mro-di-senai-1.452956#.WL3zw4QPWvs.twitter\\xe8' for obj:\n"
     ]
    },
    {
     "name": "stdout",
     "output_type": "stream",
     "text": [
      "Unicode error: b'http://m.utusan.com.my/bisnes/korporat/avasb-satssb-bangunkan-kemudahan-mro-di-senai-1.452956#.WL3zw4QPWvs.twitter\\xe8' for obj:\nUnicode error: b'http://m.utusan.com.my/bisnes/korporat/avasb-satssb-bangunkan-kemudahan-mro-di-senai-1.452956#.WL3zw4QPWvs.twitter\\xe8' for obj:\n"
     ]
    },
    {
     "name": "stdout",
     "output_type": "stream",
     "text": [
      "Unicode error: b'http://m.utusan.com.my/bisnes/korporat/avasb-satssb-bangunkan-kemudahan-mro-di-senai-1.452956#.WL3zw4QPWvs.twitter\\xe8' for obj:\nUnicode error: b'http://m.utusan.com.my/bisnes/korporat/avasb-satssb-bangunkan-kemudahan-mro-di-senai-1.452956#.WL3zw4QPWvs.twitter\\xe8' for obj:\n"
     ]
    },
    {
     "name": "stdout",
     "output_type": "stream",
     "text": [
      "Unicode error: b'http://m.utusan.com.my/bisnes/korporat/avasb-satssb-bangunkan-kemudahan-mro-di-senai-1.452956#.WL3zw4QPWvs.twitter\\xe8' for obj:\nUnicode error: b'http://m.utusan.com.my/bisnes/korporat/avasb-satssb-bangunkan-kemudahan-mro-di-senai-1.452956#.WL3zw4QPWvs.twitter\\xe8' for obj:\n"
     ]
    },
    {
     "name": "stdout",
     "output_type": "stream",
     "text": [
      "Unicode error: b'http://m.utusan.com.my/bisnes/korporat/avasb-satssb-bangunkan-kemudahan-mro-di-senai-1.452956#.WL3zw4QPWvs.twitter\\xe8' for obj:\nUnicode error: b'http://m.utusan.com.my/bisnes/korporat/avasb-satssb-bangunkan-kemudahan-mro-di-senai-1.452956#.WL3zw4QPWvs.twitter\\xe8' for obj:\n"
     ]
    },
    {
     "name": "stdout",
     "output_type": "stream",
     "text": [
      "Unicode error: b'http://m.utusan.com.my/bisnes/korporat/avasb-satssb-bangunkan-kemudahan-mro-di-senai-1.452956#.WL3zw4QPWvs.twitter\\xe8' for obj:\nUnicode error: b'http://m.utusan.com.my/bisnes/korporat/avasb-satssb-bangunkan-kemudahan-mro-di-senai-1.452956#.WL3zw4QPWvs.twitter\\xe8' for obj:\n"
     ]
    },
    {
     "name": "stdout",
     "output_type": "stream",
     "text": [
      "Unicode error: b'http://m.utusan.com.my/bisnes/korporat/avasb-satssb-bangunkan-kemudahan-mro-di-senai-1.452956#.WL3zw4QPWvs.twitter\\xe8' for obj:\nUnicode error: b'http://m.utusan.com.my/bisnes/korporat/avasb-satssb-bangunkan-kemudahan-mro-di-senai-1.452956#.WL3zw4QPWvs.twitter\\xe8' for obj:\n"
     ]
    },
    {
     "name": "stdout",
     "output_type": "stream",
     "text": [
      "Unicode error: b'http://m.utusan.com.my/bisnes/korporat/avasb-satssb-bangunkan-kemudahan-mro-di-senai-1.452956#.WL3zw4QPWvs.twitter\\xe8' for obj:\nUnicode error: b'http://m.utusan.com.my/bisnes/korporat/avasb-satssb-bangunkan-kemudahan-mro-di-senai-1.452956#.WL3zw4QPWvs.twitter\\xe8' for obj:\n"
     ]
    },
    {
     "name": "stdout",
     "output_type": "stream",
     "text": [
      "Unicode error: b'http://m.utusan.com.my/bisnes/korporat/avasb-satssb-bangunkan-kemudahan-mro-di-senai-1.452956#.WL3zw4QPWvs.twitter\\xe8' for obj:\n"
     ]
    },
    {
     "name": "stdout",
     "output_type": "stream",
     "text": [
      "Unicode error: b'http://m.utusan.com.my/bisnes/korporat/avasb-satssb-bangunkan-kemudahan-mro-di-senai-1.452956#.WL3zw4QPWvs.twitter\\xe8' for obj:\nUnicode error: b'http://m.utusan.com.my/bisnes/korporat/avasb-satssb-bangunkan-kemudahan-mro-di-senai-1.452956#.WL3zw4QPWvs.twitter\\xe8' for obj:\n"
     ]
    },
    {
     "name": "stdout",
     "output_type": "stream",
     "text": [
      "Unicode error: b'http://m.utusan.com.my/bisnes/korporat/avasb-satssb-bangunkan-kemudahan-mro-di-senai-1.452956#.WL3zw4QPWvs.twitter\\xe8' for obj:\nUnicode error: b'http://m.utusan.com.my/bisnes/korporat/avasb-satssb-bangunkan-kemudahan-mro-di-senai-1.452956#.WL3zw4QPWvs.twitter\\xe8' for obj:\nUnicode error: b'http://m.utusan.com.my/bisnes/korporat/avasb-satssb-bangunkan-kemudahan-mro-di-senai-1.452956#.WL3zw4QPWvs.twitter\\xe8' for obj:\n"
     ]
    },
    {
     "name": "stdout",
     "output_type": "stream",
     "text": [
      "Unicode error: b'http://m.utusan.com.my/bisnes/korporat/avasb-satssb-bangunkan-kemudahan-mro-di-senai-1.452956#.WL3zw4QPWvs.twitter\\xe8' for obj:\nUnicode error: b'http://m.utusan.com.my/bisnes/korporat/avasb-satssb-bangunkan-kemudahan-mro-di-senai-1.452956#.WL3zw4QPWvs.twitter\\xe8' for obj:\nUnicode error: b'http://m.utusan.com.my/bisnes/korporat/avasb-satssb-bangunkan-kemudahan-mro-di-senai-1.452956#.WL3zw4QPWvs.twitter\\xe8' for obj:\n"
     ]
    },
    {
     "name": "stdout",
     "output_type": "stream",
     "text": [
      "Unicode error: b'http://m.utusan.com.my/bisnes/korporat/avasb-satssb-bangunkan-kemudahan-mro-di-senai-1.452956#.WL3zw4QPWvs.twitter\\xe8' for obj:\nUnicode error: b'http://m.utusan.com.my/bisnes/korporat/avasb-satssb-bangunkan-kemudahan-mro-di-senai-1.452956#.WL3zw4QPWvs.twitter\\xe8' for obj:\nUnicode error: b'http://m.utusan.com.my/bisnes/korporat/avasb-satssb-bangunkan-kemudahan-mro-di-senai-1.452956#.WL3zw4QPWvs.twitter\\xe8' for obj:\n"
     ]
    },
    {
     "name": "stdout",
     "output_type": "stream",
     "text": [
      "Unicode error: b'http://m.utusan.com.my/bisnes/korporat/avasb-satssb-bangunkan-kemudahan-mro-di-senai-1.452956#.WL3zw4QPWvs.twitter\\xe8' for obj:\nUnicode error: b'http://m.utusan.com.my/bisnes/korporat/avasb-satssb-bangunkan-kemudahan-mro-di-senai-1.452956#.WL3zw4QPWvs.twitter\\xe8' for obj:\nUnicode error: b'http://m.utusan.com.my/bisnes/korporat/avasb-satssb-bangunkan-kemudahan-mro-di-senai-1.452956#.WL3zw4QPWvs.twitter\\xe8' for obj:\n"
     ]
    },
    {
     "name": "stdout",
     "output_type": "stream",
     "text": [
      "Unicode error: b'http://m.utusan.com.my/bisnes/korporat/avasb-satssb-bangunkan-kemudahan-mro-di-senai-1.452956#.WL3zw4QPWvs.twitter\\xe8' for obj:\nUnicode error: b'http://m.utusan.com.my/bisnes/korporat/avasb-satssb-bangunkan-kemudahan-mro-di-senai-1.452956#.WL3zw4QPWvs.twitter\\xe8' for obj:\nUnicode error: b'http://m.utusan.com.my/bisnes/korporat/avasb-satssb-bangunkan-kemudahan-mro-di-senai-1.452956#.WL3zw4QPWvs.twitter\\xe8' for obj:\n"
     ]
    },
    {
     "name": "stdout",
     "output_type": "stream",
     "text": [
      "Unicode error: b'http://m.utusan.com.my/bisnes/korporat/avasb-satssb-bangunkan-kemudahan-mro-di-senai-1.452956#.WL3zw4QPWvs.twitter\\xe8' for obj:\nUnicode error: b'http://m.utusan.com.my/bisnes/korporat/avasb-satssb-bangunkan-kemudahan-mro-di-senai-1.452956#.WL3zw4QPWvs.twitter\\xe8' for obj:\nUnicode error: b'http://m.utusan.com.my/bisnes/korporat/avasb-satssb-bangunkan-kemudahan-mro-di-senai-1.452956#.WL3zw4QPWvs.twitter\\xe8' for obj:\n"
     ]
    },
    {
     "name": "stdout",
     "output_type": "stream",
     "text": [
      "Unicode error: b'http://m.utusan.com.my/bisnes/korporat/avasb-satssb-bangunkan-kemudahan-mro-di-senai-1.452956#.WL3zw4QPWvs.twitter\\xe8' for obj:\nUnicode error: b'http://m.utusan.com.my/bisnes/korporat/avasb-satssb-bangunkan-kemudahan-mro-di-senai-1.452956#.WL3zw4QPWvs.twitter\\xe8' for obj:\nUnicode error: b'http://m.utusan.com.my/bisnes/korporat/avasb-satssb-bangunkan-kemudahan-mro-di-senai-1.452956#.WL3zw4QPWvs.twitter\\xe8' for obj:\n"
     ]
    },
    {
     "name": "stdout",
     "output_type": "stream",
     "text": [
      "Unicode error: b'http://m.utusan.com.my/bisnes/korporat/avasb-satssb-bangunkan-kemudahan-mro-di-senai-1.452956#.WL3zw4QPWvs.twitter\\xe8' for obj:\nUnicode error: b'http://m.utusan.com.my/bisnes/korporat/avasb-satssb-bangunkan-kemudahan-mro-di-senai-1.452956#.WL3zw4QPWvs.twitter\\xe8' for obj:\nUnicode error: b'http://m.utusan.com.my/bisnes/korporat/avasb-satssb-bangunkan-kemudahan-mro-di-senai-1.452956#.WL3zw4QPWvs.twitter\\xe8' for obj:\n"
     ]
    },
    {
     "name": "stdout",
     "output_type": "stream",
     "text": [
      "Unicode error: b'http://m.utusan.com.my/bisnes/korporat/avasb-satssb-bangunkan-kemudahan-mro-di-senai-1.452956#.WL3zw4QPWvs.twitter\\xe8' for obj:\nUnicode error: b'http://m.utusan.com.my/bisnes/korporat/avasb-satssb-bangunkan-kemudahan-mro-di-senai-1.452956#.WL3zw4QPWvs.twitter\\xe8' for obj:\nUnicode error: b'http://m.utusan.com.my/bisnes/korporat/avasb-satssb-bangunkan-kemudahan-mro-di-senai-1.452956#.WL3zw4QPWvs.twitter\\xe8' for obj:\n"
     ]
    },
    {
     "name": "stdout",
     "output_type": "stream",
     "text": [
      "Unicode error: b'http://m.utusan.com.my/bisnes/korporat/avasb-satssb-bangunkan-kemudahan-mro-di-senai-1.452956#.WL3zw4QPWvs.twitter\\xe8' for obj:\nUnicode error: b'http://m.utusan.com.my/bisnes/korporat/avasb-satssb-bangunkan-kemudahan-mro-di-senai-1.452956#.WL3zw4QPWvs.twitter\\xe8' for obj:\n"
     ]
    },
    {
     "name": "stdout",
     "output_type": "stream",
     "text": [
      "Unicode error: b'http://m.utusan.com.my/bisnes/korporat/avasb-satssb-bangunkan-kemudahan-mro-di-senai-1.452956#.WL3zw4QPWvs.twitter\\xe8' for obj:\nUnicode error: b'http://m.utusan.com.my/bisnes/korporat/avasb-satssb-bangunkan-kemudahan-mro-di-senai-1.452956#.WL3zw4QPWvs.twitter\\xe8' for obj:\nUnicode error: b'http://m.utusan.com.my/bisnes/korporat/avasb-satssb-bangunkan-kemudahan-mro-di-senai-1.452956#.WL3zw4QPWvs.twitter\\xe8' for obj:\n"
     ]
    },
    {
     "name": "stdout",
     "output_type": "stream",
     "text": [
      "Unicode error: b'http://m.utusan.com.my/bisnes/korporat/avasb-satssb-bangunkan-kemudahan-mro-di-senai-1.452956#.WL3zw4QPWvs.twitter\\xe8' for obj:\nUnicode error: b'http://m.utusan.com.my/bisnes/korporat/avasb-satssb-bangunkan-kemudahan-mro-di-senai-1.452956#.WL3zw4QPWvs.twitter\\xe8' for obj:\nUnicode error: b'http://m.utusan.com.my/bisnes/korporat/avasb-satssb-bangunkan-kemudahan-mro-di-senai-1.452956#.WL3zw4QPWvs.twitter\\xe8' for obj:\n"
     ]
    },
    {
     "name": "stdout",
     "output_type": "stream",
     "text": [
      "Unicode error: b'http://m.utusan.com.my/bisnes/korporat/avasb-satssb-bangunkan-kemudahan-mro-di-senai-1.452956#.WL3zw4QPWvs.twitter\\xe8' for obj:\nUnicode error: b'http://m.utusan.com.my/bisnes/korporat/avasb-satssb-bangunkan-kemudahan-mro-di-senai-1.452956#.WL3zw4QPWvs.twitter\\xe8' for obj:\nUnicode error: b'http://m.utusan.com.my/bisnes/korporat/avasb-satssb-bangunkan-kemudahan-mro-di-senai-1.452956#.WL3zw4QPWvs.twitter\\xe8' for obj:\n"
     ]
    },
    {
     "name": "stdout",
     "output_type": "stream",
     "text": [
      "Unicode error: b'http://m.utusan.com.my/bisnes/korporat/avasb-satssb-bangunkan-kemudahan-mro-di-senai-1.452956#.WL3zw4QPWvs.twitter\\xe8' for obj:\nUnicode error: b'http://m.utusan.com.my/bisnes/korporat/avasb-satssb-bangunkan-kemudahan-mro-di-senai-1.452956#.WL3zw4QPWvs.twitter\\xe8' for obj:\nUnicode error: b'http://m.utusan.com.my/bisnes/korporat/avasb-satssb-bangunkan-kemudahan-mro-di-senai-1.452956#.WL3zw4QPWvs.twitter\\xe8' for obj:\n"
     ]
    },
    {
     "name": "stdout",
     "output_type": "stream",
     "text": [
      "Unicode error: b'http://m.utusan.com.my/bisnes/korporat/avasb-satssb-bangunkan-kemudahan-mro-di-senai-1.452956#.WL3zw4QPWvs.twitter\\xe8' for obj:\nUnicode error: b'http://m.utusan.com.my/bisnes/korporat/avasb-satssb-bangunkan-kemudahan-mro-di-senai-1.452956#.WL3zw4QPWvs.twitter\\xe8' for obj:\n"
     ]
    },
    {
     "name": "stdout",
     "output_type": "stream",
     "text": [
      "Unicode error: b'http://m.utusan.com.my/bisnes/korporat/avasb-satssb-bangunkan-kemudahan-mro-di-senai-1.452956#.WL3zw4QPWvs.twitter\\xe8' for obj:\nUnicode error: b'http://m.utusan.com.my/bisnes/korporat/avasb-satssb-bangunkan-kemudahan-mro-di-senai-1.452956#.WL3zw4QPWvs.twitter\\xe8' for obj:\nUnicode error: b'http://m.utusan.com.my/bisnes/korporat/avasb-satssb-bangunkan-kemudahan-mro-di-senai-1.452956#.WL3zw4QPWvs.twitter\\xe8' for obj:\n"
     ]
    },
    {
     "name": "stdout",
     "output_type": "stream",
     "text": [
      "Unicode error: b'http://m.utusan.com.my/bisnes/korporat/avasb-satssb-bangunkan-kemudahan-mro-di-senai-1.452956#.WL3zw4QPWvs.twitter\\xe8' for obj:\nUnicode error: b'http://m.utusan.com.my/bisnes/korporat/avasb-satssb-bangunkan-kemudahan-mro-di-senai-1.452956#.WL3zw4QPWvs.twitter\\xe8' for obj:\nUnicode error: b'http://m.utusan.com.my/bisnes/korporat/avasb-satssb-bangunkan-kemudahan-mro-di-senai-1.452956#.WL3zw4QPWvs.twitter\\xe8' for obj:\n"
     ]
    },
    {
     "name": "stdout",
     "output_type": "stream",
     "text": [
      "Unicode error: b'http://m.utusan.com.my/bisnes/korporat/avasb-satssb-bangunkan-kemudahan-mro-di-senai-1.452956#.WL3zw4QPWvs.twitter\\xe8' for obj:\nUnicode error: b'http://m.utusan.com.my/bisnes/korporat/avasb-satssb-bangunkan-kemudahan-mro-di-senai-1.452956#.WL3zw4QPWvs.twitter\\xe8' for obj:\n"
     ]
    },
    {
     "name": "stdout",
     "output_type": "stream",
     "text": [
      "Unicode error: b'http://m.utusan.com.my/bisnes/korporat/avasb-satssb-bangunkan-kemudahan-mro-di-senai-1.452956#.WL3zw4QPWvs.twitter\\xe8' for obj:\nUnicode error: b'http://m.utusan.com.my/bisnes/korporat/avasb-satssb-bangunkan-kemudahan-mro-di-senai-1.452956#.WL3zw4QPWvs.twitter\\xe8' for obj:\nUnicode error: b'http://m.utusan.com.my/bisnes/korporat/avasb-satssb-bangunkan-kemudahan-mro-di-senai-1.452956#.WL3zw4QPWvs.twitter\\xe8' for obj:\n"
     ]
    },
    {
     "name": "stdout",
     "output_type": "stream",
     "text": [
      "Unicode error: b'http://m.utusan.com.my/bisnes/korporat/avasb-satssb-bangunkan-kemudahan-mro-di-senai-1.452956#.WL3zw4QPWvs.twitter\\xe8' for obj:\nUnicode error: b'http://m.utusan.com.my/bisnes/korporat/avasb-satssb-bangunkan-kemudahan-mro-di-senai-1.452956#.WL3zw4QPWvs.twitter\\xe8' for obj:\nUnicode error: b'http://m.utusan.com.my/bisnes/korporat/avasb-satssb-bangunkan-kemudahan-mro-di-senai-1.452956#.WL3zw4QPWvs.twitter\\xe8' for obj:\n"
     ]
    },
    {
     "name": "stdout",
     "output_type": "stream",
     "text": [
      "Unicode error: b'http://m.utusan.com.my/bisnes/korporat/avasb-satssb-bangunkan-kemudahan-mro-di-senai-1.452956#.WL3zw4QPWvs.twitter\\xe8' for obj:\nUnicode error: b'http://m.utusan.com.my/bisnes/korporat/avasb-satssb-bangunkan-kemudahan-mro-di-senai-1.452956#.WL3zw4QPWvs.twitter\\xe8' for obj:\nUnicode error: b'http://m.utusan.com.my/bisnes/korporat/avasb-satssb-bangunkan-kemudahan-mro-di-senai-1.452956#.WL3zw4QPWvs.twitter\\xe8' for obj:\n"
     ]
    },
    {
     "name": "stdout",
     "output_type": "stream",
     "text": [
      "Unicode error: b'http://m.utusan.com.my/bisnes/korporat/avasb-satssb-bangunkan-kemudahan-mro-di-senai-1.452956#.WL3zw4QPWvs.twitter\\xe8' for obj:\nUnicode error: b'http://m.utusan.com.my/bisnes/korporat/avasb-satssb-bangunkan-kemudahan-mro-di-senai-1.452956#.WL3zw4QPWvs.twitter\\xe8' for obj:\nUnicode error: b'http://m.utusan.com.my/bisnes/korporat/avasb-satssb-bangunkan-kemudahan-mro-di-senai-1.452956#.WL3zw4QPWvs.twitter\\xe8' for obj:\n"
     ]
    },
    {
     "name": "stdout",
     "output_type": "stream",
     "text": [
      "Unicode error: b'http://m.utusan.com.my/bisnes/korporat/avasb-satssb-bangunkan-kemudahan-mro-di-senai-1.452956#.WL3zw4QPWvs.twitter\\xe8' for obj:\nUnicode error: b'http://m.utusan.com.my/bisnes/korporat/avasb-satssb-bangunkan-kemudahan-mro-di-senai-1.452956#.WL3zw4QPWvs.twitter\\xe8' for obj:\nUnicode error: b'http://m.utusan.com.my/bisnes/korporat/avasb-satssb-bangunkan-kemudahan-mro-di-senai-1.452956#.WL3zw4QPWvs.twitter\\xe8' for obj:\n"
     ]
    },
    {
     "name": "stdout",
     "output_type": "stream",
     "text": [
      "Unicode error: b'http://m.utusan.com.my/bisnes/korporat/avasb-satssb-bangunkan-kemudahan-mro-di-senai-1.452956#.WL3zw4QPWvs.twitter\\xe8' for obj:\nUnicode error: b'http://m.utusan.com.my/bisnes/korporat/avasb-satssb-bangunkan-kemudahan-mro-di-senai-1.452956#.WL3zw4QPWvs.twitter\\xe8' for obj:\nUnicode error: b'http://m.utusan.com.my/bisnes/korporat/avasb-satssb-bangunkan-kemudahan-mro-di-senai-1.452956#.WL3zw4QPWvs.twitter\\xe8' for obj:\n"
     ]
    },
    {
     "name": "stdout",
     "output_type": "stream",
     "text": [
      "Unicode error: b'http://m.utusan.com.my/bisnes/korporat/avasb-satssb-bangunkan-kemudahan-mro-di-senai-1.452956#.WL3zw4QPWvs.twitter\\xe8' for obj:\nUnicode error: b'http://m.utusan.com.my/bisnes/korporat/avasb-satssb-bangunkan-kemudahan-mro-di-senai-1.452956#.WL3zw4QPWvs.twitter\\xe8' for obj:\nUnicode error: b'http://m.utusan.com.my/bisnes/korporat/avasb-satssb-bangunkan-kemudahan-mro-di-senai-1.452956#.WL3zw4QPWvs.twitter\\xe8' for obj:\n"
     ]
    },
    {
     "name": "stdout",
     "output_type": "stream",
     "text": [
      "Unicode error: b'http://m.utusan.com.my/bisnes/korporat/avasb-satssb-bangunkan-kemudahan-mro-di-senai-1.452956#.WL3zw4QPWvs.twitter\\xe8' for obj:\nUnicode error: b'http://m.utusan.com.my/bisnes/korporat/avasb-satssb-bangunkan-kemudahan-mro-di-senai-1.452956#.WL3zw4QPWvs.twitter\\xe8' for obj:\nUnicode error: b'http://m.utusan.com.my/bisnes/korporat/avasb-satssb-bangunkan-kemudahan-mro-di-senai-1.452956#.WL3zw4QPWvs.twitter\\xe8' for obj:\n"
     ]
    },
    {
     "name": "stdout",
     "output_type": "stream",
     "text": [
      "Unicode error: b'http://m.utusan.com.my/bisnes/korporat/avasb-satssb-bangunkan-kemudahan-mro-di-senai-1.452956#.WL3zw4QPWvs.twitter\\xe8' for obj:\nUnicode error: b'http://m.utusan.com.my/bisnes/korporat/avasb-satssb-bangunkan-kemudahan-mro-di-senai-1.452956#.WL3zw4QPWvs.twitter\\xe8' for obj:\nUnicode error: b'http://m.utusan.com.my/bisnes/korporat/avasb-satssb-bangunkan-kemudahan-mro-di-senai-1.452956#.WL3zw4QPWvs.twitter\\xe8' for obj:\n"
     ]
    },
    {
     "name": "stdout",
     "output_type": "stream",
     "text": [
      "Unicode error: b'http://m.utusan.com.my/bisnes/korporat/avasb-satssb-bangunkan-kemudahan-mro-di-senai-1.452956#.WL3zw4QPWvs.twitter\\xe8' for obj:\nUnicode error: b'http://m.utusan.com.my/bisnes/korporat/avasb-satssb-bangunkan-kemudahan-mro-di-senai-1.452956#.WL3zw4QPWvs.twitter\\xe8' for obj:\nUnicode error: b'http://m.utusan.com.my/bisnes/korporat/avasb-satssb-bangunkan-kemudahan-mro-di-senai-1.452956#.WL3zw4QPWvs.twitter\\xe8' for obj:\n"
     ]
    },
    {
     "name": "stdout",
     "output_type": "stream",
     "text": [
      "Unicode error: b'http://m.utusan.com.my/bisnes/korporat/avasb-satssb-bangunkan-kemudahan-mro-di-senai-1.452956#.WL3zw4QPWvs.twitter\\xe8' for obj:\nUnicode error: b'http://m.utusan.com.my/bisnes/korporat/avasb-satssb-bangunkan-kemudahan-mro-di-senai-1.452956#.WL3zw4QPWvs.twitter\\xe8' for obj:\nUnicode error: b'http://m.utusan.com.my/bisnes/korporat/avasb-satssb-bangunkan-kemudahan-mro-di-senai-1.452956#.WL3zw4QPWvs.twitter\\xe8' for obj:\n"
     ]
    },
    {
     "name": "stdout",
     "output_type": "stream",
     "text": [
      "Unicode error: b'http://m.utusan.com.my/bisnes/korporat/avasb-satssb-bangunkan-kemudahan-mro-di-senai-1.452956#.WL3zw4QPWvs.twitter\\xe8' for obj:\nUnicode error: b'http://m.utusan.com.my/bisnes/korporat/avasb-satssb-bangunkan-kemudahan-mro-di-senai-1.452956#.WL3zw4QPWvs.twitter\\xe8' for obj:\nUnicode error: b'http://m.utusan.com.my/bisnes/korporat/avasb-satssb-bangunkan-kemudahan-mro-di-senai-1.452956#.WL3zw4QPWvs.twitter\\xe8' for obj:\n"
     ]
    },
    {
     "name": "stdout",
     "output_type": "stream",
     "text": [
      "Unicode error: b'http://m.utusan.com.my/bisnes/korporat/avasb-satssb-bangunkan-kemudahan-mro-di-senai-1.452956#.WL3zw4QPWvs.twitter\\xe8' for obj:\nUnicode error: b'http://m.utusan.com.my/bisnes/korporat/avasb-satssb-bangunkan-kemudahan-mro-di-senai-1.452956#.WL3zw4QPWvs.twitter\\xe8' for obj:\nUnicode error: b'http://m.utusan.com.my/bisnes/korporat/avasb-satssb-bangunkan-kemudahan-mro-di-senai-1.452956#.WL3zw4QPWvs.twitter\\xe8' for obj:\n"
     ]
    },
    {
     "name": "stdout",
     "output_type": "stream",
     "text": [
      "Unicode error: b'http://m.utusan.com.my/bisnes/korporat/avasb-satssb-bangunkan-kemudahan-mro-di-senai-1.452956#.WL3zw4QPWvs.twitter\\xe8' for obj:\nUnicode error: b'http://m.utusan.com.my/bisnes/korporat/avasb-satssb-bangunkan-kemudahan-mro-di-senai-1.452956#.WL3zw4QPWvs.twitter\\xe8' for obj:\nUnicode error: b'http://m.utusan.com.my/bisnes/korporat/avasb-satssb-bangunkan-kemudahan-mro-di-senai-1.452956#.WL3zw4QPWvs.twitter\\xe8' for obj:\n"
     ]
    },
    {
     "name": "stdout",
     "output_type": "stream",
     "text": [
      "Unicode error: b'http://m.utusan.com.my/bisnes/korporat/avasb-satssb-bangunkan-kemudahan-mro-di-senai-1.452956#.WL3zw4QPWvs.twitter\\xe8' for obj:\nUnicode error: b'http://m.utusan.com.my/bisnes/korporat/avasb-satssb-bangunkan-kemudahan-mro-di-senai-1.452956#.WL3zw4QPWvs.twitter\\xe8' for obj:\nUnicode error: b'http://m.utusan.com.my/bisnes/korporat/avasb-satssb-bangunkan-kemudahan-mro-di-senai-1.452956#.WL3zw4QPWvs.twitter\\xe8' for obj:\n"
     ]
    },
    {
     "name": "stdout",
     "output_type": "stream",
     "text": [
      "Unicode error: b'http://m.utusan.com.my/bisnes/korporat/avasb-satssb-bangunkan-kemudahan-mro-di-senai-1.452956#.WL3zw4QPWvs.twitter\\xe8' for obj:\nUnicode error: b'http://m.utusan.com.my/bisnes/korporat/avasb-satssb-bangunkan-kemudahan-mro-di-senai-1.452956#.WL3zw4QPWvs.twitter\\xe8' for obj:\nUnicode error: b'http://m.utusan.com.my/bisnes/korporat/avasb-satssb-bangunkan-kemudahan-mro-di-senai-1.452956#.WL3zw4QPWvs.twitter\\xe8' for obj:\n"
     ]
    },
    {
     "name": "stdout",
     "output_type": "stream",
     "text": [
      "Unicode error: b'http://m.utusan.com.my/bisnes/korporat/avasb-satssb-bangunkan-kemudahan-mro-di-senai-1.452956#.WL3zw4QPWvs.twitter\\xe8' for obj:\nUnicode error: b'http://m.utusan.com.my/bisnes/korporat/avasb-satssb-bangunkan-kemudahan-mro-di-senai-1.452956#.WL3zw4QPWvs.twitter\\xe8' for obj:\nUnicode error: b'http://m.utusan.com.my/bisnes/korporat/avasb-satssb-bangunkan-kemudahan-mro-di-senai-1.452956#.WL3zw4QPWvs.twitter\\xe8' for obj:\n"
     ]
    },
    {
     "name": "stdout",
     "output_type": "stream",
     "text": [
      "Unicode error: b'http://m.utusan.com.my/bisnes/korporat/avasb-satssb-bangunkan-kemudahan-mro-di-senai-1.452956#.WL3zw4QPWvs.twitter\\xe8' for obj:\nUnicode error: b'http://m.utusan.com.my/bisnes/korporat/avasb-satssb-bangunkan-kemudahan-mro-di-senai-1.452956#.WL3zw4QPWvs.twitter\\xe8' for obj:\nUnicode error: b'http://m.utusan.com.my/bisnes/korporat/avasb-satssb-bangunkan-kemudahan-mro-di-senai-1.452956#.WL3zw4QPWvs.twitter\\xe8' for obj:\n"
     ]
    },
    {
     "name": "stdout",
     "output_type": "stream",
     "text": [
      "Unicode error: b'http://m.utusan.com.my/bisnes/korporat/avasb-satssb-bangunkan-kemudahan-mro-di-senai-1.452956#.WL3zw4QPWvs.twitter\\xe8' for obj:\nUnicode error: b'http://m.utusan.com.my/bisnes/korporat/avasb-satssb-bangunkan-kemudahan-mro-di-senai-1.452956#.WL3zw4QPWvs.twitter\\xe8' for obj:\nUnicode error: b'http://m.utusan.com.my/bisnes/korporat/avasb-satssb-bangunkan-kemudahan-mro-di-senai-1.452956#.WL3zw4QPWvs.twitter\\xe8' for obj:\n"
     ]
    },
    {
     "name": "stdout",
     "output_type": "stream",
     "text": [
      "Unicode error: b'http://m.utusan.com.my/bisnes/korporat/avasb-satssb-bangunkan-kemudahan-mro-di-senai-1.452956#.WL3zw4QPWvs.twitter\\xe8' for obj:\nUnicode error: b'http://m.utusan.com.my/bisnes/korporat/avasb-satssb-bangunkan-kemudahan-mro-di-senai-1.452956#.WL3zw4QPWvs.twitter\\xe8' for obj:\nUnicode error: b'http://m.utusan.com.my/bisnes/korporat/avasb-satssb-bangunkan-kemudahan-mro-di-senai-1.452956#.WL3zw4QPWvs.twitter\\xe8' for obj:\n"
     ]
    },
    {
     "name": "stdout",
     "output_type": "stream",
     "text": [
      "Unicode error: b'http://m.utusan.com.my/bisnes/korporat/avasb-satssb-bangunkan-kemudahan-mro-di-senai-1.452956#.WL3zw4QPWvs.twitter\\xe8' for obj:\nUnicode error: b'http://m.utusan.com.my/bisnes/korporat/avasb-satssb-bangunkan-kemudahan-mro-di-senai-1.452956#.WL3zw4QPWvs.twitter\\xe8' for obj:\nUnicode error: b'http://m.utusan.com.my/bisnes/korporat/avasb-satssb-bangunkan-kemudahan-mro-di-senai-1.452956#.WL3zw4QPWvs.twitter\\xe8' for obj:\n"
     ]
    },
    {
     "name": "stdout",
     "output_type": "stream",
     "text": [
      "Unicode error: b'http://m.utusan.com.my/bisnes/korporat/avasb-satssb-bangunkan-kemudahan-mro-di-senai-1.452956#.WL3zw4QPWvs.twitter\\xe8' for obj:\nUnicode error: b'http://m.utusan.com.my/bisnes/korporat/avasb-satssb-bangunkan-kemudahan-mro-di-senai-1.452956#.WL3zw4QPWvs.twitter\\xe8' for obj:\nUnicode error: b'http://m.utusan.com.my/bisnes/korporat/avasb-satssb-bangunkan-kemudahan-mro-di-senai-1.452956#.WL3zw4QPWvs.twitter\\xe8' for obj:\n"
     ]
    },
    {
     "name": "stdout",
     "output_type": "stream",
     "text": [
      "Unicode error: b'http://m.utusan.com.my/bisnes/korporat/avasb-satssb-bangunkan-kemudahan-mro-di-senai-1.452956#.WL3zw4QPWvs.twitter\\xe8' for obj:\nUnicode error: b'http://m.utusan.com.my/bisnes/korporat/avasb-satssb-bangunkan-kemudahan-mro-di-senai-1.452956#.WL3zw4QPWvs.twitter\\xe8' for obj:\nUnicode error: b'http://m.utusan.com.my/bisnes/korporat/avasb-satssb-bangunkan-kemudahan-mro-di-senai-1.452956#.WL3zw4QPWvs.twitter\\xe8' for obj:\n"
     ]
    },
    {
     "name": "stdout",
     "output_type": "stream",
     "text": [
      "Unicode error: b'http://m.utusan.com.my/bisnes/korporat/avasb-satssb-bangunkan-kemudahan-mro-di-senai-1.452956#.WL3zw4QPWvs.twitter\\xe8' for obj:\nUnicode error: b'http://m.utusan.com.my/bisnes/korporat/avasb-satssb-bangunkan-kemudahan-mro-di-senai-1.452956#.WL3zw4QPWvs.twitter\\xe8' for obj:\nUnicode error: b'http://m.utusan.com.my/bisnes/korporat/avasb-satssb-bangunkan-kemudahan-mro-di-senai-1.452956#.WL3zw4QPWvs.twitter\\xe8' for obj:\n"
     ]
    },
    {
     "name": "stdout",
     "output_type": "stream",
     "text": [
      "Unicode error: b'http://m.utusan.com.my/bisnes/korporat/avasb-satssb-bangunkan-kemudahan-mro-di-senai-1.452956#.WL3zw4QPWvs.twitter\\xe8' for obj:\nUnicode error: b'http://m.utusan.com.my/bisnes/korporat/avasb-satssb-bangunkan-kemudahan-mro-di-senai-1.452956#.WL3zw4QPWvs.twitter\\xe8' for obj:\nUnicode error: b'http://m.utusan.com.my/bisnes/korporat/avasb-satssb-bangunkan-kemudahan-mro-di-senai-1.452956#.WL3zw4QPWvs.twitter\\xe8' for obj:\n"
     ]
    },
    {
     "name": "stdout",
     "output_type": "stream",
     "text": [
      "Unicode error: b'http://m.utusan.com.my/bisnes/korporat/avasb-satssb-bangunkan-kemudahan-mro-di-senai-1.452956#.WL3zw4QPWvs.twitter\\xe8' for obj:\nUnicode error: b'http://m.utusan.com.my/bisnes/korporat/avasb-satssb-bangunkan-kemudahan-mro-di-senai-1.452956#.WL3zw4QPWvs.twitter\\xe8' for obj:\nUnicode error: b'http://m.utusan.com.my/bisnes/korporat/avasb-satssb-bangunkan-kemudahan-mro-di-senai-1.452956#.WL3zw4QPWvs.twitter\\xe8' for obj:\n"
     ]
    },
    {
     "name": "stdout",
     "output_type": "stream",
     "text": [
      "Unicode error: b'http://m.utusan.com.my/bisnes/korporat/avasb-satssb-bangunkan-kemudahan-mro-di-senai-1.452956#.WL3zw4QPWvs.twitter\\xe8' for obj:\nUnicode error: b'http://m.utusan.com.my/bisnes/korporat/avasb-satssb-bangunkan-kemudahan-mro-di-senai-1.452956#.WL3zw4QPWvs.twitter\\xe8' for obj:\nUnicode error: b'http://m.utusan.com.my/bisnes/korporat/avasb-satssb-bangunkan-kemudahan-mro-di-senai-1.452956#.WL3zw4QPWvs.twitter\\xe8' for obj:\n"
     ]
    },
    {
     "name": "stdout",
     "output_type": "stream",
     "text": [
      "Unicode error: b'http://m.utusan.com.my/bisnes/korporat/avasb-satssb-bangunkan-kemudahan-mro-di-senai-1.452956#.WL3zw4QPWvs.twitter\\xe8' for obj:\nUnicode error: b'http://m.utusan.com.my/bisnes/korporat/avasb-satssb-bangunkan-kemudahan-mro-di-senai-1.452956#.WL3zw4QPWvs.twitter\\xe8' for obj:\nUnicode error: b'http://m.utusan.com.my/bisnes/korporat/avasb-satssb-bangunkan-kemudahan-mro-di-senai-1.452956#.WL3zw4QPWvs.twitter\\xe8' for obj:\n"
     ]
    },
    {
     "name": "stdout",
     "output_type": "stream",
     "text": [
      "Unicode error: b'http://m.utusan.com.my/bisnes/korporat/avasb-satssb-bangunkan-kemudahan-mro-di-senai-1.452956#.WL3zw4QPWvs.twitter\\xe8' for obj:\nUnicode error: b'http://m.utusan.com.my/bisnes/korporat/avasb-satssb-bangunkan-kemudahan-mro-di-senai-1.452956#.WL3zw4QPWvs.twitter\\xe8' for obj:\nUnicode error: b'http://m.utusan.com.my/bisnes/korporat/avasb-satssb-bangunkan-kemudahan-mro-di-senai-1.452956#.WL3zw4QPWvs.twitter\\xe8' for obj:\n"
     ]
    },
    {
     "name": "stdout",
     "output_type": "stream",
     "text": [
      "Unicode error: b'http://m.utusan.com.my/bisnes/korporat/avasb-satssb-bangunkan-kemudahan-mro-di-senai-1.452956#.WL3zw4QPWvs.twitter\\xe8' for obj:\nUnicode error: b'http://m.utusan.com.my/bisnes/korporat/avasb-satssb-bangunkan-kemudahan-mro-di-senai-1.452956#.WL3zw4QPWvs.twitter\\xe8' for obj:\nUnicode error: b'http://m.utusan.com.my/bisnes/korporat/avasb-satssb-bangunkan-kemudahan-mro-di-senai-1.452956#.WL3zw4QPWvs.twitter\\xe8' for obj:\n"
     ]
    },
    {
     "name": "stdout",
     "output_type": "stream",
     "text": [
      "Unicode error: b'http://m.utusan.com.my/bisnes/korporat/avasb-satssb-bangunkan-kemudahan-mro-di-senai-1.452956#.WL3zw4QPWvs.twitter\\xe8' for obj:\nUnicode error: b'http://m.utusan.com.my/bisnes/korporat/avasb-satssb-bangunkan-kemudahan-mro-di-senai-1.452956#.WL3zw4QPWvs.twitter\\xe8' for obj:\nUnicode error: b'http://m.utusan.com.my/bisnes/korporat/avasb-satssb-bangunkan-kemudahan-mro-di-senai-1.452956#.WL3zw4QPWvs.twitter\\xe8' for obj:\n"
     ]
    },
    {
     "name": "stdout",
     "output_type": "stream",
     "text": [
      "Unicode error: b'http://m.utusan.com.my/bisnes/korporat/avasb-satssb-bangunkan-kemudahan-mro-di-senai-1.452956#.WL3zw4QPWvs.twitter\\xe8' for obj:\nUnicode error: b'http://m.utusan.com.my/bisnes/korporat/avasb-satssb-bangunkan-kemudahan-mro-di-senai-1.452956#.WL3zw4QPWvs.twitter\\xe8' for obj:\n"
     ]
    },
    {
     "name": "stdout",
     "output_type": "stream",
     "text": [
      "Unicode error: b'http://m.utusan.com.my/bisnes/korporat/avasb-satssb-bangunkan-kemudahan-mro-di-senai-1.452956#.WL3zw4QPWvs.twitter\\xe8' for obj:\nUnicode error: b'http://m.utusan.com.my/bisnes/korporat/avasb-satssb-bangunkan-kemudahan-mro-di-senai-1.452956#.WL3zw4QPWvs.twitter\\xe8' for obj:\nUnicode error: b'http://m.utusan.com.my/bisnes/korporat/avasb-satssb-bangunkan-kemudahan-mro-di-senai-1.452956#.WL3zw4QPWvs.twitter\\xe8' for obj:\n"
     ]
    },
    {
     "name": "stdout",
     "output_type": "stream",
     "text": [
      "Unicode error: b'http://m.utusan.com.my/bisnes/korporat/avasb-satssb-bangunkan-kemudahan-mro-di-senai-1.452956#.WL3zw4QPWvs.twitter\\xe8' for obj:\nUnicode error: b'http://m.utusan.com.my/bisnes/korporat/avasb-satssb-bangunkan-kemudahan-mro-di-senai-1.452956#.WL3zw4QPWvs.twitter\\xe8' for obj:\nUnicode error: b'http://m.utusan.com.my/bisnes/korporat/avasb-satssb-bangunkan-kemudahan-mro-di-senai-1.452956#.WL3zw4QPWvs.twitter\\xe8' for obj:\n"
     ]
    },
    {
     "name": "stdout",
     "output_type": "stream",
     "text": [
      "Unicode error: b'http://m.utusan.com.my/bisnes/korporat/avasb-satssb-bangunkan-kemudahan-mro-di-senai-1.452956#.WL3zw4QPWvs.twitter\\xe8' for obj:\nUnicode error: b'http://m.utusan.com.my/bisnes/korporat/avasb-satssb-bangunkan-kemudahan-mro-di-senai-1.452956#.WL3zw4QPWvs.twitter\\xe8' for obj:\nUnicode error: b'http://m.utusan.com.my/bisnes/korporat/avasb-satssb-bangunkan-kemudahan-mro-di-senai-1.452956#.WL3zw4QPWvs.twitter\\xe8' for obj:\n"
     ]
    },
    {
     "name": "stdout",
     "output_type": "stream",
     "text": [
      "Unicode error: b'http://m.utusan.com.my/bisnes/korporat/avasb-satssb-bangunkan-kemudahan-mro-di-senai-1.452956#.WL3zw4QPWvs.twitter\\xe8' for obj:\nUnicode error: b'http://m.utusan.com.my/bisnes/korporat/avasb-satssb-bangunkan-kemudahan-mro-di-senai-1.452956#.WL3zw4QPWvs.twitter\\xe8' for obj:\nUnicode error: b'http://m.utusan.com.my/bisnes/korporat/avasb-satssb-bangunkan-kemudahan-mro-di-senai-1.452956#.WL3zw4QPWvs.twitter\\xe8' for obj:\n"
     ]
    },
    {
     "name": "stdout",
     "output_type": "stream",
     "text": [
      "Unicode error: b'http://m.utusan.com.my/bisnes/korporat/avasb-satssb-bangunkan-kemudahan-mro-di-senai-1.452956#.WL3zw4QPWvs.twitter\\xe8' for obj:\nUnicode error: b'http://m.utusan.com.my/bisnes/korporat/avasb-satssb-bangunkan-kemudahan-mro-di-senai-1.452956#.WL3zw4QPWvs.twitter\\xe8' for obj:\nUnicode error: b'http://m.utusan.com.my/bisnes/korporat/avasb-satssb-bangunkan-kemudahan-mro-di-senai-1.452956#.WL3zw4QPWvs.twitter\\xe8' for obj:\n"
     ]
    },
    {
     "name": "stdout",
     "output_type": "stream",
     "text": [
      "Unicode error: b'http://m.utusan.com.my/bisnes/korporat/avasb-satssb-bangunkan-kemudahan-mro-di-senai-1.452956#.WL3zw4QPWvs.twitter\\xe8' for obj:\nUnicode error: b'http://m.utusan.com.my/bisnes/korporat/avasb-satssb-bangunkan-kemudahan-mro-di-senai-1.452956#.WL3zw4QPWvs.twitter\\xe8' for obj:\nUnicode error: b'http://m.utusan.com.my/bisnes/korporat/avasb-satssb-bangunkan-kemudahan-mro-di-senai-1.452956#.WL3zw4QPWvs.twitter\\xe8' for obj:\n"
     ]
    },
    {
     "name": "stdout",
     "output_type": "stream",
     "text": [
      "Unicode error: b'http://m.utusan.com.my/bisnes/korporat/avasb-satssb-bangunkan-kemudahan-mro-di-senai-1.452956#.WL3zw4QPWvs.twitter\\xe8' for obj:\nUnicode error: b'http://m.utusan.com.my/bisnes/korporat/avasb-satssb-bangunkan-kemudahan-mro-di-senai-1.452956#.WL3zw4QPWvs.twitter\\xe8' for obj:\nUnicode error: b'http://m.utusan.com.my/bisnes/korporat/avasb-satssb-bangunkan-kemudahan-mro-di-senai-1.452956#.WL3zw4QPWvs.twitter\\xe8' for obj:\nUnicode error: b'http://m.utusan.com.my/bisnes/korporat/avasb-satssb-bangunkan-kemudahan-mro-di-senai-1.452956#.WL3zw4QPWvs.twitter\\xe8' for obj:\n"
     ]
    },
    {
     "name": "stdout",
     "output_type": "stream",
     "text": [
      "Unicode error: b'http://m.utusan.com.my/bisnes/korporat/avasb-satssb-bangunkan-kemudahan-mro-di-senai-1.452956#.WL3zw4QPWvs.twitter\\xe8' for obj:\nUnicode error: b'http://m.utusan.com.my/bisnes/korporat/avasb-satssb-bangunkan-kemudahan-mro-di-senai-1.452956#.WL3zw4QPWvs.twitter\\xe8' for obj:\n"
     ]
    },
    {
     "name": "stdout",
     "output_type": "stream",
     "text": [
      "Unicode error: b'http://m.utusan.com.my/bisnes/korporat/avasb-satssb-bangunkan-kemudahan-mro-di-senai-1.452956#.WL3zw4QPWvs.twitter\\xe8' for obj:\nUnicode error: b'http://m.utusan.com.my/bisnes/korporat/avasb-satssb-bangunkan-kemudahan-mro-di-senai-1.452956#.WL3zw4QPWvs.twitter\\xe8' for obj:\nUnicode error: b'http://m.utusan.com.my/bisnes/korporat/avasb-satssb-bangunkan-kemudahan-mro-di-senai-1.452956#.WL3zw4QPWvs.twitter\\xe8' for obj:\n"
     ]
    },
    {
     "name": "stdout",
     "output_type": "stream",
     "text": [
      "Unicode error: b'http://m.utusan.com.my/bisnes/korporat/avasb-satssb-bangunkan-kemudahan-mro-di-senai-1.452956#.WL3zw4QPWvs.twitter\\xe8' for obj:\nUnicode error: b'http://m.utusan.com.my/bisnes/korporat/avasb-satssb-bangunkan-kemudahan-mro-di-senai-1.452956#.WL3zw4QPWvs.twitter\\xe8' for obj:\nUnicode error: b'http://m.utusan.com.my/bisnes/korporat/avasb-satssb-bangunkan-kemudahan-mro-di-senai-1.452956#.WL3zw4QPWvs.twitter\\xe8' for obj:\n"
     ]
    },
    {
     "name": "stdout",
     "output_type": "stream",
     "text": [
      "Unicode error: b'http://m.utusan.com.my/bisnes/korporat/avasb-satssb-bangunkan-kemudahan-mro-di-senai-1.452956#.WL3zw4QPWvs.twitter\\xe8' for obj:\nUnicode error: b'http://m.utusan.com.my/bisnes/korporat/avasb-satssb-bangunkan-kemudahan-mro-di-senai-1.452956#.WL3zw4QPWvs.twitter\\xe8' for obj:\n"
     ]
    },
    {
     "name": "stdout",
     "output_type": "stream",
     "text": [
      "Unicode error: b'http://m.utusan.com.my/bisnes/korporat/avasb-satssb-bangunkan-kemudahan-mro-di-senai-1.452956#.WL3zw4QPWvs.twitter\\xe8' for obj:\nUnicode error: b'http://m.utusan.com.my/bisnes/korporat/avasb-satssb-bangunkan-kemudahan-mro-di-senai-1.452956#.WL3zw4QPWvs.twitter\\xe8' for obj:\n"
     ]
    },
    {
     "name": "stdout",
     "output_type": "stream",
     "text": [
      "Unicode error: b'http://m.utusan.com.my/bisnes/korporat/avasb-satssb-bangunkan-kemudahan-mro-di-senai-1.452956#.WL3zw4QPWvs.twitter\\xe8' for obj:\nUnicode error: b'http://m.utusan.com.my/bisnes/korporat/avasb-satssb-bangunkan-kemudahan-mro-di-senai-1.452956#.WL3zw4QPWvs.twitter\\xe8' for obj:\nUnicode error: b'http://m.utusan.com.my/bisnes/korporat/avasb-satssb-bangunkan-kemudahan-mro-di-senai-1.452956#.WL3zw4QPWvs.twitter\\xe8' for obj:\n"
     ]
    },
    {
     "name": "stdout",
     "output_type": "stream",
     "text": [
      "Unicode error: b'http://m.utusan.com.my/bisnes/korporat/avasb-satssb-bangunkan-kemudahan-mro-di-senai-1.452956#.WL3zw4QPWvs.twitter\\xe8' for obj:\nUnicode error: b'http://m.utusan.com.my/bisnes/korporat/avasb-satssb-bangunkan-kemudahan-mro-di-senai-1.452956#.WL3zw4QPWvs.twitter\\xe8' for obj:\nUnicode error: b'http://m.utusan.com.my/bisnes/korporat/avasb-satssb-bangunkan-kemudahan-mro-di-senai-1.452956#.WL3zw4QPWvs.twitter\\xe8' for obj:\n"
     ]
    }
   ],
   "source": [
    "unshort = bulkUnshorten(status_urls_flat)"
   ]
  },
  {
   "cell_type": "code",
   "execution_count": 123,
   "metadata": {
    "collapsed": true
   },
   "outputs": [
    {
     "data": {
      "text/plain": [
       "[('https://t.co/PX5IKUYKE0',\n  {'hops': 1,\n   'status_code': 301,\n   'success': False,\n   'final_url': 'http://m.net/',\n   'error': 'ReadTimeout',\n   'original_url': 'https://t.co/PX5IKUYKE0'}),\n ('https://t.co/KJzzP8gQz3',\n  {'hops': 1,\n   'status_code': 301,\n   'success': False,\n   'final_url': 'https://mega.nz/#F!fa4VQQzJ!rnYplZGplWttT1p5nxvPkA',\n   'error': 'ReadTimeout',\n   'original_url': 'https://t.co/KJzzP8gQz3'}),\n ('https://t.co/aawzSKjhni',\n  {'hops': 2,\n   'status_code': 301,\n   'success': False,\n   'final_url': 'https://mega.nz/#!K2pCnSQL!hni9k_ZTScEMdMP4H8WL9NzPKlcpLlCN6JjKIWt4wAE',\n   'error': 'ReadTimeout',\n   'original_url': 'https://t.co/aawzSKjhni'}),\n ('https://t.co/bbSw3kZjvW',\n  {'hops': 2,\n   'status_code': 301,\n   'success': False,\n   'final_url': 'https://mega.nz/',\n   'error': 'ReadTimeout',\n   'original_url': 'https://t.co/bbSw3kZjvW'}),\n ('https://t.co/OVrDKccUEH',\n  {'hops': 2,\n   'status_code': 301,\n   'success': False,\n   'final_url': 'https://item.rakuten.co.jp/musicstore/20190212-014/',\n   'error': 'ReadTimeout',\n   'original_url': 'https://t.co/OVrDKccUEH'})]"
      ]
     },
     "execution_count": 123,
     "metadata": {},
     "output_type": "execute_result"
    }
   ],
   "source": [
    "[(s,d) for s,d in unshort.items() if d['error'] is not None]"
   ]
  },
  {
   "cell_type": "code",
   "execution_count": 2,
   "metadata": {},
   "outputs": [],
   "source": [
    "test_urls = ['https://t.co/xOPFen2beP', 'https://t.co/8df1GQUHmg', 'https://t.co/taGEIWlst9', 'https://t.co/ALHErdM85W', 'https://t.co/Cbt77SbVpu', 'https://t.co/VTJMCshR4V', 'https://t.co/Cy7uUN9Kew', 'https://support.twitter.com/articles/15795', 'https://t.co/LvAFLtkQIT', 'https://t.co/1wUlxjiV73', 'https://t.co/UDWXSdJmQy', 'https://t.co/zoxLTzb5kK', 'https://t.co/eRVV1a1hc0']\n",
    "# test_urls = ['https://t.co/vaRwUGz11g', 'https://t.co/My1U9DF97m', 'https://t.co/VFJCtq0qgt', 'https://t.co/M0mn9VcRjP', 'https://t.co/Ck3bRRqh0a', 'https://t.co/El7lYetklr', 'https://t.co/ZSkc4zkM7g', 'https://t.co/QBt6yjOHYj', 'https://t.co/JpV2OpQcyL', 'https://t.co/YXfyoxeVdK', 'https://t.co/g0OTiAIYbY', 'https://t.co/AuLBnV3rMe', 'https://t.co/Ukh9znDaKG', 'https://t.co/FwQW1hYeJR', 'https://t.co/nDJwGzvKY5', 'https://t.co/uvT5WTDJ1E', 'https://t.co/RGmP3xNIZO', 'https://t.co/3VlZFFNVOK', 'https://t.co/J5nJLxotiv', 'https://t.co/lxIobWsMSY', 'https://t.co/exjNYVkgIZ', 'https://t.co/uvT5WTVjTc', 'https://t.co/JRxYLakUCs', 'https://t.co/bFgGYU4yLs', 'https://t.co/zsYvMFDGng', 'https://t.co/U5A27sgpWp', 'https://t.co/z7ATTi1Zd5', 'https://t.co/SG8pVmXqaN', 'https://t.co/N93nch5QyV', 'https://t.co/D2gWuJ7bfx', 'https://t.co/LKhOE4dLyt', 'https://t.co/YmxXESOe3A', 'https://t.co/3XqwpZeAFt', 'https://t.co/zcqVEz7JSc', 'https://t.co/MyTiloYZzT', 'https://t.co/3BS91Alrw2', 'https://t.co/uwtgRoBhz6', 'https://t.co/PWcMu07nEZ', 'https://t.co/2vNUjjJ1XC', 'https://t.co/8u4yNEVy48', 'https://t.co/5DL3WcZNwZ', 'https://t.co/mim5FYtyav', 'https://t.co/hGVp6ba0jE', 'https://t.co/NtOVV3bsQT', 'https://t.co/K72FQHk9Rl', 'https://t.co/ZcxczVTyHV', 'https://t.co/SOTsU9cY6J', 'https://t.co/yDUUdp1bmb', 'https://t.co/gmmLnVufxP', 'https://t.co/bajfKB6VKU', 'https://t.co/VAhGyptISQ', 'https://t.co/vteobfHsxo', 'https://t.co/oC8ZLeU3dD', 'https://t.co/Yv9eyH7Kgk', 'https://t.co/jaJhZSIUK3', 'https://t.co/woqFeUIhKT', 'https://t.co/WqXNdI2GZd', 'https://t.co/4iP96jIw3A', 'https://t.co/WxW61zSKL1', 'https://t.co/gPiGhCt2F6', 'https://t.co/6eIHxlH7qW', 'https://t.co/XK6U5ZOTV6', 'https://t.co/CmyCKPgfhf', 'https://t.co/FfZSmKSRfW', 'https://t.co/5m7tGhnLT9', 'https://t.co/I1bGpxKn7t', 'https://t.co/J2V2MdoVzm', 'https://t.co/YjQmmehDQU', 'https://t.co/pDkiHFqhyd', 'https://t.co/0ry6iSztoH', 'https://t.co/nAfvxqzz4S', 'https://t.co/mWXij2Hb9r', 'https://t.co/6Ta2jYzDAo', 'https://t.co/EvL8vk39gM', 'https://t.co/IxuzWMHBPT', 'https://t.co/wNZhh2ASpG', 'https://t.co/Hgdm52yc7s', 'https://t.co/QXFbhQEBoo']\n",
    "# test_urls = ['https://t.co/ZaM9NxU448', 'https://t.co/JpcrcHwGsh', 'https://t.co/qbPsHoxNAs', 'https://t.co/4yTfEx4OMl', 'https://t.co/iIcMHOt4GZ', 'https://t.co/fd1sMV0JQo', 'https://t.co/bw7VAPXF8d', 'https://t.co/qw32fFijTF', 'https://t.co/NV4MfTsyjV', 'https://t.co/EiaZzYesjf', 'https://t.co/aXCgWnikAS', 'https://t.co/8OAq13oavE', 'https://t.co/4XVEhtMl8a', 'https://t.co/JjXqcja1VL', 'https://t.co/FDWgTVNxCG', 'https://t.co/pXAle8gPnU', 'https://t.co/fxp09wCryZ', 'https://t.co/bhQojME3RX', 'https://t.co/O6e2sTy7dn', 'https://t.co/qPktYFO2V5', 'https://t.co/Zkc6SgobZX', 'https://t.co/XHR6Fyaaeh', 'https://t.co/vJ4I95PvIm', 'https://t.co/IguncLlwEd']\n"
   ]
  },
  {
   "cell_type": "code",
   "execution_count": 3,
   "metadata": {},
   "outputs": [
    {
     "name": "stdout",
     "output_type": "stream",
     "text": [
      "there are 13 urls at the beggining\nthere are 13 urls in the middle\n"
     ]
    },
    {
     "name": "stdout",
     "output_type": "stream",
     "text": [
      "would pop\nredirect url is: https://twitter.com/i/web/status/1115431232513421316, result.url is https://t.co/1wUlxjiV73\nwould pop\nredirect url is: https://twitter.com/i/web/status/1115431310510690305, result.url is https://t.co/VTJMCshR4V\nwould pop\nredirect url is: https://twitter.com/i/web/status/1115431371583950848, result.url is https://t.co/Cbt77SbVpu\nwould pop\nredirect url is: https://old.reddit.com/r/WrestleManiaLivePPV/comments/bam0xg/wrestlemania_35_livewrestlemania_35_watch_live/?ref=share&ref_source=twitter, result.url is https://t.co/Cy7uUN9Kew\nwould pop\nredirect url is: https://old.reddit.com/r/WrestleManiaLivePPV/comments/bam5nx/wwe_wrestlemania_35_live_wwe_live_streamwwe/?ref=share&ref_source=twitter, result.url is https://t.co/LvAFLtkQIT\nwould pop\nredirect url is: http://bit.ly/2Uuj0Mp, result.url is https://t.co/taGEIWlst9\nwould pop\nredirect url is: https://old.reddit.com/r/WrestleManiaLivePPV/comments/bam3ij/watchwwe_wrestlemania_35_livewwe_live_streamwwe/?ref=share&ref_source=twitter, result.url is https://t.co/zoxLTzb5kK\nwould pop\nredirect url is: https://twitter.com/i/web/status/1115429407831797761, result.url is https://t.co/UDWXSdJmQy\nwould pop\nredirect url is: https://twitter.com/i/web/status/1115430369405415424, result.url is https://t.co/eRVV1a1hc0\nwould pop\nredirect url is: https://help.twitter.com/articles/15795, result.url is https://support.twitter.com/articles/15795\nwould pop\nredirect url is: https://bit.ly/2G2mVWo, result.url is https://t.co/8df1GQUHmg\nwould pop\nredirect url is: https://old.reddit.com/r/WrestleManiaLivePPV/comments/bam6xx/wrestlemania_35_livewrestlemania_35_watch_live/?ref=share&ref_source=twitter, result.url is https://t.co/xOPFen2beP\nwould pop\nredirect url is: https://old.reddit.com/r/WrestleManiaLivePPV/comments/bam6mp/live_stream_wrestlemania_35_onlinewrestlemania/?ref=share&ref_source=twitter, result.url is https://t.co/ALHErdM85W\nthere are 13 urls in the middle\n"
     ]
    },
    {
     "name": "stdout",
     "output_type": "stream",
     "text": [
      "would pop\nredirect url is: https://twitter.com/i/web/status/1115429407831797761, result.url is https://t.co/UDWXSdJmQy\nwould pop\nredirect url is: https://twitter.com/i/web/status/1115431232513421316, result.url is https://t.co/1wUlxjiV73\nwould pop\nredirect url is: https://twitter.com/i/web/status/1115431371583950848, result.url is https://t.co/Cbt77SbVpu\nwould pop\nredirect url is: https://old.reddit.com/r/WrestleManiaLivePPV/comments/bam0xg/wrestlemania_35_livewrestlemania_35_watch_live/?ref=share&ref_source=twitter, result.url is https://t.co/Cy7uUN9Kew\nwould pop\nredirect url is: https://twitter.com/i/web/status/1115431310510690305, result.url is https://t.co/VTJMCshR4V\nwould pop\nredirect url is: https://old.reddit.com/r/WrestleManiaLivePPV/comments/bam6xx/wrestlemania_35_livewrestlemania_35_watch_live/?ref=share&ref_source=twitter, result.url is https://t.co/xOPFen2beP\nwould pop\nredirect url is: http://bit.ly/2Uuj0Mp, result.url is https://t.co/taGEIWlst9\nwould pop\nredirect url is: https://old.reddit.com/r/WrestleManiaLivePPV/comments/bam3ij/watchwwe_wrestlemania_35_livewwe_live_streamwwe/?ref=share&ref_source=twitter, result.url is https://t.co/zoxLTzb5kK\nwould pop\nredirect url is: https://old.reddit.com/r/WrestleManiaLivePPV/comments/bam5nx/wwe_wrestlemania_35_live_wwe_live_streamwwe/?ref=share&ref_source=twitter, result.url is https://t.co/LvAFLtkQIT\nwould pop\nredirect url is: https://twitter.com/i/web/status/1115430369405415424, result.url is https://t.co/eRVV1a1hc0\nwould pop\nredirect url is: https://help.twitter.com/articles/15795, result.url is https://support.twitter.com/articles/15795\nwould pop\nredirect url is: https://old.reddit.com/r/WrestleManiaLivePPV/comments/bam6mp/live_stream_wrestlemania_35_onlinewrestlemania/?ref=share&ref_source=twitter, result.url is https://t.co/ALHErdM85W\nwould pop\nredirect url is: https://bit.ly/2G2mVWo, result.url is https://t.co/8df1GQUHmg\nthere are 13 urls in the middle\n"
     ]
    },
    {
     "name": "stdout",
     "output_type": "stream",
     "text": [
      "would pop\nredirect url is: https://old.reddit.com/r/WrestleManiaLivePPV/comments/bam0xg/wrestlemania_35_livewrestlemania_35_watch_live/?ref=share&ref_source=twitter, result.url is https://t.co/Cy7uUN9Kew\nwould pop\nredirect url is: https://twitter.com/i/web/status/1115430369405415424, result.url is https://t.co/eRVV1a1hc0\nwould pop\nredirect url is: https://twitter.com/i/web/status/1115429407831797761, result.url is https://t.co/UDWXSdJmQy\nwould pop\nredirect url is: https://twitter.com/i/web/status/1115431371583950848, result.url is https://t.co/Cbt77SbVpu\nwould pop\nredirect url is: http://bit.ly/2Uuj0Mp, result.url is https://t.co/taGEIWlst9\nwould pop\nredirect url is: https://bit.ly/2G2mVWo, result.url is https://t.co/8df1GQUHmg\nwould pop\nredirect url is: https://old.reddit.com/r/WrestleManiaLivePPV/comments/bam6xx/wrestlemania_35_livewrestlemania_35_watch_live/?ref=share&ref_source=twitter, result.url is https://t.co/xOPFen2beP\nwould pop\nredirect url is: https://twitter.com/i/web/status/1115431310510690305, result.url is https://t.co/VTJMCshR4V\nwould pop\nredirect url is: https://old.reddit.com/r/WrestleManiaLivePPV/comments/bam3ij/watchwwe_wrestlemania_35_livewwe_live_streamwwe/?ref=share&ref_source=twitter, result.url is https://t.co/zoxLTzb5kK\nwould pop\nredirect url is: https://help.twitter.com/articles/15795, result.url is https://support.twitter.com/articles/15795\nwould pop\nredirect url is: https://twitter.com/i/web/status/1115431232513421316, result.url is https://t.co/1wUlxjiV73\nwould pop\nredirect url is: https://old.reddit.com/r/WrestleManiaLivePPV/comments/bam5nx/wwe_wrestlemania_35_live_wwe_live_streamwwe/?ref=share&ref_source=twitter, result.url is https://t.co/LvAFLtkQIT\nwould pop\nredirect url is: https://old.reddit.com/r/WrestleManiaLivePPV/comments/bam6mp/live_stream_wrestlemania_35_onlinewrestlemania/?ref=share&ref_source=twitter, result.url is https://t.co/ALHErdM85W\nthere are 13 urls in the middle\nthere are 13 urls at the end\n"
     ]
    }
   ],
   "source": [
    "resp_urls = bulkUnshorten(test_urls)\n"
   ]
  },
  {
   "cell_type": "code",
   "execution_count": 4,
   "metadata": {},
   "outputs": [
    {
     "data": {
      "text/plain": [
       "(13, 13)"
      ]
     },
     "execution_count": 4,
     "metadata": {},
     "output_type": "execute_result"
    }
   ],
   "source": [
    "len(test_urls), len(resp_urls)"
   ]
  },
  {
   "cell_type": "code",
   "execution_count": 5,
   "metadata": {},
   "outputs": [
    {
     "data": {
      "text/plain": [
       "{'https://t.co/xOPFen2beP': {'hops': 3,\n  'status_code': 301,\n  'success': None,\n  'final_url': 'https://old.reddit.com/r/WrestleManiaLivePPV/comments/bam6xx/wrestlemania_35_livewrestlemania_35_watch_live/?ref=share&ref_source=twitter',\n  'error': None,\n  'original_url': 'https://t.co/xOPFen2beP'},\n 'https://t.co/8df1GQUHmg': {'hops': 3,\n  'status_code': 301,\n  'success': None,\n  'final_url': 'https://bit.ly/2G2mVWo',\n  'error': None,\n  'original_url': 'https://t.co/8df1GQUHmg'},\n 'https://t.co/taGEIWlst9': {'hops': 3,\n  'status_code': 301,\n  'success': None,\n  'final_url': 'http://bit.ly/2Uuj0Mp',\n  'error': None,\n  'original_url': 'https://t.co/taGEIWlst9'},\n 'https://t.co/ALHErdM85W': {'hops': 3,\n  'status_code': 301,\n  'success': None,\n  'final_url': 'https://old.reddit.com/r/WrestleManiaLivePPV/comments/bam6mp/live_stream_wrestlemania_35_onlinewrestlemania/?ref=share&ref_source=twitter',\n  'error': None,\n  'original_url': 'https://t.co/ALHErdM85W'},\n 'https://t.co/Cbt77SbVpu': {'hops': 3,\n  'status_code': 301,\n  'success': None,\n  'final_url': 'https://twitter.com/i/web/status/1115431371583950848',\n  'error': None,\n  'original_url': 'https://t.co/Cbt77SbVpu'},\n 'https://t.co/VTJMCshR4V': {'hops': 3,\n  'status_code': 301,\n  'success': None,\n  'final_url': 'https://twitter.com/i/web/status/1115431310510690305',\n  'error': None,\n  'original_url': 'https://t.co/VTJMCshR4V'},\n 'https://t.co/Cy7uUN9Kew': {'hops': 3,\n  'status_code': 301,\n  'success': None,\n  'final_url': 'https://old.reddit.com/r/WrestleManiaLivePPV/comments/bam0xg/wrestlemania_35_livewrestlemania_35_watch_live/?ref=share&ref_source=twitter',\n  'error': None,\n  'original_url': 'https://t.co/Cy7uUN9Kew'},\n 'https://support.twitter.com/articles/15795': {'hops': 3,\n  'status_code': 301,\n  'success': None,\n  'final_url': 'https://help.twitter.com/articles/15795',\n  'error': None,\n  'original_url': 'https://support.twitter.com/articles/15795'},\n 'https://t.co/LvAFLtkQIT': {'hops': 3,\n  'status_code': 301,\n  'success': None,\n  'final_url': 'https://old.reddit.com/r/WrestleManiaLivePPV/comments/bam5nx/wwe_wrestlemania_35_live_wwe_live_streamwwe/?ref=share&ref_source=twitter',\n  'error': None,\n  'original_url': 'https://t.co/LvAFLtkQIT'},\n 'https://t.co/1wUlxjiV73': {'hops': 3,\n  'status_code': 301,\n  'success': None,\n  'final_url': 'https://twitter.com/i/web/status/1115431232513421316',\n  'error': None,\n  'original_url': 'https://t.co/1wUlxjiV73'},\n 'https://t.co/UDWXSdJmQy': {'hops': 3,\n  'status_code': 301,\n  'success': None,\n  'final_url': 'https://twitter.com/i/web/status/1115429407831797761',\n  'error': None,\n  'original_url': 'https://t.co/UDWXSdJmQy'},\n 'https://t.co/zoxLTzb5kK': {'hops': 3,\n  'status_code': 301,\n  'success': None,\n  'final_url': 'https://old.reddit.com/r/WrestleManiaLivePPV/comments/bam3ij/watchwwe_wrestlemania_35_livewwe_live_streamwwe/?ref=share&ref_source=twitter',\n  'error': None,\n  'original_url': 'https://t.co/zoxLTzb5kK'},\n 'https://t.co/eRVV1a1hc0': {'hops': 3,\n  'status_code': 301,\n  'success': None,\n  'final_url': 'https://twitter.com/i/web/status/1115430369405415424',\n  'error': None,\n  'original_url': 'https://t.co/eRVV1a1hc0'}}"
      ]
     },
     "execution_count": 5,
     "metadata": {},
     "output_type": "execute_result"
    }
   ],
   "source": [
    "resp_urls"
   ]
  },
  {
   "cell_type": "code",
   "execution_count": 105,
   "metadata": {},
   "outputs": [],
   "source": [
    "left_overs = [l for l in test_urls if l not in resp_urls.keys()]"
   ]
  },
  {
   "cell_type": "code",
   "execution_count": 106,
   "metadata": {},
   "outputs": [
    {
     "data": {
      "text/plain": [
       "['https://t.co/uvT5WTVjTc', 'https://t.co/5DL3WcZNwZ']"
      ]
     },
     "execution_count": 106,
     "metadata": {},
     "output_type": "execute_result"
    }
   ],
   "source": [
    "left_overs"
   ]
  },
  {
   "cell_type": "code",
   "execution_count": 107,
   "metadata": {},
   "outputs": [
    {
     "data": {
      "text/plain": [
       "{'https://t.co/uvT5WTVjTc': {'hops': 1,\n  'status_code': 200,\n  'success': True,\n  'final_url': 'https://realproductkeys.org/lumion-crack/',\n  'error': None,\n  'original_url': 'https://t.co/uvT5WTVjTc'},\n 'https://t.co/5DL3WcZNwZ': {'hops': 1,\n  'status_code': 200,\n  'success': True,\n  'final_url': 'https://crackproductkey.com/wondershare-mobiletrans-crack/',\n  'error': None,\n  'original_url': 'https://t.co/5DL3WcZNwZ'}}"
      ]
     },
     "execution_count": 107,
     "metadata": {},
     "output_type": "execute_result"
    }
   ],
   "source": [
    "bulkUnshorten(left_overs)"
   ]
  },
  {
   "cell_type": "code",
   "execution_count": 101,
   "metadata": {},
   "outputs": [
    {
     "data": {
      "text/plain": [
       "{'https://t.co/bw7VAPXF8d': {'hops': 2,\n  'status_code': 200,\n  'success': True,\n  'final_url': 'https://twitter.com/account/suspended',\n  'error': None,\n  'original_url': 'https://t.co/bw7VAPXF8d'}}"
      ]
     },
     "execution_count": 101,
     "metadata": {},
     "output_type": "execute_result"
    }
   ],
   "source": [
    "bulkUnshorten('https://t.co/bw7VAPXF8d')"
   ]
  },
  {
   "cell_type": "code",
   "execution_count": 80,
   "metadata": {},
   "outputs": [
    {
     "data": {
      "text/plain": [
       "['https://realproductkeys.org/hotspot-shield-elite-crack/',\n 'https://realproductkeys.org/lumion-crack/',\n 'https://crackproductkey.com/vmix-crack/',\n 'https://crackproductkey.com/wondershare-allmytube-crack/',\n 'https://realproductkeys.org/corel-draw-crack-crack/',\n 'https://realproductkeys.org/driverpack-solution-online-crack/',\n 'https://realproductkeys.org/psiphon-crack/',\n 'https://crackproductkey.com/daemon-tools-lite-crack/',\n 'https://realproductkeys.org/vmware-workstation-pro-crack/',\n 'https://crackproductkey.com/vsdc-free-video-editor-crack/',\n 'https://crackproductkey.com/minitool-partition-wizard-crack/',\n 'https://crackproductkey.com/keyshot-pro-crack/',\n 'https://realproductkeys.org/korg-pa-manager-crack/',\n 'https://realproductkeys.org/spyhunter-5-crack/',\n 'https://crackproductkey.com/global-mapper-crack/',\n 'https://realproductkeys.org/nitro-pro-crack/',\n 'https://realproductkeys.org/xshell-free-build-crack/',\n 'https://realproductkeys.org/unity-crack/',\n 'https://crackproductkey.com/wtfast-crack/',\n 'https://realproductkeys.org/advanced-system-repair-pro-crack/',\n 'https://realproductkeys.org/wondershare-recoverit-crack/',\n 'https://realproductkeys.org/home-designer-pro-crack/',\n 'https://realproductkeys.org/total-av-antivirus-crack/',\n 'https://realproductkeys.org/cardrecovery-key-crack/',\n 'https://crackproductkey.com/teamviewer-crack/',\n 'https://crackproductkey.com/internet-download-manager-crack/',\n 'https://crackproductkey.com/obs-studio-crack/',\n 'https://crackproductkey.com/autodesk-autocad-electrical-crack/',\n 'https://realproductkeys.org/wondershare-mobiletrans-crack/',\n 'https://realproductkeys.org/snapgene-crack/',\n 'https://realproductkeys.org/freemake-video-converter-crack-2/',\n 'https://crackproductkey.com/wondershare-mobiletrans-crack/',\n 'https://crackproductkey.com/xftp-free-build-crack/',\n 'https://crackproductkey.com/windows-repair-crack/',\n 'https://crackproductkey.com/sublime-text-crack/',\n 'https://crackproductkey.com/global-mapper-crack-2/',\n 'https://crackproductkey.com/4k-video-downloader-crack/',\n 'https://crackproductkey.com/camtasia-studio-crack/',\n 'https://www.youtube.com/watch?v=5nzlLCzDyDk&feature=youtu.be',\n 'https://www.youtube.com/watch?v=Y-7FD-GJJYI&feature=youtu.be',\n 'https://www.youtube.com/watch?v=kK3fP_aplTs&feature=youtu.be',\n 'https://www.youtube.com/watch?v=pujkEsgDLlg&feature=youtu.be',\n 'https://www.youtube.com/watch?v=oKWAsA_DNtY&feature=youtu.be',\n 'https://www.youtube.com/watch?v=aN7Hw5ULo9M&feature=youtu.be',\n 'https://www.youtube.com/watch?v=40NLMUxpHMM&feature=youtu.be',\n 'https://www.youtube.com/watch?v=xjwyGOM4ARg&feature=youtu.be',\n 'https://www.youtube.com/watch?v=qC--HO4XlU8&feature=youtu.be',\n 'https://www.youtube.com/watch?v=ev3VKjGClMw&feature=youtu.be',\n 'https://www.youtube.com/watch?v=ul6NOuog3Bk&feature=youtu.be',\n 'https://www.youtube.com/watch?v=e5ox7ZCzyHA&feature=youtu.be',\n 'https://www.youtube.com/watch?v=BTBPe6DUaCM&feature=youtu.be',\n 'https://www.youtube.com/watch?v=89qcBCDgbgk&feature=youtu.be',\n 'https://www.youtube.com/watch?v=TMwwf4v-Upw&feature=youtu.be',\n 'https://www.youtube.com/watch?v=SEzGAu-Dp1Q&feature=youtu.be',\n 'https://www.youtube.com/watch?v=pHi6zgIAPMY&feature=youtu.be',\n 'https://www.youtube.com/watch?v=VgivuBASIcw&feature=youtu.be',\n 'https://www.youtube.com/watch?v=FnWPY7Nra7w&feature=youtu.be',\n 'https://www.youtube.com/watch?v=X2UB1sZtJ2Q&feature=youtu.be',\n 'https://www.youtube.com/watch?v=BEG3uwcdzCw&feature=youtu.be',\n 'https://www.youtube.com/watch?v=KQrezACvYNQ&feature=youtu.be',\n 'https://www.youtube.com/watch?v=E3eOiE1KIHE&feature=youtu.be',\n 'https://www.youtube.com/watch?v=rmA0cyC1FuI&feature=youtu.be',\n 'https://www.youtube.com/watch?v=Oj1lpb8UA7w&feature=youtu.be',\n 'https://www.youtube.com/watch?v=cncjSOt0S-k&feature=youtu.be',\n 'https://www.youtube.com/watch?v=zmxHuTdacBg&feature=youtu.be',\n 'https://www.youtube.com/watch?v=i-KsSbotZ80&feature=youtu.be',\n 'https://www.youtube.com/watch?v=wOaaQzBuu3A&feature=youtu.be',\n 'https://www.youtube.com/watch?v=8iEeDHwiNwE&feature=youtu.be',\n 'https://www.youtube.com/watch?v=d0Wntq1oWhM&feature=youtu.be',\n 'https://www.youtube.com/watch?v=amsKpLeuxWA&feature=youtu.be',\n 'https://www.youtube.com/watch?v=At9TLC6-d7c&feature=youtu.be',\n 'https://www.youtube.com/watch?v=iTiu7XXY20c&feature=youtu.be',\n 'https://www.youtube.com/watch?v=89f-zHazpOY&feature=youtu.be',\n 'https://www.youtube.com/watch?v=oQRpFC1rSjI&feature=youtu.be',\n 'https://www.youtube.com/watch?v=JCCQqP1B8fI&feature=youtu.be',\n 'https://www.youtube.com/watch?v=BSl2GxuN5Ew&feature=youtu.be']"
      ]
     },
     "execution_count": 80,
     "metadata": {},
     "output_type": "execute_result"
    }
   ],
   "source": [
    "[v['final_url'] for k, v in resp_urls.items()]"
   ]
  },
  {
   "cell_type": "code",
   "execution_count": null,
   "metadata": {},
   "outputs": [],
   "source": []
  }
 ],
 "metadata": {
  "kernelspec": {
   "display_name": "Python 3",
   "language": "python",
   "name": "python3"
  },
  "language_info": {
   "codemirror_mode": {
    "name": "ipython",
    "version": 3
   },
   "file_extension": ".py",
   "mimetype": "text/x-python",
   "name": "python",
   "nbconvert_exporter": "python",
   "pygments_lexer": "ipython3",
   "version": "3.6.5"
  }
 },
 "nbformat": 4,
 "nbformat_minor": 1
}
